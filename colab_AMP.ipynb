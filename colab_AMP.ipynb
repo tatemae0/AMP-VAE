{
 "cells": [
  {
   "cell_type": "code",
   "execution_count": 1,
   "metadata": {
    "colab": {
     "base_uri": "https://localhost:8080/"
    },
    "collapsed": true,
    "id": "UyHqkqqG0z4o",
    "outputId": "32b1a7bd-3b00-476f-fb88-984a59197ff6"
   },
   "outputs": [
    {
     "name": "stdout",
     "output_type": "stream",
     "text": [
      "Looking in indexes: https://pypi.org/simple, https://us-python.pkg.dev/colab-wheels/public/simple/\n",
      "Collecting keras_tuner\n",
      "  Downloading keras_tuner-1.1.3-py3-none-any.whl (135 kB)\n",
      "\u001b[K     |████████████████████████████████| 135 kB 35.2 MB/s \n",
      "\u001b[?25hRequirement already satisfied: requests in /usr/local/lib/python3.8/dist-packages (from keras_tuner) (2.23.0)\n",
      "Requirement already satisfied: packaging in /usr/local/lib/python3.8/dist-packages (from keras_tuner) (21.3)\n",
      "Requirement already satisfied: tensorboard in /usr/local/lib/python3.8/dist-packages (from keras_tuner) (2.9.1)\n",
      "Collecting kt-legacy\n",
      "  Downloading kt_legacy-1.0.4-py3-none-any.whl (9.6 kB)\n",
      "Requirement already satisfied: numpy in /usr/local/lib/python3.8/dist-packages (from keras_tuner) (1.21.6)\n",
      "Requirement already satisfied: ipython in /usr/local/lib/python3.8/dist-packages (from keras_tuner) (7.9.0)\n",
      "Requirement already satisfied: setuptools>=18.5 in /usr/local/lib/python3.8/dist-packages (from ipython->keras_tuner) (57.4.0)\n",
      "Requirement already satisfied: pexpect in /usr/local/lib/python3.8/dist-packages (from ipython->keras_tuner) (4.8.0)\n",
      "Requirement already satisfied: traitlets>=4.2 in /usr/local/lib/python3.8/dist-packages (from ipython->keras_tuner) (5.7.1)\n",
      "Collecting jedi>=0.10\n",
      "  Downloading jedi-0.18.2-py2.py3-none-any.whl (1.6 MB)\n",
      "\u001b[K     |████████████████████████████████| 1.6 MB 41.2 MB/s \n",
      "\u001b[?25hRequirement already satisfied: decorator in /usr/local/lib/python3.8/dist-packages (from ipython->keras_tuner) (4.4.2)\n",
      "Requirement already satisfied: pickleshare in /usr/local/lib/python3.8/dist-packages (from ipython->keras_tuner) (0.7.5)\n",
      "Requirement already satisfied: pygments in /usr/local/lib/python3.8/dist-packages (from ipython->keras_tuner) (2.6.1)\n",
      "Requirement already satisfied: prompt-toolkit<2.1.0,>=2.0.0 in /usr/local/lib/python3.8/dist-packages (from ipython->keras_tuner) (2.0.10)\n",
      "Requirement already satisfied: backcall in /usr/local/lib/python3.8/dist-packages (from ipython->keras_tuner) (0.2.0)\n",
      "Requirement already satisfied: parso<0.9.0,>=0.8.0 in /usr/local/lib/python3.8/dist-packages (from jedi>=0.10->ipython->keras_tuner) (0.8.3)\n",
      "Requirement already satisfied: wcwidth in /usr/local/lib/python3.8/dist-packages (from prompt-toolkit<2.1.0,>=2.0.0->ipython->keras_tuner) (0.2.5)\n",
      "Requirement already satisfied: six>=1.9.0 in /usr/local/lib/python3.8/dist-packages (from prompt-toolkit<2.1.0,>=2.0.0->ipython->keras_tuner) (1.15.0)\n",
      "Requirement already satisfied: pyparsing!=3.0.5,>=2.0.2 in /usr/local/lib/python3.8/dist-packages (from packaging->keras_tuner) (3.0.9)\n",
      "Requirement already satisfied: ptyprocess>=0.5 in /usr/local/lib/python3.8/dist-packages (from pexpect->ipython->keras_tuner) (0.7.0)\n",
      "Requirement already satisfied: certifi>=2017.4.17 in /usr/local/lib/python3.8/dist-packages (from requests->keras_tuner) (2022.12.7)\n",
      "Requirement already satisfied: urllib3!=1.25.0,!=1.25.1,<1.26,>=1.21.1 in /usr/local/lib/python3.8/dist-packages (from requests->keras_tuner) (1.24.3)\n",
      "Requirement already satisfied: idna<3,>=2.5 in /usr/local/lib/python3.8/dist-packages (from requests->keras_tuner) (2.10)\n",
      "Requirement already satisfied: chardet<4,>=3.0.2 in /usr/local/lib/python3.8/dist-packages (from requests->keras_tuner) (3.0.4)\n",
      "Requirement already satisfied: werkzeug>=1.0.1 in /usr/local/lib/python3.8/dist-packages (from tensorboard->keras_tuner) (1.0.1)\n",
      "Requirement already satisfied: markdown>=2.6.8 in /usr/local/lib/python3.8/dist-packages (from tensorboard->keras_tuner) (3.4.1)\n",
      "Requirement already satisfied: google-auth<3,>=1.6.3 in /usr/local/lib/python3.8/dist-packages (from tensorboard->keras_tuner) (2.15.0)\n",
      "Requirement already satisfied: tensorboard-data-server<0.7.0,>=0.6.0 in /usr/local/lib/python3.8/dist-packages (from tensorboard->keras_tuner) (0.6.1)\n",
      "Requirement already satisfied: protobuf<3.20,>=3.9.2 in /usr/local/lib/python3.8/dist-packages (from tensorboard->keras_tuner) (3.19.6)\n",
      "Requirement already satisfied: tensorboard-plugin-wit>=1.6.0 in /usr/local/lib/python3.8/dist-packages (from tensorboard->keras_tuner) (1.8.1)\n",
      "Requirement already satisfied: wheel>=0.26 in /usr/local/lib/python3.8/dist-packages (from tensorboard->keras_tuner) (0.38.4)\n",
      "Requirement already satisfied: absl-py>=0.4 in /usr/local/lib/python3.8/dist-packages (from tensorboard->keras_tuner) (1.3.0)\n",
      "Requirement already satisfied: google-auth-oauthlib<0.5,>=0.4.1 in /usr/local/lib/python3.8/dist-packages (from tensorboard->keras_tuner) (0.4.6)\n",
      "Requirement already satisfied: grpcio>=1.24.3 in /usr/local/lib/python3.8/dist-packages (from tensorboard->keras_tuner) (1.51.1)\n",
      "Requirement already satisfied: rsa<5,>=3.1.4 in /usr/local/lib/python3.8/dist-packages (from google-auth<3,>=1.6.3->tensorboard->keras_tuner) (4.9)\n",
      "Requirement already satisfied: pyasn1-modules>=0.2.1 in /usr/local/lib/python3.8/dist-packages (from google-auth<3,>=1.6.3->tensorboard->keras_tuner) (0.2.8)\n",
      "Requirement already satisfied: cachetools<6.0,>=2.0.0 in /usr/local/lib/python3.8/dist-packages (from google-auth<3,>=1.6.3->tensorboard->keras_tuner) (5.2.0)\n",
      "Requirement already satisfied: requests-oauthlib>=0.7.0 in /usr/local/lib/python3.8/dist-packages (from google-auth-oauthlib<0.5,>=0.4.1->tensorboard->keras_tuner) (1.3.1)\n",
      "Requirement already satisfied: importlib-metadata>=4.4 in /usr/local/lib/python3.8/dist-packages (from markdown>=2.6.8->tensorboard->keras_tuner) (5.1.0)\n",
      "Requirement already satisfied: zipp>=0.5 in /usr/local/lib/python3.8/dist-packages (from importlib-metadata>=4.4->markdown>=2.6.8->tensorboard->keras_tuner) (3.11.0)\n",
      "Requirement already satisfied: pyasn1<0.5.0,>=0.4.6 in /usr/local/lib/python3.8/dist-packages (from pyasn1-modules>=0.2.1->google-auth<3,>=1.6.3->tensorboard->keras_tuner) (0.4.8)\n",
      "Requirement already satisfied: oauthlib>=3.0.0 in /usr/local/lib/python3.8/dist-packages (from requests-oauthlib>=0.7.0->google-auth-oauthlib<0.5,>=0.4.1->tensorboard->keras_tuner) (3.2.2)\n",
      "Installing collected packages: jedi, kt-legacy, keras-tuner\n",
      "Successfully installed jedi-0.18.2 keras-tuner-1.1.3 kt-legacy-1.0.4\n"
     ]
    }
   ],
   "source": [
    "!pip install keras_tuner # Only necessary on Colab"
   ]
  },
  {
   "cell_type": "markdown",
   "metadata": {
    "id": "PSbRpQtLMLN-"
   },
   "source": [
    "# Import Libraries"
   ]
  },
  {
   "cell_type": "code",
   "execution_count": 1,
   "metadata": {
    "id": "4Jk00fQVXBx8"
   },
   "outputs": [
    {
     "name": "stderr",
     "output_type": "stream",
     "text": [
      "2023-01-03 22:45:54.564376: W tensorflow/compiler/xla/stream_executor/platform/default/dso_loader.cc:64] Could not load dynamic library 'libcudart.so.11.0'; dlerror: libcudart.so.11.0: cannot open shared object file: No such file or directory\n",
      "2023-01-03 22:45:54.564427: I tensorflow/compiler/xla/stream_executor/cuda/cudart_stub.cc:29] Ignore above cudart dlerror if you do not have a GPU set up on your machine.\n",
      "2023-01-03 22:45:56.715881: W tensorflow/compiler/xla/stream_executor/platform/default/dso_loader.cc:64] Could not load dynamic library 'libnvinfer.so.7'; dlerror: libnvinfer.so.7: cannot open shared object file: No such file or directory\n",
      "2023-01-03 22:45:56.715987: W tensorflow/compiler/xla/stream_executor/platform/default/dso_loader.cc:64] Could not load dynamic library 'libnvinfer_plugin.so.7'; dlerror: libnvinfer_plugin.so.7: cannot open shared object file: No such file or directory\n",
      "2023-01-03 22:45:56.715999: W tensorflow/compiler/tf2tensorrt/utils/py_utils.cc:38] TF-TRT Warning: Cannot dlopen some TensorRT libraries. If you would like to use Nvidia GPU with TensorRT, please make sure the missing libraries mentioned above are installed properly.\n"
     ]
    }
   ],
   "source": [
    "import numpy as np\n",
    "import tensorflow as tf\n",
    "from tensorflow import keras\n",
    "from keras.layers import Layer, Dense, LSTM, Input, RepeatVector, TextVectorization\n",
    "import keras_tuner as kt\n",
    "from keras.losses import mse #binary_crossentropy, mean_squared_error\n",
    "from keras.models import Model\n",
    "from keras import backend as K\n",
    "import pandas as pd\n",
    "import seaborn as sns\n",
    "import scipy\n",
    "from random import shuffle\n",
    "import matplotlib.pyplot as plt\n"
   ]
  },
  {
   "cell_type": "markdown",
   "metadata": {
    "id": "_wf0CW4dKm0k"
   },
   "source": [
    "## Data Processing: list --> tensor"
   ]
  },
  {
   "cell_type": "code",
   "execution_count": 34,
   "metadata": {
    "id": "sScguQNYMHH2"
   },
   "outputs": [],
   "source": [
    "grampaSeqences = []\n",
    "with open(\"data/grampaReduced.csv\", \"r\") as grampaFile: # MAKE sure that .csv is discoverable @ path.\n",
    "    lines=grampaFile.readlines()\n",
    "\n",
    "allSequences = []\n",
    "for idx, string in enumerate(lines[1:]): # line 0 is header\n",
    "    allSequences.append([string.split(\",\")[0].strip(\"\\\"\"),string.split(\",\")[1].strip(\"\\n\\\"\")]) # Clean strings\n",
    "\n",
    "allSequencesdf = pd.DataFrame(allSequences)\n",
    "allSequencesdf.rename(columns={0:\"Sequence\", 1:\"Species\"}, inplace=True)\n",
    "mask = allSequencesdf[\"Sequence\"].str.contains(\"[klgarivfspctwnhqyedm]\", case=False, regex=True) # Only standard aa's.\n",
    "\n",
    "# Inversion of the mask allows us to look at the excluded sequences. \n",
    "# mask = ~mask\n",
    "\n",
    "# Use the mask to filter the dataframe\n",
    "allSequencesdf = allSequencesdf[mask]\n",
    "data = allSequences"
   ]
  },
  {
   "cell_type": "code",
   "execution_count": 33,
   "metadata": {},
   "outputs": [
    {
     "data": {
      "text/plain": [
       "51345"
      ]
     },
     "execution_count": 33,
     "metadata": {},
     "output_type": "execute_result"
    }
   ],
   "source": [
    "len(data)"
   ]
  },
  {
   "cell_type": "code",
   "execution_count": 27,
   "metadata": {},
   "outputs": [
    {
     "data": {
      "text/plain": [
       "-31795"
      ]
     },
     "execution_count": 27,
     "metadata": {},
     "output_type": "execute_result"
    }
   ],
   "source": [
    "def remove_non_standard(words): #filter out undesirable sequences (non-standard aa for now)\n",
    "    return [word for word in words if \"U\" not in word and \"X\" not in word and \"\" not in word]\n",
    "len(remove_non_standard(justSequences)) - len(justSequences)"
   ]
  },
  {
   "cell_type": "code",
   "execution_count": 69,
   "metadata": {},
   "outputs": [],
   "source": [
    "pd.set_option('display.max_rows', 50)\n",
    "np.set_printoptions(edgeitems=50, linewidth=100)"
   ]
  },
  {
   "cell_type": "code",
   "execution_count": 128,
   "metadata": {},
   "outputs": [
    {
     "data": {
      "text/plain": [
       "20"
      ]
     },
     "execution_count": 128,
     "metadata": {},
     "output_type": "execute_result"
    }
   ],
   "source": [
    "new_vocab = ['K','L','G','A','R','I','V','F','S','P','C','T','W','N','H','Q','Y','E','D','M']\n",
    "len(new_vocab)"
   ]
  },
  {
   "cell_type": "code",
   "execution_count": 127,
   "metadata": {
    "colab": {
     "base_uri": "https://localhost:8080/"
    },
    "collapsed": true,
    "id": "b-NigigLWtS5",
    "outputId": "61fe7c82-acff-4758-8655-53388df8d840"
   },
   "outputs": [
    {
     "ename": "ValueError",
     "evalue": "Attempted to set a vocabulary larger than the maximum vocab size. Passed vocab size is 22, max vocab size is 20.",
     "output_type": "error",
     "traceback": [
      "\u001b[0;31m---------------------------------------------------------------------------\u001b[0m",
      "\u001b[0;31mValueError\u001b[0m                                Traceback (most recent call last)",
      "File \u001b[0;32m<timed exec>:9\u001b[0m\n",
      "File \u001b[0;32m~/.local/lib/python3.10/site-packages/keras/layers/preprocessing/text_vectorization.py:389\u001b[0m, in \u001b[0;36mTextVectorization.__init__\u001b[0;34m(self, max_tokens, standardize, split, ngrams, output_mode, output_sequence_length, pad_to_max_tokens, vocabulary, idf_weights, sparse, ragged, encoding, **kwargs)\u001b[0m\n\u001b[1;32m    384\u001b[0m \u001b[38;5;28msuper\u001b[39m()\u001b[38;5;241m.\u001b[39m\u001b[38;5;21m__init__\u001b[39m(\u001b[38;5;241m*\u001b[39m\u001b[38;5;241m*\u001b[39mkwargs)\n\u001b[1;32m    385\u001b[0m base_preprocessing_layer\u001b[38;5;241m.\u001b[39mkeras_kpl_gauge\u001b[38;5;241m.\u001b[39mget_cell(\n\u001b[1;32m    386\u001b[0m     \u001b[38;5;124m\"\u001b[39m\u001b[38;5;124mTextVectorization\u001b[39m\u001b[38;5;124m\"\u001b[39m\n\u001b[1;32m    387\u001b[0m )\u001b[38;5;241m.\u001b[39mset(\u001b[38;5;28;01mTrue\u001b[39;00m)\n\u001b[0;32m--> 389\u001b[0m \u001b[38;5;28mself\u001b[39m\u001b[38;5;241m.\u001b[39m_lookup_layer \u001b[38;5;241m=\u001b[39m \u001b[43mstring_lookup\u001b[49m\u001b[38;5;241;43m.\u001b[39;49m\u001b[43mStringLookup\u001b[49m\u001b[43m(\u001b[49m\n\u001b[1;32m    390\u001b[0m \u001b[43m    \u001b[49m\u001b[43mmax_tokens\u001b[49m\u001b[38;5;241;43m=\u001b[39;49m\u001b[43mmax_tokens\u001b[49m\u001b[43m,\u001b[49m\n\u001b[1;32m    391\u001b[0m \u001b[43m    \u001b[49m\u001b[43mvocabulary\u001b[49m\u001b[38;5;241;43m=\u001b[39;49m\u001b[43mvocabulary\u001b[49m\u001b[43m,\u001b[49m\n\u001b[1;32m    392\u001b[0m \u001b[43m    \u001b[49m\u001b[43midf_weights\u001b[49m\u001b[38;5;241;43m=\u001b[39;49m\u001b[43midf_weights\u001b[49m\u001b[43m,\u001b[49m\n\u001b[1;32m    393\u001b[0m \u001b[43m    \u001b[49m\u001b[43mpad_to_max_tokens\u001b[49m\u001b[38;5;241;43m=\u001b[39;49m\u001b[43mpad_to_max_tokens\u001b[49m\u001b[43m,\u001b[49m\n\u001b[1;32m    394\u001b[0m \u001b[43m    \u001b[49m\u001b[43mmask_token\u001b[49m\u001b[38;5;241;43m=\u001b[39;49m\u001b[38;5;124;43m\"\u001b[39;49m\u001b[38;5;124;43m\"\u001b[39;49m\u001b[43m,\u001b[49m\n\u001b[1;32m    395\u001b[0m \u001b[43m    \u001b[49m\u001b[43moutput_mode\u001b[49m\u001b[38;5;241;43m=\u001b[39;49m\u001b[43moutput_mode\u001b[49m\u001b[43m \u001b[49m\u001b[38;5;28;43;01mif\u001b[39;49;00m\u001b[43m \u001b[49m\u001b[43moutput_mode\u001b[49m\u001b[43m \u001b[49m\u001b[38;5;129;43;01mis\u001b[39;49;00m\u001b[43m \u001b[49m\u001b[38;5;129;43;01mnot\u001b[39;49;00m\u001b[43m \u001b[49m\u001b[38;5;28;43;01mNone\u001b[39;49;00m\u001b[43m \u001b[49m\u001b[38;5;28;43;01melse\u001b[39;49;00m\u001b[43m \u001b[49m\u001b[43mINT\u001b[49m\u001b[43m,\u001b[49m\n\u001b[1;32m    396\u001b[0m \u001b[43m    \u001b[49m\u001b[43msparse\u001b[49m\u001b[38;5;241;43m=\u001b[39;49m\u001b[43msparse\u001b[49m\u001b[43m,\u001b[49m\n\u001b[1;32m    397\u001b[0m \u001b[43m    \u001b[49m\u001b[43mhas_input_vocabulary\u001b[49m\u001b[38;5;241;43m=\u001b[39;49m\u001b[38;5;28;43mself\u001b[39;49m\u001b[38;5;241;43m.\u001b[39;49m\u001b[43m_has_input_vocabulary\u001b[49m\u001b[43m,\u001b[49m\n\u001b[1;32m    398\u001b[0m \u001b[43m    \u001b[49m\u001b[43mencoding\u001b[49m\u001b[38;5;241;43m=\u001b[39;49m\u001b[43mencoding\u001b[49m\u001b[43m,\u001b[49m\n\u001b[1;32m    399\u001b[0m \u001b[43m\u001b[49m\u001b[43m)\u001b[49m\n",
      "File \u001b[0;32m~/.local/lib/python3.10/site-packages/keras/layers/preprocessing/string_lookup.py:333\u001b[0m, in \u001b[0;36mStringLookup.__init__\u001b[0;34m(self, max_tokens, num_oov_indices, mask_token, oov_token, vocabulary, idf_weights, encoding, invert, output_mode, sparse, pad_to_max_tokens, **kwargs)\u001b[0m\n\u001b[1;32m    329\u001b[0m     \u001b[38;5;28;01mdel\u001b[39;00m kwargs[\u001b[38;5;124m\"\u001b[39m\u001b[38;5;124mdtype\u001b[39m\u001b[38;5;124m\"\u001b[39m]\n\u001b[1;32m    331\u001b[0m \u001b[38;5;28mself\u001b[39m\u001b[38;5;241m.\u001b[39mencoding \u001b[38;5;241m=\u001b[39m encoding\n\u001b[0;32m--> 333\u001b[0m \u001b[38;5;28;43msuper\u001b[39;49m\u001b[43m(\u001b[49m\u001b[43m)\u001b[49m\u001b[38;5;241;43m.\u001b[39;49m\u001b[38;5;21;43m__init__\u001b[39;49m\u001b[43m(\u001b[49m\n\u001b[1;32m    334\u001b[0m \u001b[43m    \u001b[49m\u001b[43mmax_tokens\u001b[49m\u001b[38;5;241;43m=\u001b[39;49m\u001b[43mmax_tokens\u001b[49m\u001b[43m,\u001b[49m\n\u001b[1;32m    335\u001b[0m \u001b[43m    \u001b[49m\u001b[43mnum_oov_indices\u001b[49m\u001b[38;5;241;43m=\u001b[39;49m\u001b[43mnum_oov_indices\u001b[49m\u001b[43m,\u001b[49m\n\u001b[1;32m    336\u001b[0m \u001b[43m    \u001b[49m\u001b[43mmask_token\u001b[49m\u001b[38;5;241;43m=\u001b[39;49m\u001b[43mmask_token\u001b[49m\u001b[43m,\u001b[49m\n\u001b[1;32m    337\u001b[0m \u001b[43m    \u001b[49m\u001b[43moov_token\u001b[49m\u001b[38;5;241;43m=\u001b[39;49m\u001b[43moov_token\u001b[49m\u001b[43m,\u001b[49m\n\u001b[1;32m    338\u001b[0m \u001b[43m    \u001b[49m\u001b[43mvocabulary\u001b[49m\u001b[38;5;241;43m=\u001b[39;49m\u001b[43mvocabulary\u001b[49m\u001b[43m,\u001b[49m\n\u001b[1;32m    339\u001b[0m \u001b[43m    \u001b[49m\u001b[43mvocabulary_dtype\u001b[49m\u001b[38;5;241;43m=\u001b[39;49m\u001b[43mtf\u001b[49m\u001b[38;5;241;43m.\u001b[39;49m\u001b[43mstring\u001b[49m\u001b[43m,\u001b[49m\n\u001b[1;32m    340\u001b[0m \u001b[43m    \u001b[49m\u001b[43midf_weights\u001b[49m\u001b[38;5;241;43m=\u001b[39;49m\u001b[43midf_weights\u001b[49m\u001b[43m,\u001b[49m\n\u001b[1;32m    341\u001b[0m \u001b[43m    \u001b[49m\u001b[43minvert\u001b[49m\u001b[38;5;241;43m=\u001b[39;49m\u001b[43minvert\u001b[49m\u001b[43m,\u001b[49m\n\u001b[1;32m    342\u001b[0m \u001b[43m    \u001b[49m\u001b[43moutput_mode\u001b[49m\u001b[38;5;241;43m=\u001b[39;49m\u001b[43moutput_mode\u001b[49m\u001b[43m,\u001b[49m\n\u001b[1;32m    343\u001b[0m \u001b[43m    \u001b[49m\u001b[43msparse\u001b[49m\u001b[38;5;241;43m=\u001b[39;49m\u001b[43msparse\u001b[49m\u001b[43m,\u001b[49m\n\u001b[1;32m    344\u001b[0m \u001b[43m    \u001b[49m\u001b[43mpad_to_max_tokens\u001b[49m\u001b[38;5;241;43m=\u001b[39;49m\u001b[43mpad_to_max_tokens\u001b[49m\u001b[43m,\u001b[49m\n\u001b[1;32m    345\u001b[0m \u001b[43m    \u001b[49m\u001b[38;5;241;43m*\u001b[39;49m\u001b[38;5;241;43m*\u001b[39;49m\u001b[43mkwargs\u001b[49m\n\u001b[1;32m    346\u001b[0m \u001b[43m\u001b[49m\u001b[43m)\u001b[49m\n\u001b[1;32m    347\u001b[0m base_preprocessing_layer\u001b[38;5;241m.\u001b[39mkeras_kpl_gauge\u001b[38;5;241m.\u001b[39mget_cell(\u001b[38;5;124m\"\u001b[39m\u001b[38;5;124mStringLookup\u001b[39m\u001b[38;5;124m\"\u001b[39m)\u001b[38;5;241m.\u001b[39mset(\n\u001b[1;32m    348\u001b[0m     \u001b[38;5;28;01mTrue\u001b[39;00m\n\u001b[1;32m    349\u001b[0m )\n",
      "File \u001b[0;32m~/.local/lib/python3.10/site-packages/keras/layers/preprocessing/index_lookup.py:323\u001b[0m, in \u001b[0;36mIndexLookup.__init__\u001b[0;34m(self, max_tokens, num_oov_indices, mask_token, oov_token, vocabulary_dtype, vocabulary, idf_weights, invert, output_mode, sparse, pad_to_max_tokens, **kwargs)\u001b[0m\n\u001b[1;32m    320\u001b[0m     \u001b[38;5;28mself\u001b[39m\u001b[38;5;241m.\u001b[39midf_weights_const \u001b[38;5;241m=\u001b[39m \u001b[38;5;28mself\u001b[39m\u001b[38;5;241m.\u001b[39midf_weights\u001b[38;5;241m.\u001b[39mvalue()\n\u001b[1;32m    322\u001b[0m \u001b[38;5;28;01mif\u001b[39;00m vocabulary \u001b[38;5;129;01mis\u001b[39;00m \u001b[38;5;129;01mnot\u001b[39;00m \u001b[38;5;28;01mNone\u001b[39;00m:\n\u001b[0;32m--> 323\u001b[0m     \u001b[38;5;28;43mself\u001b[39;49m\u001b[38;5;241;43m.\u001b[39;49m\u001b[43mset_vocabulary\u001b[49m\u001b[43m(\u001b[49m\u001b[43mvocabulary\u001b[49m\u001b[43m,\u001b[49m\u001b[43m \u001b[49m\u001b[43midf_weights\u001b[49m\u001b[43m)\u001b[49m\n\u001b[1;32m    324\u001b[0m \u001b[38;5;28;01melse\u001b[39;00m:\n\u001b[1;32m    325\u001b[0m     \u001b[38;5;66;03m# When restoring from a keras SavedModel, the loading code will\u001b[39;00m\n\u001b[1;32m    326\u001b[0m     \u001b[38;5;66;03m# expect to find and restore a lookup_table attribute on the layer.\u001b[39;00m\n\u001b[1;32m    327\u001b[0m     \u001b[38;5;66;03m# This table needs to be uninitialized as a StaticHashTable cannot\u001b[39;00m\n\u001b[1;32m    328\u001b[0m     \u001b[38;5;66;03m# be initialized twice.\u001b[39;00m\n\u001b[1;32m    329\u001b[0m     \u001b[38;5;28mself\u001b[39m\u001b[38;5;241m.\u001b[39mlookup_table \u001b[38;5;241m=\u001b[39m \u001b[38;5;28mself\u001b[39m\u001b[38;5;241m.\u001b[39m_uninitialized_lookup_table()\n",
      "File \u001b[0;32m~/.local/lib/python3.10/site-packages/keras/layers/preprocessing/index_lookup.py:566\u001b[0m, in \u001b[0;36mIndexLookup.set_vocabulary\u001b[0;34m(self, vocabulary, idf_weights)\u001b[0m\n\u001b[1;32m    564\u001b[0m new_vocab_size \u001b[38;5;241m=\u001b[39m token_start \u001b[38;5;241m+\u001b[39m \u001b[38;5;28mlen\u001b[39m(tokens)\n\u001b[1;32m    565\u001b[0m \u001b[38;5;28;01mif\u001b[39;00m \u001b[38;5;28mself\u001b[39m\u001b[38;5;241m.\u001b[39mmax_tokens \u001b[38;5;129;01mis\u001b[39;00m \u001b[38;5;129;01mnot\u001b[39;00m \u001b[38;5;28;01mNone\u001b[39;00m \u001b[38;5;129;01mand\u001b[39;00m (new_vocab_size \u001b[38;5;241m>\u001b[39m \u001b[38;5;28mself\u001b[39m\u001b[38;5;241m.\u001b[39mmax_tokens):\n\u001b[0;32m--> 566\u001b[0m     \u001b[38;5;28;01mraise\u001b[39;00m \u001b[38;5;167;01mValueError\u001b[39;00m(\n\u001b[1;32m    567\u001b[0m         \u001b[38;5;124m\"\u001b[39m\u001b[38;5;124mAttempted to set a vocabulary larger than the maximum vocab \u001b[39m\u001b[38;5;124m\"\u001b[39m\n\u001b[1;32m    568\u001b[0m         \u001b[38;5;124m\"\u001b[39m\u001b[38;5;124msize. Passed vocab size is \u001b[39m\u001b[38;5;132;01m{}\u001b[39;00m\u001b[38;5;124m, max vocab size is \u001b[39m\u001b[38;5;132;01m{}\u001b[39;00m\u001b[38;5;124m.\u001b[39m\u001b[38;5;124m\"\u001b[39m\u001b[38;5;241m.\u001b[39mformat(\n\u001b[1;32m    569\u001b[0m             new_vocab_size, \u001b[38;5;28mself\u001b[39m\u001b[38;5;241m.\u001b[39mmax_tokens\n\u001b[1;32m    570\u001b[0m         )\n\u001b[1;32m    571\u001b[0m     )\n\u001b[1;32m    572\u001b[0m \u001b[38;5;28mself\u001b[39m\u001b[38;5;241m.\u001b[39mlookup_table \u001b[38;5;241m=\u001b[39m \u001b[38;5;28mself\u001b[39m\u001b[38;5;241m.\u001b[39m_lookup_table_from_tokens(tokens)\n\u001b[1;32m    574\u001b[0m \u001b[38;5;28;01mif\u001b[39;00m \u001b[38;5;28mself\u001b[39m\u001b[38;5;241m.\u001b[39moutput_mode \u001b[38;5;241m==\u001b[39m TF_IDF:\n",
      "\u001b[0;31mValueError\u001b[0m: Attempted to set a vocabulary larger than the maximum vocab size. Passed vocab size is 22, max vocab size is 20."
     ]
    }
   ],
   "source": [
    "%%time\n",
    "max_aa_length = 50\n",
    "aa_vocab_size = 22# 20 standard aa's, 1 start/null token, 1 oov \"[UNK]\" token \n",
    "\n",
    "aa_sequences=[d[0] for d in data]\n",
    "\n",
    "# Build \n",
    "model = tf.keras.models.Sequential()\n",
    "model.add(tf.keras.Input(shape=(1,), dtype=tf.string))\n",
    "vectorize_aa = tf.keras.layers.TextVectorization(split=\"character\", output_mode=\"int\",\n",
    "#                                                  pad_to_max_tokens=True, \n",
    "                                                 output_sequence_length=max_aa_length, \n",
    "                                                 standardize=None, vocabulary=new_vocab) # max_tokens=aa_vocab_size, \n",
    "# vectorize_aa.adapt(aa_sequences)\n",
    "model.add(vectorize_aa)\n",
    "\n",
    "# Apply\n",
    "vectorized_aa=model.predict(aa_sequences)\n",
    "vectorized_aa = keras.utils.to_categorical(vectorized_aa, num_classes=aa_vocab_size)\n",
    "vectorized_aa\n"
   ]
  },
  {
   "cell_type": "code",
   "execution_count": 113,
   "metadata": {},
   "outputs": [
    {
     "data": {
      "text/plain": [
       "(50, 22)"
      ]
     },
     "execution_count": 113,
     "metadata": {},
     "output_type": "execute_result"
    }
   ],
   "source": [
    "vectorized_aa[0].shape # View an example of a vectorized aa sequence."
   ]
  },
  {
   "cell_type": "code",
   "execution_count": 114,
   "metadata": {},
   "outputs": [
    {
     "data": {
      "text/plain": [
       "'[UNK]KLGARIVFSPCTWNHQYEDM'"
      ]
     },
     "execution_count": 114,
     "metadata": {},
     "output_type": "execute_result"
    }
   ],
   "source": [
    "\"\".join(vectorize_aa.get_vocabulary())"
   ]
  },
  {
   "cell_type": "code",
   "execution_count": 116,
   "metadata": {
    "colab": {
     "base_uri": "https://localhost:8080/"
    },
    "id": "UBcqCzgM2QLE",
    "outputId": "c0da4bb8-8218-4901-e3b8-e26b3822b613",
    "scrolled": true
   },
   "outputs": [
    {
     "name": "stdout",
     "output_type": "stream",
     "text": [
      "1605/1605 [==============================] - 3s 2ms/step\n",
      "[[0. 0. 0. 0. 0. 0. 1. 0. 0. 0. 0. 0. 0. 0. 0. 0. 0. 0. 0. 0.]\n",
      " [0. 1. 0. 0. 0. 0. 0. 0. 0. 0. 0. 0. 0. 0. 0. 0. 0. 0. 0. 0.]\n",
      " [0. 0. 0. 1. 0. 0. 0. 0. 0. 0. 0. 0. 0. 0. 0. 0. 0. 0. 0. 0.]\n",
      " [0. 1. 0. 0. 0. 0. 0. 0. 0. 0. 0. 0. 0. 0. 0. 0. 0. 0. 0. 0.]\n",
      " [0. 0. 0. 0. 0. 0. 0. 1. 0. 0. 0. 0. 0. 0. 0. 0. 0. 0. 0. 0.]\n",
      " [0. 0. 0. 0. 0. 0. 0. 0. 0. 0. 0. 0. 0. 0. 0. 0. 0. 0. 0. 1.]\n",
      " [0. 1. 0. 0. 0. 0. 0. 0. 0. 0. 0. 0. 0. 0. 0. 0. 0. 0. 0. 0.]\n",
      " [0. 0. 0. 1. 0. 0. 0. 0. 0. 0. 0. 0. 0. 0. 0. 0. 0. 0. 0. 0.]\n",
      " [0. 1. 0. 0. 0. 0. 0. 0. 0. 0. 0. 0. 0. 0. 0. 0. 0. 0. 0. 0.]\n",
      " [0. 1. 0. 0. 0. 0. 0. 0. 0. 0. 0. 0. 0. 0. 0. 0. 0. 0. 0. 0.]\n",
      " [0. 0. 0. 0. 0. 1. 0. 0. 0. 0. 0. 0. 0. 0. 0. 0. 0. 0. 0. 0.]\n",
      " [0. 0. 0. 1. 0. 0. 0. 0. 0. 0. 0. 0. 0. 0. 0. 0. 0. 0. 0. 0.]\n",
      " [0. 0. 1. 0. 0. 0. 0. 0. 0. 0. 0. 0. 0. 0. 0. 0. 0. 0. 0. 0.]\n",
      " [0. 0. 0. 0. 0. 0. 1. 0. 0. 0. 0. 0. 0. 0. 0. 0. 0. 0. 0. 0.]\n",
      " [0. 0. 0. 0. 0. 1. 0. 0. 0. 0. 0. 0. 0. 0. 0. 0. 0. 0. 0. 0.]\n",
      " [0. 0. 0. 1. 0. 0. 0. 0. 0. 0. 0. 0. 0. 0. 0. 0. 0. 0. 0. 0.]\n",
      " [0. 0. 0. 0. 0. 1. 0. 0. 0. 0. 0. 0. 0. 0. 0. 0. 0. 0. 0. 0.]\n",
      " [0. 0. 1. 0. 0. 0. 0. 0. 0. 0. 0. 0. 0. 0. 0. 0. 0. 0. 0. 0.]\n",
      " [0. 1. 0. 0. 0. 0. 0. 0. 0. 0. 0. 0. 0. 0. 0. 0. 0. 0. 0. 0.]\n",
      " [0. 0. 0. 1. 0. 0. 0. 0. 0. 0. 0. 0. 0. 0. 0. 0. 0. 0. 0. 0.]\n",
      " [0. 0. 1. 0. 0. 0. 0. 0. 0. 0. 0. 0. 0. 0. 0. 0. 0. 0. 0. 0.]\n",
      " [0. 0. 0. 0. 0. 1. 0. 0. 0. 0. 0. 0. 0. 0. 0. 0. 0. 0. 0. 0.]\n",
      " [0. 1. 0. 0. 0. 0. 0. 0. 0. 0. 0. 0. 0. 0. 0. 0. 0. 0. 0. 0.]\n",
      " [0. 1. 0. 0. 0. 0. 0. 0. 0. 0. 0. 0. 0. 0. 0. 0. 0. 0. 0. 0.]\n",
      " [0. 0. 0. 0. 0. 0. 0. 0. 1. 0. 0. 0. 0. 0. 0. 0. 0. 0. 0. 0.]\n",
      " [0. 1. 0. 0. 0. 0. 0. 0. 0. 0. 0. 0. 0. 0. 0. 0. 0. 0. 0. 0.]\n",
      " [0. 1. 0. 0. 0. 0. 0. 0. 0. 0. 0. 0. 0. 0. 0. 0. 0. 0. 0. 0.]\n",
      " [0. 0. 1. 0. 0. 0. 0. 0. 0. 0. 0. 0. 0. 0. 0. 0. 0. 0. 0. 0.]\n",
      " [0. 0. 1. 0. 0. 0. 0. 0. 0. 0. 0. 0. 0. 0. 0. 0. 0. 0. 0. 0.]\n",
      " [0. 1. 0. 0. 0. 0. 0. 0. 0. 0. 0. 0. 0. 0. 0. 0. 0. 0. 0. 0.]\n",
      " [0. 0. 0. 0. 0. 0. 0. 0. 0. 0. 0. 0. 0. 0. 0. 0. 1. 0. 0. 0.]\n",
      " [0. 0. 0. 0. 0. 0. 0. 0. 0. 0. 0. 0. 0. 0. 0. 0. 0. 1. 0. 0.]\n",
      " [0. 0. 1. 0. 0. 0. 0. 0. 0. 0. 0. 0. 0. 0. 0. 0. 0. 0. 0. 0.]\n",
      " [0. 0. 0. 0. 0. 0. 0. 0. 0. 1. 0. 0. 0. 0. 0. 0. 0. 0. 0. 0.]\n",
      " [0. 1. 0. 0. 0. 0. 0. 0. 0. 0. 0. 0. 0. 0. 0. 0. 0. 0. 0. 0.]\n",
      " [0. 0. 0. 0. 1. 0. 0. 0. 0. 0. 0. 0. 0. 0. 0. 0. 0. 0. 0. 0.]\n",
      " [0. 1. 0. 0. 0. 0. 0. 0. 0. 0. 0. 0. 0. 0. 0. 0. 0. 0. 0. 0.]\n",
      " [0. 0. 0. 0. 0. 0. 1. 0. 0. 0. 0. 0. 0. 0. 0. 0. 0. 0. 0. 0.]\n",
      " [0. 0. 1. 0. 0. 0. 0. 0. 0. 0. 0. 0. 0. 0. 0. 0. 0. 0. 0. 0.]\n",
      " [0. 1. 0. 0. 0. 0. 0. 0. 0. 0. 0. 0. 0. 0. 0. 0. 0. 0. 0. 0.]\n",
      " [0. 0. 0. 1. 0. 0. 0. 0. 0. 0. 0. 0. 0. 0. 0. 0. 0. 0. 0. 0.]\n",
      " [0. 0. 0. 0. 0. 0. 0. 0. 0. 0. 0. 0. 0. 0. 1. 0. 0. 0. 0. 0.]\n",
      " [0. 0. 0. 0. 1. 0. 0. 0. 0. 0. 0. 0. 0. 0. 0. 0. 0. 0. 0. 0.]\n",
      " [0. 0. 1. 0. 0. 0. 0. 0. 0. 0. 0. 0. 0. 0. 0. 0. 0. 0. 0. 0.]\n",
      " [0. 0. 1. 0. 0. 0. 0. 0. 0. 0. 0. 0. 0. 0. 0. 0. 0. 0. 0. 0.]\n",
      " [0. 0. 0. 0. 0. 1. 0. 0. 0. 0. 0. 0. 0. 0. 0. 0. 0. 0. 0. 0.]\n",
      " [0. 1. 0. 0. 0. 0. 0. 0. 0. 0. 0. 0. 0. 0. 0. 0. 0. 0. 0. 0.]\n",
      " [0. 0. 1. 0. 0. 0. 0. 0. 0. 0. 0. 0. 0. 0. 0. 0. 0. 0. 0. 0.]\n",
      " [0. 0. 0. 0. 1. 0. 0. 0. 0. 0. 0. 0. 0. 0. 0. 0. 0. 0. 0. 0.]\n",
      " [0. 0. 0. 0. 1. 0. 0. 0. 0. 0. 0. 0. 0. 0. 0. 0. 0. 0. 0. 0.]\n",
      " ...\n",
      " [0. 0. 0. 0. 0. 0. 0. 0. 1. 0. 0. 0. 0. 0. 0. 0. 0. 0. 0. 0.]\n",
      " [0. 0. 1. 0. 0. 0. 0. 0. 0. 0. 0. 0. 0. 0. 0. 0. 0. 0. 0. 0.]\n",
      " [0. 0. 0. 0. 1. 0. 0. 0. 0. 0. 0. 0. 0. 0. 0. 0. 0. 0. 0. 0.]\n",
      " [0. 0. 0. 1. 0. 0. 0. 0. 0. 0. 0. 0. 0. 0. 0. 0. 0. 0. 0. 0.]\n",
      " [0. 0. 1. 0. 0. 0. 0. 0. 0. 0. 0. 0. 0. 0. 0. 0. 0. 0. 0. 0.]\n",
      " [0. 0. 0. 0. 0. 1. 0. 0. 0. 0. 0. 0. 0. 0. 0. 0. 0. 0. 0. 0.]\n",
      " [0. 0. 0. 1. 0. 0. 0. 0. 0. 0. 0. 0. 0. 0. 0. 0. 0. 0. 0. 0.]\n",
      " [0. 0. 1. 0. 0. 0. 0. 0. 0. 0. 0. 0. 0. 0. 0. 0. 0. 0. 0. 0.]\n",
      " [0. 0. 0. 0. 0. 0. 0. 0. 1. 0. 0. 0. 0. 0. 0. 0. 0. 0. 0. 0.]\n",
      " [0. 0. 1. 0. 0. 0. 0. 0. 0. 0. 0. 0. 0. 0. 0. 0. 0. 0. 0. 0.]\n",
      " [0. 0. 0. 0. 1. 0. 0. 0. 0. 0. 0. 0. 0. 0. 0. 0. 0. 0. 0. 0.]\n",
      " [0. 0. 0. 1. 0. 0. 0. 0. 0. 0. 0. 0. 0. 0. 0. 0. 0. 0. 0. 0.]\n",
      " [0. 0. 1. 0. 0. 0. 0. 0. 0. 0. 0. 0. 0. 0. 0. 0. 0. 0. 0. 0.]\n",
      " [0. 0. 1. 0. 0. 0. 0. 0. 0. 0. 0. 0. 0. 0. 0. 0. 0. 0. 0. 0.]\n",
      " [0. 0. 0. 1. 0. 0. 0. 0. 0. 0. 0. 0. 0. 0. 0. 0. 0. 0. 0. 0.]\n",
      " [0. 0. 0. 0. 0. 0. 1. 0. 0. 0. 0. 0. 0. 0. 0. 0. 0. 0. 0. 0.]\n",
      " [0. 0. 0. 0. 0. 1. 0. 0. 0. 0. 0. 0. 0. 0. 0. 0. 0. 0. 0. 0.]\n",
      " [0. 0. 0. 1. 0. 0. 0. 0. 0. 0. 0. 0. 0. 0. 0. 0. 0. 0. 0. 0.]\n",
      " [0. 0. 1. 0. 0. 0. 0. 0. 0. 0. 0. 0. 0. 0. 0. 0. 0. 0. 0. 0.]\n",
      " [0. 0. 0. 1. 0. 0. 0. 0. 0. 0. 0. 0. 0. 0. 0. 0. 0. 0. 0. 0.]\n",
      " [0. 0. 1. 0. 0. 0. 0. 0. 0. 0. 0. 0. 0. 0. 0. 0. 0. 0. 0. 0.]\n",
      " [0. 0. 0. 0. 0. 1. 0. 0. 0. 0. 0. 0. 0. 0. 0. 0. 0. 0. 0. 0.]\n",
      " [0. 0. 1. 0. 0. 0. 0. 0. 0. 0. 0. 0. 0. 0. 0. 0. 0. 0. 0. 0.]\n",
      " [0. 0. 0. 0. 1. 0. 0. 0. 0. 0. 0. 0. 0. 0. 0. 0. 0. 0. 0. 0.]\n",
      " [0. 0. 0. 1. 0. 0. 0. 0. 0. 0. 0. 0. 0. 0. 0. 0. 0. 0. 0. 0.]\n",
      " [0. 0. 1. 0. 0. 0. 0. 0. 0. 0. 0. 0. 0. 0. 0. 0. 0. 0. 0. 0.]\n",
      " [0. 0. 0. 0. 1. 0. 0. 0. 0. 0. 0. 0. 0. 0. 0. 0. 0. 0. 0. 0.]\n",
      " [0. 0. 0. 1. 0. 0. 0. 0. 0. 0. 0. 0. 0. 0. 0. 0. 0. 0. 0. 0.]\n",
      " [0. 0. 0. 0. 0. 0. 0. 0. 1. 0. 0. 0. 0. 0. 0. 0. 0. 0. 0. 0.]\n",
      " [0. 0. 1. 0. 0. 0. 0. 0. 0. 0. 0. 0. 0. 0. 0. 0. 0. 0. 0. 0.]\n",
      " [0. 0. 0. 0. 1. 0. 0. 0. 0. 0. 0. 0. 0. 0. 0. 0. 0. 0. 0. 0.]\n",
      " [0. 0. 0. 0. 0. 0. 1. 0. 0. 0. 0. 0. 0. 0. 0. 0. 0. 0. 0. 0.]\n",
      " [0. 0. 0. 1. 0. 0. 0. 0. 0. 0. 0. 0. 0. 0. 0. 0. 0. 0. 0. 0.]\n",
      " [0. 0. 1. 0. 0. 0. 0. 0. 0. 0. 0. 0. 0. 0. 0. 0. 0. 0. 0. 0.]\n",
      " [0. 0. 0. 0. 0. 0. 1. 0. 0. 0. 0. 0. 0. 0. 0. 0. 0. 0. 0. 0.]\n",
      " [0. 0. 0. 0. 0. 0. 0. 0. 1. 0. 0. 0. 0. 0. 0. 0. 0. 0. 0. 0.]\n",
      " [0. 0. 1. 0. 0. 0. 0. 0. 0. 0. 0. 0. 0. 0. 0. 0. 0. 0. 0. 0.]\n",
      " [0. 0. 0. 0. 1. 0. 0. 0. 0. 0. 0. 0. 0. 0. 0. 0. 0. 0. 0. 0.]\n",
      " [0. 0. 0. 1. 0. 0. 0. 0. 0. 0. 0. 0. 0. 0. 0. 0. 0. 0. 0. 0.]\n",
      " [0. 0. 0. 0. 0. 1. 0. 0. 0. 0. 0. 0. 0. 0. 0. 0. 0. 0. 0. 0.]\n",
      " [0. 0. 0. 1. 0. 0. 0. 0. 0. 0. 0. 0. 0. 0. 0. 0. 0. 0. 0. 0.]\n",
      " [0. 0. 0. 0. 1. 0. 0. 0. 0. 0. 0. 0. 0. 0. 0. 0. 0. 0. 0. 0.]\n",
      " [0. 0. 0. 0. 0. 1. 0. 0. 0. 0. 0. 0. 0. 0. 0. 0. 0. 0. 0. 0.]\n",
      " [0. 0. 0. 0. 0. 0. 0. 0. 0. 1. 0. 0. 0. 0. 0. 0. 0. 0. 0. 0.]\n",
      " [0. 0. 0. 0. 0. 0. 1. 0. 0. 0. 0. 0. 0. 0. 0. 0. 0. 0. 0. 0.]\n",
      " [0. 0. 0. 0. 0. 1. 0. 0. 0. 0. 0. 0. 0. 0. 0. 0. 0. 0. 0. 0.]\n",
      " [0. 0. 0. 1. 0. 0. 0. 0. 0. 0. 0. 0. 0. 0. 0. 0. 0. 0. 0. 0.]\n",
      " [0. 0. 1. 0. 0. 0. 0. 0. 0. 0. 0. 0. 0. 0. 0. 0. 0. 0. 0. 0.]\n",
      " [0. 0. 0. 0. 0. 0. 1. 0. 0. 0. 0. 0. 0. 0. 0. 0. 0. 0. 0. 0.]\n",
      " [0. 0. 0. 0. 0. 1. 0. 0. 0. 0. 0. 0. 0. 0. 0. 0. 0. 0. 0. 0.]]\n"
     ]
    }
   ],
   "source": [
    "species_vocab_size = 20 # PLACEHOLDER VAL\n",
    "species=[d[1] for d in data]\n",
    "# vectorize_aa.adapt(species)\n",
    "\n",
    "# Build\n",
    "model = tf.keras.models.Sequential()\n",
    "model.add(tf.keras.Input(shape=(1,), dtype=tf.string))\n",
    "vectorize_species = tf.keras.layers.TextVectorization(split=None, output_mode=\"int\", max_tokens=species_vocab_size)\n",
    "\n",
    "# Apply\n",
    "vectorize_species.adapt(species)\n",
    "species_vocab_size = vectorize_species.vocabulary_size()\n",
    "model.add(vectorize_species)\n",
    "\n",
    "vectorized_species = model.predict(species)\n",
    "vectorized_species = keras.utils.to_categorical(vectorized_species, num_classes=species_vocab_size)\n",
    "print(vectorized_species)\n"
   ]
  },
  {
   "cell_type": "markdown",
   "metadata": {
    "id": "0zgDFoWYLB0q"
   },
   "source": [
    "# Model Building Functions"
   ]
  },
  {
   "cell_type": "markdown",
   "metadata": {
    "id": "G_FRlnmKKhh0"
   },
   "source": [
    "## Hyperparameter tuning model"
   ]
  },
  {
   "cell_type": "code",
   "execution_count": null,
   "metadata": {
    "id": "oVISiyD8ybAz"
   },
   "outputs": [],
   "source": [
    "\n",
    "def build_model(hp):\n",
    "    # Define input layers for the two strings\n",
    "    input_aa = tf.keras.Input(shape=(50,aa_vocab_size), name='aa')\n",
    "    input_species = tf.keras.Input(shape=(species_vocab_size,), name='species')\n",
    "\n",
    "    vectorized_aa = input_aa\n",
    "    vectorized_species = input_species\n",
    "    \n",
    "    # hyperparams\n",
    "    aa_LSTM_units = hp.Int('aa_LSTM_units', min_value=5, max_value=200, step=5)\n",
    "    species_Dense_units = hp.Int('species_Dense_units', min_value=1, max_value=30, step=4)\n",
    "    latent_dim = hp.Int('latent_dim', min_value=1, max_value=12, step=1) # Must be < 20 for undercompleteness. There are ~10 descriptors\n",
    "    # latent_dim=2\n",
    "    output_activation = hp.Choice('output_activation', values=['softmax','linear'])\n",
    "\n",
    "    # aa encoder\n",
    "    encoder_aa = tf.keras.layers.LSTM(units=aa_LSTM_units, return_sequences=True)(vectorized_aa)\n",
    "\n",
    "    # species encoder\n",
    "    encoder_species = tf.keras.layers.Dense(units=species_Dense_units)(vectorized_species)\n",
    "    encoder_species = tf.keras.layers.Dense(units=aa_LSTM_units)(encoder_species) # for concatenation\n",
    "    encoder_species = keras.layers.Reshape((1,encoder_species.shape[1]))(encoder_species)\n",
    "    encoder = tf.keras.layers.Concatenate(axis=1)([encoder_aa, encoder_species]) # GEt SHAPES RIGHT so this works.\n",
    "    # encoder= [encoder_aa, encoder_species]\n",
    "    \n",
    "\n",
    "    # Latent space parameters\n",
    "    \n",
    "    latent_mean = tf.keras.layers.Dense(units=latent_dim)(encoder) # fully encoded\n",
    "    latent_log_var = tf.keras.layers.Dense(units=latent_dim)(encoder) # fully encoded\n",
    "\n",
    "\n",
    "    # Sample from the latent space\n",
    "    def sampling(args):\n",
    "        mean, log_var = args\n",
    "        epsilon = tf.keras.backend.random_normal(shape=tf.shape(mean))\n",
    "        return mean + tf.exp(0.5 * log_var) * epsilon\n",
    "\n",
    "    latent = tf.keras.layers.Lambda(sampling)([latent_mean, latent_log_var])\n",
    "\n",
    "    # Decoder\n",
    "    decoder_aa = tf.keras.layers.LSTM(units=aa_LSTM_units, return_sequences=True)(latent)\n",
    "    decoder_species = tf.keras.layers.Dense(units=species_Dense_units)(latent)\n",
    "\n",
    "    # Output layers\n",
    "    output_aa = tf.keras.layers.Dense(aa_vocab_size, activation=output_activation, name='aa_output')(decoder_aa[:,:max_aa_length]) # What activation?\n",
    "\n",
    "    output_species = tf.keras.layers.Dense(species_vocab_size, activation=output_activation, name='species_output')(decoder_species[:,max_aa_length:])\n",
    "\n",
    "    # Wasserstein loss function\n",
    "    # def wasserstein_loss(y_true, y_pred):\n",
    "    #     product = tf.keras.layers.Multiply()([y_true, y_pred])\n",
    "    #     return tf.keras.layers.Average()([product])\n",
    "    # Compute the KL divergence loss\n",
    "#     def kl_divergence_loss(y_true, y_pred):\n",
    "#         kl_loss = 1 + latent_log_var - tf.square(latent_mean) - tf.exp(latent_log_var)\n",
    "#         kl_loss = tf.reduce_mean(-0.5 * tf.reduce_sum(kl_loss, axis=-1))\n",
    "#         return kl_loss\n",
    "\n",
    "    # Compile the model\n",
    "    mse = tf.keras.losses.MeanSquaredError()\n",
    "    model = tf.keras.Model(inputs=[input_aa, input_species], outputs=[output_aa, output_species])\n",
    "    model.compile(optimizer='adam', loss=[mse, mse], \n",
    "                  loss_weights=[1, .05], metrics=[tf.keras.metrics.KLDivergence()])\n",
    "    return model\n"
   ]
  },
  {
   "cell_type": "markdown",
   "metadata": {
    "id": "h47uwTAkKzMA"
   },
   "source": [
    "## Selected model architecture from HP tuning process"
   ]
  },
  {
   "cell_type": "code",
   "execution_count": 119,
   "metadata": {
    "id": "N2tGmFu_5wlz"
   },
   "outputs": [],
   "source": [
    "## BUILD MODEL\n",
    "#-------------------------------------------------------------\n",
    "\n",
    "def build_model_tuned(aa_LSTM_units, species_Dense_units, latent_dim, output_activation):\n",
    "    # Define input layers for the two strings\n",
    "    input_aa = tf.keras.Input(shape=(50,aa_vocab_size), name='aa')\n",
    "    input_species = tf.keras.Input(shape=(species_vocab_size,), name='species')\n",
    "\n",
    "    vectorized_aa = input_aa\n",
    "    vectorized_species = input_species\n",
    "    \n",
    "    # aa encoder\n",
    "    encoder_aa = tf.keras.layers.LSTM(units=aa_LSTM_units, return_sequences=True)(vectorized_aa)\n",
    "#     encoder_aa = tf.keras.layers.Transformer(num_heads=8,\n",
    "#                                          hidden_size=64,\n",
    "#                                          num_encoder_layers=2)\n",
    "    # species encoder\n",
    "    encoder_species = tf.keras.layers.Dense(units=species_Dense_units)(vectorized_species)\n",
    "    encoder_species = tf.keras.layers.Dense(units=aa_LSTM_units)(encoder_species) \n",
    "    encoder_species = keras.layers.Reshape((1,encoder_species.shape[1]))(encoder_species)\n",
    "    encoder = tf.keras.layers.Concatenate(axis=1)([encoder_aa, encoder_species]) \n",
    "    # encoder= [encoder_aa, encoder_species]\n",
    "    \n",
    "\n",
    "    # Latent space parameters\n",
    "    \n",
    "    latent_mean = tf.keras.layers.Dense(units=latent_dim)(encoder) # fully encoded\n",
    "    latent_log_var = tf.keras.layers.Dense(units=latent_dim)(encoder) # fully encoded\n",
    "\n",
    "\n",
    "    # Sample from the latent space\n",
    "    def sampling(args):\n",
    "        mean, log_var = args\n",
    "        epsilon = tf.keras.backend.random_normal(shape=tf.shape(mean))\n",
    "        return mean + tf.exp(0.5 * log_var) * epsilon\n",
    "\n",
    "    latent = tf.keras.layers.Lambda(sampling)([latent_mean, latent_log_var])\n",
    "\n",
    "    # Decoder\n",
    "    decoder_aa = tf.keras.layers.LSTM(units=aa_LSTM_units, return_sequences=True)(latent)\n",
    "#     decoder_aa = tf.keras.layers.Transformer(num_heads=8,\n",
    "#                                          hidden_size=64,\n",
    "#                                          num_decoder_layers=2)(latent)\n",
    "    decoder_species = tf.keras.layers.Dense(units=species_Dense_units)(latent)\n",
    "\n",
    "    # Output layers\n",
    "    output_aa = tf.keras.layers.Dense(aa_vocab_size, activation=output_activation, name='aa_output')(decoder_aa[:,:max_aa_length]) # What activation?\n",
    "\n",
    "    output_species = tf.keras.layers.Dense(species_vocab_size, activation=output_activation, name='species_output')(decoder_species[:,max_aa_length:])\n",
    "\n",
    "    # Compile the model\n",
    "    mse = tf.keras.losses.MeanSquaredError()\n",
    "    model = tf.keras.Model(inputs=[input_aa, input_species], outputs=[output_aa, output_species])\n",
    "    model.compile(optimizer='adam', loss=[mse, mse], \n",
    "                  loss_weights=[1, .05], metrics=[tf.keras.metrics.KLDivergence()])\n",
    "    return model\n"
   ]
  },
  {
   "cell_type": "markdown",
   "metadata": {
    "id": "KKScSrHYLFVV"
   },
   "source": [
    "## Model Training"
   ]
  },
  {
   "cell_type": "markdown",
   "metadata": {
    "id": "MF8C6S2RLKhy"
   },
   "source": [
    "### HP model"
   ]
  },
  {
   "cell_type": "code",
   "execution_count": 118,
   "metadata": {
    "collapsed": true,
    "id": "ins_xiJvymHw"
   },
   "outputs": [
    {
     "ename": "NameError",
     "evalue": "name 'build_model' is not defined",
     "output_type": "error",
     "traceback": [
      "\u001b[0;31m---------------------------------------------------------------------------\u001b[0m",
      "\u001b[0;31mNameError\u001b[0m                                 Traceback (most recent call last)",
      "Cell \u001b[0;32mIn [118], line 5\u001b[0m\n\u001b[1;32m      1\u001b[0m \u001b[38;5;66;03m##  Train Model, save results\u001b[39;00m\n\u001b[1;32m      3\u001b[0m training_data \u001b[38;5;241m=\u001b[39m [vectorized_aa, vectorized_species] \n\u001b[1;32m      4\u001b[0m tuner \u001b[38;5;241m=\u001b[39m kt\u001b[38;5;241m.\u001b[39mHyperband(\n\u001b[0;32m----> 5\u001b[0m     build_model,\n\u001b[1;32m      6\u001b[0m     objective\u001b[38;5;241m=\u001b[39mkt\u001b[38;5;241m.\u001b[39mObjective(\u001b[38;5;124m\"\u001b[39m\u001b[38;5;124mval_aa_output_loss\u001b[39m\u001b[38;5;124m\"\u001b[39m, direction\u001b[38;5;241m=\u001b[39m\u001b[38;5;124m\"\u001b[39m\u001b[38;5;124mmin\u001b[39m\u001b[38;5;124m\"\u001b[39m), \u001b[38;5;66;03m# CHECK THIS\u001b[39;00m\n\u001b[1;32m      7\u001b[0m     max_epochs\u001b[38;5;241m=\u001b[39m\u001b[38;5;241m300\u001b[39m,\n\u001b[1;32m      8\u001b[0m     hyperband_iterations\u001b[38;5;241m=\u001b[39m\u001b[38;5;241m4\u001b[39m,\n\u001b[1;32m      9\u001b[0m     overwrite\u001b[38;5;241m=\u001b[39m\u001b[38;5;28;01mTrue\u001b[39;00m,\n\u001b[1;32m     10\u001b[0m     seed\u001b[38;5;241m=\u001b[39m\u001b[38;5;241m0\u001b[39m,\n\u001b[1;32m     11\u001b[0m     executions_per_trial\u001b[38;5;241m=\u001b[39m\u001b[38;5;241m1\u001b[39m)\n\u001b[1;32m     13\u001b[0m tuner\u001b[38;5;241m.\u001b[39msearch(training_data, training_data, epochs\u001b[38;5;241m=\u001b[39m\u001b[38;5;241m1\u001b[39m, validation_split\u001b[38;5;241m=\u001b[39m\u001b[38;5;241m.1\u001b[39m,\n\u001b[1;32m     14\u001b[0m              callbacks\u001b[38;5;241m=\u001b[39m[tf\u001b[38;5;241m.\u001b[39mkeras\u001b[38;5;241m.\u001b[39mcallbacks\u001b[38;5;241m.\u001b[39mEarlyStopping(monitor\u001b[38;5;241m=\u001b[39m\u001b[38;5;124m\"\u001b[39m\u001b[38;5;124mval_aa_output_loss\u001b[39m\u001b[38;5;124m\"\u001b[39m,\n\u001b[1;32m     15\u001b[0m               mode\u001b[38;5;241m=\u001b[39m\u001b[38;5;124m\"\u001b[39m\u001b[38;5;124mmin\u001b[39m\u001b[38;5;124m\"\u001b[39m, verbose\u001b[38;5;241m=\u001b[39m\u001b[38;5;241m1\u001b[39m, patience\u001b[38;5;241m=\u001b[39m\u001b[38;5;241m5\u001b[39m)])\n",
      "\u001b[0;31mNameError\u001b[0m: name 'build_model' is not defined"
     ]
    }
   ],
   "source": [
    "##  Train Model, save results\n",
    "\n",
    "training_data = [vectorized_aa, vectorized_species] \n",
    "tuner = kt.Hyperband(\n",
    "    build_model,\n",
    "    objective=kt.Objective(\"val_aa_output_loss\", direction=\"min\"), # CHECK THIS\n",
    "    max_epochs=300,\n",
    "    hyperband_iterations=4,\n",
    "    overwrite=True,\n",
    "    seed=0,\n",
    "    executions_per_trial=1)\n",
    "\n",
    "tuner.search(training_data, training_data, epochs=1, validation_split=.1,\n",
    "             callbacks=[tf.keras.callbacks.EarlyStopping(monitor=\"val_aa_output_loss\",\n",
    "              mode=\"min\", verbose=1, patience=5)])\n",
    "\n",
    "# best_model = tuner.get_best_models()[0]\n",
    "# tuner.get_best_hyperparameters(num_trials=1)[0]\n",
    "\n",
    "# best_model.save(\"12-24VAE-mse-expandedhp\", overwrite = True, \n",
    "#                  include_optimizer = True, save_format =None, \n",
    "#                  signatures = None , options = None, save_traces = True)\n",
    "\n",
    "# def wasserstein_loss(y_true, y_pred):\n",
    "#     product = tf.keras.layers.Multiply()([y_true, y_pred])\n",
    "#     return tf.keras.layers.Average()([product])\n",
    "# custom_objects = {\"wasserstein_loss\": wasserstein_loss}\n",
    "\n",
    "# reconstructed_model = keras.models.load_model(\"./models/12-23WAE\", custom_objects=custom_objects)"
   ]
  },
  {
   "cell_type": "markdown",
   "metadata": {
    "id": "8MFodscqLNB_"
   },
   "source": [
    "### Tuned Model"
   ]
  },
  {
   "cell_type": "code",
   "execution_count": null,
   "metadata": {
    "id": "VBPxe3VxwjeM"
   },
   "outputs": [],
   "source": [
    "# Retrain best model on data\n",
    "from google.colab import files\n",
    "\n",
    "num_top = 20\n",
    "best_hp = tuner.get_best_hyperparameters(num_top) # get hyperparams of top <num_top> models\n",
    "best_model_hp = tuner.hypermodel.build(best_hp[0]) # build the best one\n",
    "best_model_hp.save(\"VAEmse\") # save it\n",
    "\n",
    "\n",
    "!zip -r /content/VAEmse.zip /content/VAEmse # zip it \n",
    "files.download(\"/content/VAEmse.zip\")# download it"
   ]
  },
  {
   "cell_type": "code",
   "execution_count": null,
   "metadata": {
    "id": "pbtW79svgXzl"
   },
   "outputs": [],
   "source": [
    "with open(\"best_hyperparams.txt\", \"w\") as best_hyperparams:\n",
    "  for i in range(num_top):\n",
    "    best_hyperparams.write(f\"{str(best_hp[i].values)}\\n\")\n",
    "\n",
    "files.download(\"best_hyperparams.txt\")"
   ]
  },
  {
   "cell_type": "code",
   "execution_count": null,
   "metadata": {
    "id": "2UInMx-9Og7d"
   },
   "outputs": [],
   "source": [
    "best_model_hp.summary()"
   ]
  },
  {
   "cell_type": "markdown",
   "metadata": {
    "id": "j0iMjey_LaQk"
   },
   "source": [
    " #### Train from Scratch (Not Recommended) then save"
   ]
  },
  {
   "cell_type": "code",
   "execution_count": 131,
   "metadata": {
    "id": "RKAPCvdnmjwU"
   },
   "outputs": [],
   "source": [
    "model_tuned = build_model_tuned(aa_LSTM_units=50, species_Dense_units=20, \n",
    "                  latent_dim=2, output_activation=\"softmax\") # aa_LSTM_units doesn't apply for Transformer\n"
   ]
  },
  {
   "cell_type": "code",
   "execution_count": 27,
   "metadata": {
    "colab": {
     "base_uri": "https://localhost:8080/"
    },
    "id": "Q-SRmtJ58Sdo",
    "outputId": "70325428-8965-44cc-8878-6260a3c17960"
   },
   "outputs": [
    {
     "data": {
      "text/plain": [
       "<keras.layers.core.dense.Dense at 0x7f55b2e8c100>"
      ]
     },
     "execution_count": 27,
     "metadata": {},
     "output_type": "execute_result"
    }
   ],
   "source": [
    "model_tuned.layers[14]"
   ]
  },
  {
   "cell_type": "code",
   "execution_count": null,
   "metadata": {
    "id": "tN5UdMiim7qD"
   },
   "outputs": [],
   "source": [
    "%%time\n",
    "training_data = [vectorized_aa, vectorized_species] \n",
    "\n",
    "historyVAE = model_tuned.fit(training_data, training_data, epochs=1, validation_split=.1,\n",
    "             callbacks=[tf.keras.callbacks.EarlyStopping(monitor=\"val_aa_output_loss\", min_delta=1e-10,\n",
    "              mode=\"min\", verbose=1, patience=5)])"
   ]
  },
  {
   "cell_type": "code",
   "execution_count": null,
   "metadata": {
    "id": "UQsPnoKbnC-d"
   },
   "outputs": [],
   "source": [
    "# !zip -r /content/full_hp_history.zip /content/untitled_project # zip it \n",
    "# files.download(\"/content/full_hp_history.zip\")"
   ]
  },
  {
   "cell_type": "code",
   "execution_count": null,
   "metadata": {
    "colab": {
     "base_uri": "https://localhost:8080/",
     "height": 17
    },
    "id": "631sYsui0hnr",
    "outputId": "f46085fa-85bf-4a4c-8075-d8301f958187"
   },
   "outputs": [
    {
     "data": {
      "application/javascript": [
       "\n",
       "    async function download(id, filename, size) {\n",
       "      if (!google.colab.kernel.accessAllowed) {\n",
       "        return;\n",
       "      }\n",
       "      const div = document.createElement('div');\n",
       "      const label = document.createElement('label');\n",
       "      label.textContent = `Downloading \"${filename}\": `;\n",
       "      div.appendChild(label);\n",
       "      const progress = document.createElement('progress');\n",
       "      progress.max = size;\n",
       "      div.appendChild(progress);\n",
       "      document.body.appendChild(div);\n",
       "\n",
       "      const buffers = [];\n",
       "      let downloaded = 0;\n",
       "\n",
       "      const channel = await google.colab.kernel.comms.open(id);\n",
       "      // Send a message to notify the kernel that we're ready.\n",
       "      channel.send({})\n",
       "\n",
       "      for await (const message of channel.messages) {\n",
       "        // Send a message to notify the kernel that we're ready.\n",
       "        channel.send({})\n",
       "        if (message.buffers) {\n",
       "          for (const buffer of message.buffers) {\n",
       "            buffers.push(buffer);\n",
       "            downloaded += buffer.byteLength;\n",
       "            progress.value = downloaded;\n",
       "          }\n",
       "        }\n",
       "      }\n",
       "      const blob = new Blob(buffers, {type: 'application/binary'});\n",
       "      const a = document.createElement('a');\n",
       "      a.href = window.URL.createObjectURL(blob);\n",
       "      a.download = filename;\n",
       "      div.appendChild(a);\n",
       "      a.click();\n",
       "      div.remove();\n",
       "    }\n",
       "  "
      ],
      "text/plain": [
       "<IPython.core.display.Javascript object>"
      ]
     },
     "metadata": {},
     "output_type": "display_data"
    },
    {
     "data": {
      "application/javascript": [
       "download(\"download_ec8e2f0a-2f71-4761-9146-13667ad8b97b\", \"VAE_50_20_2_history\", 3038)"
      ],
      "text/plain": [
       "<IPython.core.display.Javascript object>"
      ]
     },
     "metadata": {},
     "output_type": "display_data"
    }
   ],
   "source": [
    "with open('/content/VAE_history', 'wb') as file_pi: # colab specific\n",
    "    pickle.dump(historyVAE.history, file_pi)\n",
    "files.download(\"/content/VAE_history\") # colab specific"
   ]
  },
  {
   "cell_type": "code",
   "execution_count": null,
   "metadata": {
    "id": "b4T0OYipyqUA"
   },
   "outputs": [],
   "source": [
    "model_tuned.save(\"VAE\", overwrite = True, \n",
    "                 include_optimizer = True, save_format =None, \n",
    "                 signatures = None , options = None, save_traces = True)\n",
    "!zip -r /content/VAE.zip /content/VAE # Colab specific\n",
    "files.download(\"/content/VAE.zip\") # Colab specific"
   ]
  },
  {
   "cell_type": "markdown",
   "metadata": {
    "id": "qnVt2hdkRg3x"
   },
   "source": [
    "#### Compare validation loss of two hp models"
   ]
  },
  {
   "cell_type": "code",
   "execution_count": null,
   "metadata": {
    "colab": {
     "base_uri": "https://localhost:8080/",
     "height": 313
    },
    "id": "O9RW3aybvbfO",
    "outputId": "72b7728d-d40e-4171-d545-d087054602d1"
   },
   "outputs": [
    {
     "data": {
      "image/png": "[encoded data removed]",
      "text/plain": [
       "<Figure size 432x288 with 1 Axes>"
      ]
     },
     "metadata": {
      "needs_background": "light"
     },
     "output_type": "display_data"
    },
    {
     "data": {
      "application/javascript": [
       "\n",
       "    async function download(id, filename, size) {\n",
       "      if (!google.colab.kernel.accessAllowed) {\n",
       "        return;\n",
       "      }\n",
       "      const div = document.createElement('div');\n",
       "      const label = document.createElement('label');\n",
       "      label.textContent = `Downloading \"${filename}\": `;\n",
       "      div.appendChild(label);\n",
       "      const progress = document.createElement('progress');\n",
       "      progress.max = size;\n",
       "      div.appendChild(progress);\n",
       "      document.body.appendChild(div);\n",
       "\n",
       "      const buffers = [];\n",
       "      let downloaded = 0;\n",
       "\n",
       "      const channel = await google.colab.kernel.comms.open(id);\n",
       "      // Send a message to notify the kernel that we're ready.\n",
       "      channel.send({})\n",
       "\n",
       "      for await (const message of channel.messages) {\n",
       "        // Send a message to notify the kernel that we're ready.\n",
       "        channel.send({})\n",
       "        if (message.buffers) {\n",
       "          for (const buffer of message.buffers) {\n",
       "            buffers.push(buffer);\n",
       "            downloaded += buffer.byteLength;\n",
       "            progress.value = downloaded;\n",
       "          }\n",
       "        }\n",
       "      }\n",
       "      const blob = new Blob(buffers, {type: 'application/binary'});\n",
       "      const a = document.createElement('a');\n",
       "      a.href = window.URL.createObjectURL(blob);\n",
       "      a.download = filename;\n",
       "      div.appendChild(a);\n",
       "      a.click();\n",
       "      div.remove();\n",
       "    }\n",
       "  "
      ],
      "text/plain": [
       "<IPython.core.display.Javascript object>"
      ]
     },
     "metadata": {},
     "output_type": "display_data"
    },
    {
     "data": {
      "application/javascript": [
       "download(\"download_b8a4bf03-fc92-4641-92e0-98de19618243\", \"val_loss_comparison.png\", 1273)"
      ],
      "text/plain": [
       "<IPython.core.display.Javascript object>"
      ]
     },
     "metadata": {},
     "output_type": "display_data"
    },
    {
     "data": {
      "text/plain": [
       "<Figure size 432x288 with 0 Axes>"
      ]
     },
     "metadata": {},
     "output_type": "display_data"
    }
   ],
   "source": [
    "\n",
    "val_aa_output_loss_50_20_9 = history_50_20_9.history[\"val_aa_output_loss\"]\n",
    "val_aa_output_loss_50_20_2 = history_50_20_2.history[\"val_aa_output_loss\"]\n",
    "epochs = range(1, len(val_aa_output_loss_50_20_9) + 1)\n",
    "\n",
    "start_idx=15\n",
    "# Plot the val_loss values against the epochs\n",
    "plt.plot(epochs[start_idx:], val_aa_output_loss_50_20_9[start_idx:], 'bo', label='latent_dim = 9')\n",
    "plt.plot(epochs[start_idx:], val_aa_output_loss_50_20_2[start_idx:], 'ro', label='latent_dim = 2')\n",
    "plt.title('Validation loss of Reconstructed Sequence')\n",
    "plt.xlabel('Epochs')\n",
    "plt.ylabel('Loss')\n",
    "plt.legend()\n",
    "plt.show()\n",
    "plt.savefig(\"val_loss_comparison\")\n",
    "files.download(\"val_loss_comparison.png\") # Colab Specific"
   ]
  },
  {
   "cell_type": "code",
   "execution_count": null,
   "metadata": {
    "id": "weZmC91drtka"
   },
   "outputs": [],
   "source": [
    "# best_model_hp.layers[3].get_weights()\n",
    "# FIT MODEL\n",
    "# best_model_hp.fit(training_data, training_data)"
   ]
  },
  {
   "cell_type": "code",
   "execution_count": null,
   "metadata": {
    "colab": {
     "base_uri": "https://localhost:8080/",
     "height": 56
    },
    "id": "7lb7Ansfg8tH",
    "outputId": "f243171f-4120-4114-bafb-42474e05b2c2"
   },
   "outputs": [
    {
     "data": {
      "application/vnd.google.colaboratory.intrinsic+json": {
       "type": "string"
      },
      "text/plain": [
       "\"{'aa_LSTM_units': 90, 'species_Dense_units': 21, 'tuner/epochs': 2, 'tuner/initial_epoch': 0, 'tuner/bracket': 7, 'tuner/round': 0}\""
      ]
     },
     "execution_count": 49,
     "metadata": {},
     "output_type": "execute_result"
    }
   ],
   "source": [
    "# str(best_hp[0].values)"
   ]
  },
  {
   "cell_type": "markdown",
   "metadata": {
    "id": "Hnv2XVjBLdun"
   },
   "source": [
    "#### Load Pre-built model (Recommended)"
   ]
  },
  {
   "cell_type": "code",
   "execution_count": 125,
   "metadata": {
    "id": "gwO6cTmxuP06"
   },
   "outputs": [],
   "source": [
    "# model_tuned = keras.models.load_model(\"/content/VAE-50-20-2\")\n",
    "model_tuned = keras.models.load_model(\"./models/VAE_50_20_2\")"
   ]
  },
  {
   "cell_type": "code",
   "execution_count": 11,
   "metadata": {},
   "outputs": [
    {
     "data": {
      "text/plain": [
       "50"
      ]
     },
     "execution_count": 11,
     "metadata": {},
     "output_type": "execute_result"
    }
   ],
   "source": [
    "# model_tuned.layers[3].output.shape[1]\n",
    "# model_tuned.layers[5].output.shape\n",
    "model_tuned.layers[3].output.shape[1]"
   ]
  },
  {
   "cell_type": "code",
   "execution_count": 12,
   "metadata": {},
   "outputs": [
    {
     "data": {
      "text/plain": [
       "TensorShape([None, 51, 50])"
      ]
     },
     "execution_count": 12,
     "metadata": {},
     "output_type": "execute_result"
    }
   ],
   "source": [
    "model_tuned.layers[6].output.shape"
   ]
  },
  {
   "cell_type": "code",
   "execution_count": 9,
   "metadata": {
    "id": "UZW0P85Pe-TB"
   },
   "outputs": [],
   "source": [
    "# Params for testing purposes\n",
    "latent_dim = 2\n",
    "batch_size= 2000\n",
    "total_length = model_tuned.layers[3].output.shape[1] # So far is 51, change"
   ]
  },
  {
   "cell_type": "markdown",
   "metadata": {
    "id": "Jj8wzaTW58nO"
   },
   "source": [
    "## Reconstruction Analysis (Analysis 1)"
   ]
  },
  {
   "cell_type": "code",
   "execution_count": 126,
   "metadata": {
    "collapsed": true,
    "id": "6ajbtyweyMcY"
   },
   "outputs": [
    {
     "ename": "ValueError",
     "evalue": "Input 0 of layer \"model_13\" is incompatible with the layer: expected shape=(None, 50, 21), found shape=(100, 50, 22)",
     "output_type": "error",
     "traceback": [
      "\u001b[0;31m---------------------------------------------------------------------------\u001b[0m",
      "\u001b[0;31mValueError\u001b[0m                                Traceback (most recent call last)",
      "Cell \u001b[0;32mIn [126], line 2\u001b[0m\n\u001b[1;32m      1\u001b[0m \u001b[38;5;66;03m# sample_output = best_model_hp([vectorized_aa[100:200], vectorized_species[100:200]])\u001b[39;00m\n\u001b[0;32m----> 2\u001b[0m sample_output \u001b[38;5;241m=\u001b[39m model_tuned([vectorized_aa[\u001b[38;5;241m0\u001b[39m:\u001b[38;5;241m100\u001b[39m], vectorized_species[\u001b[38;5;241m0\u001b[39m:\u001b[38;5;241m100\u001b[39m]])\n",
      "File \u001b[0;32m~/.local/lib/python3.10/site-packages/keras/utils/traceback_utils.py:70\u001b[0m, in \u001b[0;36mfilter_traceback.<locals>.error_handler\u001b[0;34m(*args, **kwargs)\u001b[0m\n\u001b[1;32m     67\u001b[0m     filtered_tb \u001b[38;5;241m=\u001b[39m _process_traceback_frames(e\u001b[38;5;241m.\u001b[39m__traceback__)\n\u001b[1;32m     68\u001b[0m     \u001b[38;5;66;03m# To get the full stack trace, call:\u001b[39;00m\n\u001b[1;32m     69\u001b[0m     \u001b[38;5;66;03m# `tf.debugging.disable_traceback_filtering()`\u001b[39;00m\n\u001b[0;32m---> 70\u001b[0m     \u001b[38;5;28;01mraise\u001b[39;00m e\u001b[38;5;241m.\u001b[39mwith_traceback(filtered_tb) \u001b[38;5;28;01mfrom\u001b[39;00m \u001b[38;5;28mNone\u001b[39m\n\u001b[1;32m     71\u001b[0m \u001b[38;5;28;01mfinally\u001b[39;00m:\n\u001b[1;32m     72\u001b[0m     \u001b[38;5;28;01mdel\u001b[39;00m filtered_tb\n",
      "File \u001b[0;32m~/.local/lib/python3.10/site-packages/keras/engine/input_spec.py:295\u001b[0m, in \u001b[0;36massert_input_compatibility\u001b[0;34m(input_spec, inputs, layer_name)\u001b[0m\n\u001b[1;32m    293\u001b[0m \u001b[38;5;28;01mif\u001b[39;00m spec_dim \u001b[38;5;129;01mis\u001b[39;00m \u001b[38;5;129;01mnot\u001b[39;00m \u001b[38;5;28;01mNone\u001b[39;00m \u001b[38;5;129;01mand\u001b[39;00m dim \u001b[38;5;129;01mis\u001b[39;00m \u001b[38;5;129;01mnot\u001b[39;00m \u001b[38;5;28;01mNone\u001b[39;00m:\n\u001b[1;32m    294\u001b[0m     \u001b[38;5;28;01mif\u001b[39;00m spec_dim \u001b[38;5;241m!=\u001b[39m dim:\n\u001b[0;32m--> 295\u001b[0m         \u001b[38;5;28;01mraise\u001b[39;00m \u001b[38;5;167;01mValueError\u001b[39;00m(\n\u001b[1;32m    296\u001b[0m             \u001b[38;5;124mf\u001b[39m\u001b[38;5;124m'\u001b[39m\u001b[38;5;124mInput \u001b[39m\u001b[38;5;132;01m{\u001b[39;00minput_index\u001b[38;5;132;01m}\u001b[39;00m\u001b[38;5;124m of layer \u001b[39m\u001b[38;5;124m\"\u001b[39m\u001b[38;5;132;01m{\u001b[39;00mlayer_name\u001b[38;5;132;01m}\u001b[39;00m\u001b[38;5;124m\"\u001b[39m\u001b[38;5;124m is \u001b[39m\u001b[38;5;124m'\u001b[39m\n\u001b[1;32m    297\u001b[0m             \u001b[38;5;124m\"\u001b[39m\u001b[38;5;124mincompatible with the layer: \u001b[39m\u001b[38;5;124m\"\u001b[39m\n\u001b[1;32m    298\u001b[0m             \u001b[38;5;124mf\u001b[39m\u001b[38;5;124m\"\u001b[39m\u001b[38;5;124mexpected shape=\u001b[39m\u001b[38;5;132;01m{\u001b[39;00mspec\u001b[38;5;241m.\u001b[39mshape\u001b[38;5;132;01m}\u001b[39;00m\u001b[38;5;124m, \u001b[39m\u001b[38;5;124m\"\u001b[39m\n\u001b[1;32m    299\u001b[0m             \u001b[38;5;124mf\u001b[39m\u001b[38;5;124m\"\u001b[39m\u001b[38;5;124mfound shape=\u001b[39m\u001b[38;5;132;01m{\u001b[39;00mdisplay_shape(x\u001b[38;5;241m.\u001b[39mshape)\u001b[38;5;132;01m}\u001b[39;00m\u001b[38;5;124m\"\u001b[39m\n\u001b[1;32m    300\u001b[0m         )\n",
      "\u001b[0;31mValueError\u001b[0m: Input 0 of layer \"model_13\" is incompatible with the layer: expected shape=(None, 50, 21), found shape=(100, 50, 22)"
     ]
    }
   ],
   "source": [
    "# sample_output = best_model_hp([vectorized_aa[100:200], vectorized_species[100:200]])\n",
    "sample_output = model_tuned([vectorized_aa[0:100], vectorized_species[0:100]])"
   ]
  },
  {
   "cell_type": "code",
   "execution_count": null,
   "metadata": {
    "id": "xrqRu2WBXQF1"
   },
   "outputs": [],
   "source": [
    "sequence_idx = 0\n",
    "num_samples = 100\n",
    "reconstructed_sequences = []\n",
    "# max_indices = tf.argmax(training_data[0][sequence_idx], axis=-1).numpy().astype(np.int32)\n",
    "for i in range(num_samples):\n",
    "  max_indices = tf.argmax(sample_output[0][i], axis=-1).numpy().astype(np.int32)\n",
    "  max_indices\n",
    "  aa_strings = vectorize_aa.get_vocabulary()\n",
    "  reconstructed_sequences.append(\"\".join(np.ndarray.tolist(np.array(aa_strings)[max_indices])).upper())\n",
    "\n"
   ]
  },
  {
   "cell_type": "code",
   "execution_count": 1,
   "metadata": {
    "collapsed": true,
    "id": "_tXi0_0Qx_-c"
   },
   "outputs": [
    {
     "ename": "NameError",
     "evalue": "name 'reconstructed_sequences' is not defined",
     "output_type": "error",
     "traceback": [
      "\u001b[0;31m---------------------------------------------------------------------------\u001b[0m",
      "\u001b[0;31mNameError\u001b[0m                                 Traceback (most recent call last)",
      "Cell \u001b[0;32mIn [1], line 1\u001b[0m\n\u001b[0;32m----> 1\u001b[0m \u001b[38;5;28mlist\u001b[39m(\u001b[38;5;28mzip\u001b[39m(reconstructed_sequences, aa_sequences))\n",
      "\u001b[0;31mNameError\u001b[0m: name 'reconstructed_sequences' is not defined"
     ]
    }
   ],
   "source": [
    "\n",
    "list(zip(reconstructed_sequences, aa_sequences)) # CHECK vectorize_aa mapping if this misbehaves. It's a known bug."
   ]
  },
  {
   "cell_type": "markdown",
   "metadata": {
    "id": "o0IsA8xX6Bzy"
   },
   "source": [
    "PERFECT reconstruction on all sequences."
   ]
  },
  {
   "cell_type": "code",
   "execution_count": null,
   "metadata": {
    "id": "VBGG151cz6LP"
   },
   "outputs": [],
   "source": [
    "allSequences[0:100]"
   ]
  },
  {
   "cell_type": "markdown",
   "metadata": {
    "id": "F6E-w-G-520l"
   },
   "source": [
    "## Random Sampling - De Novo Sequence Analysis (Analysis 2)"
   ]
  },
  {
   "cell_type": "code",
   "execution_count": 63,
   "metadata": {
    "id": "Dwut6N2we667"
   },
   "outputs": [],
   "source": [
    "decoder_lstm = model_tuned.layers[10]"
   ]
  },
  {
   "cell_type": "code",
   "execution_count": 64,
   "metadata": {
    "id": "Gvma4bwtfjAl"
   },
   "outputs": [],
   "source": [
    "aa_output_Dense = model_tuned.layers[-2] "
   ]
  },
  {
   "cell_type": "code",
   "execution_count": 65,
   "metadata": {
    "colab": {
     "base_uri": "https://localhost:8080/"
    },
    "id": "dgGNAJsLjxxQ",
    "outputId": "25e437e5-7768-45b8-b4e6-d8e7eefc08c8"
   },
   "outputs": [
    {
     "data": {
      "text/plain": [
       "<keras.layers.core.lambda_layer.Lambda at 0x7f451ffc0dc0>"
      ]
     },
     "execution_count": 65,
     "metadata": {},
     "output_type": "execute_result"
    }
   ],
   "source": [
    "latent_sampling_layer = model_tuned.get_layer(\"lambda_13\")\n",
    "latent_sampling_layer\n"
   ]
  },
  {
   "cell_type": "code",
   "execution_count": 211,
   "metadata": {},
   "outputs": [
    {
     "data": {
      "text/plain": [
       "TensorShape([2000, 50, 2])"
      ]
     },
     "execution_count": 211,
     "metadata": {},
     "output_type": "execute_result"
    }
   ],
   "source": [
    "z_mean = np.full(shape=(batch_size,total_length,latent_dim), fill_value=0.0) # Basically the two features\n",
    "# z_mu\n",
    "z_log_var = np.full(shape=(batch_size,total_length,latent_dim), fill_value=40.0) # Basically the two features\n",
    "\n",
    "# z_mu_2 = np.array([0.0, 0.0])\n",
    "\n",
    "# z_sigma = np.array([1.0, 1.0])\n",
    "# temperature = 1.0\n",
    "latent_vector = latent_sampling_layer([z_mean,z_log_var]) # To characterize a given 2D gaussian\n",
    "latent_vector.shape\n"
   ]
  },
  {
   "cell_type": "code",
   "execution_count": 202,
   "metadata": {
    "id": "mYW9T0Exkjo3"
   },
   "outputs": [],
   "source": [
    "# this method is selecting a random mean & var. Not all that insightful for the model analysis.\n",
    "# latent_vector = latent_sampling_layer([np.random.normal(loc=z_mu_1, scale=temperature, \n",
    "#                                                         size=(batch_size,total_length,latent_dim)), \n",
    "#                                        np.random.normal(loc=z_mu_2, scale=temperature, \n",
    "#                                                         size=(batch_size,total_length,latent_dim))]) # last feature is species\n",
    "# latent_vector = latent_sampling_layer([np.zeros(shape=(batch_size,51,latent_dim)), \n",
    "                                      #  np.zeros(shape=(batch_size,51,latent_dim))]) \n",
    "                                      #  np.random.normal(size=(1,51,2))]) # last feature is species"
   ]
  },
  {
   "cell_type": "code",
   "execution_count": 192,
   "metadata": {},
   "outputs": [],
   "source": [
    "# latent_vector = tf.reshape(latent_vector, (1,1,2))"
   ]
  },
  {
   "cell_type": "code",
   "execution_count": 193,
   "metadata": {
    "id": "ITP3G8kglSsi"
   },
   "outputs": [],
   "source": [
    "# latent_vector = tf.reshape(latent_vector, (1,1,3))\n",
    "# tf.shape(latent_vector)\n",
    "# latent_vector"
   ]
  },
  {
   "cell_type": "code",
   "execution_count": 194,
   "metadata": {
    "colab": {
     "base_uri": "https://localhost:8080/"
    },
    "id": "GtNcHkTlnVGJ",
    "outputId": "e94bb4b3-a239-44ee-cfb1-d3b7eb1a3395"
   },
   "outputs": [
    {
     "data": {
      "text/plain": [
       "<KerasTensor: shape=(None, 51, 2) dtype=float32 (created by layer 'lambda_13')>"
      ]
     },
     "execution_count": 194,
     "metadata": {},
     "output_type": "execute_result"
    }
   ],
   "source": [
    "# decoder_lstm.input\n",
    "latent_sampling_layer.output"
   ]
  },
  {
   "cell_type": "code",
   "execution_count": 195,
   "metadata": {},
   "outputs": [
    {
     "data": {
      "text/plain": [
       "<KerasTensor: shape=(None, 51, 2) dtype=float32 (created by layer 'lambda_13')>"
      ]
     },
     "execution_count": 195,
     "metadata": {},
     "output_type": "execute_result"
    }
   ],
   "source": [
    "decoder_lstm.input"
   ]
  },
  {
   "cell_type": "code",
   "execution_count": 212,
   "metadata": {
    "collapsed": true,
    "id": "nRU3Cwn2YBTi"
   },
   "outputs": [
    {
     "data": {
      "text/plain": [
       "<tf.Tensor: shape=(2000, 50, 21), dtype=float32, numpy=\n",
       "array([[[1.62698086e-08, 3.09258563e-10, 8.39254888e-10, ...,\n",
       "         1.62438937e-07, 1.50861609e-07, 2.99582648e-09],\n",
       "        [1.04233573e-08, 5.77972982e-11, 1.13801440e-10, ...,\n",
       "         5.51011254e-08, 6.92877151e-08, 1.62293678e-09],\n",
       "        [1.92665539e-05, 4.53349003e-08, 1.72583349e-02, ...,\n",
       "         1.32436969e-06, 3.15316697e-08, 5.10519953e-04],\n",
       "        ...,\n",
       "        [1.12416977e-02, 3.89522858e-09, 9.88361299e-01, ...,\n",
       "         1.38149989e-08, 5.03197413e-08, 1.45414258e-08],\n",
       "        [4.12773603e-04, 3.35052475e-09, 9.99557436e-01, ...,\n",
       "         1.97992089e-09, 3.32556049e-09, 4.83001283e-09],\n",
       "        [1.87034748e-04, 3.19816995e-09, 9.99783516e-01, ...,\n",
       "         2.24655694e-09, 1.33672717e-09, 5.57301227e-09]],\n",
       "\n",
       "       [[1.43768402e-05, 1.86784970e-08, 2.57727265e-07, ...,\n",
       "         7.54333058e-08, 9.01411340e-07, 2.48410204e-09],\n",
       "        [9.96558461e-03, 1.88238687e-07, 4.11622925e-04, ...,\n",
       "         9.72065322e-07, 2.20873903e-06, 1.68197598e-08],\n",
       "        [1.98374455e-05, 5.06479392e-09, 1.73487237e-07, ...,\n",
       "         4.19793309e-07, 3.14939598e-06, 1.28270727e-09],\n",
       "        ...,\n",
       "        [2.27686432e-05, 1.36391707e-08, 3.77091993e-08, ...,\n",
       "         1.09457240e-07, 1.18303490e-06, 6.08258466e-09],\n",
       "        [1.86774272e-07, 3.52067125e-10, 1.85633362e-05, ...,\n",
       "         2.77359823e-06, 2.92727762e-08, 1.12258114e-07],\n",
       "        [4.58160462e-03, 5.03543589e-08, 1.24661055e-05, ...,\n",
       "         1.47357264e-06, 1.48249883e-05, 9.10662479e-09]],\n",
       "\n",
       "       [[8.71656928e-03, 2.64774599e-07, 2.06905394e-03, ...,\n",
       "         1.95378107e-06, 1.13152873e-06, 3.62504124e-08],\n",
       "        [6.23097993e-04, 1.89330738e-08, 9.98658776e-01, ...,\n",
       "         2.73737228e-08, 1.00051217e-07, 1.17041523e-08],\n",
       "        [2.93239175e-08, 2.75268114e-10, 4.76205242e-10, ...,\n",
       "         1.89460927e-08, 1.99947621e-07, 1.56753027e-10],\n",
       "        ...,\n",
       "        [2.58561850e-01, 1.37663292e-07, 3.39454591e-01, ...,\n",
       "         9.63495381e-07, 2.31330978e-06, 4.36838228e-08],\n",
       "        [4.22902594e-05, 1.83452755e-08, 1.12553479e-07, ...,\n",
       "         1.31028912e-06, 1.10207275e-05, 1.72404331e-08],\n",
       "        [1.89509662e-03, 7.97347699e-09, 9.97115552e-01, ...,\n",
       "         2.38638211e-08, 9.03975774e-08, 4.11672119e-08]],\n",
       "\n",
       "       ...,\n",
       "\n",
       "       [[1.05827166e-05, 2.27142731e-08, 8.43469365e-08, ...,\n",
       "         4.45679831e-07, 1.28975516e-04, 1.18930551e-07],\n",
       "        [1.91046365e-05, 6.99711444e-09, 2.18445365e-07, ...,\n",
       "         6.52269989e-07, 6.62413822e-06, 3.99684774e-09],\n",
       "        [1.04179336e-02, 6.10828677e-09, 9.89138484e-01, ...,\n",
       "         1.71301995e-08, 6.98791141e-08, 1.21082691e-08],\n",
       "        ...,\n",
       "        [2.71981935e-05, 3.51480196e-08, 2.83373874e-02, ...,\n",
       "         3.57693079e-06, 1.35322438e-07, 6.21097453e-04],\n",
       "        [1.17176346e-09, 4.65992400e-09, 2.74293399e-07, ...,\n",
       "         1.15735911e-05, 2.23669858e-07, 6.42325091e-08],\n",
       "        [1.39036791e-08, 1.43635026e-09, 1.25603001e-05, ...,\n",
       "         7.88583293e-06, 1.66943472e-08, 2.24867154e-06]],\n",
       "\n",
       "       [[5.19472087e-05, 2.66926214e-08, 4.12888415e-02, ...,\n",
       "         3.03052475e-05, 2.41440694e-06, 4.03420599e-05],\n",
       "        [1.33768172e-05, 1.88003533e-08, 4.14328056e-08, ...,\n",
       "         1.34994735e-07, 1.05754521e-06, 2.74113177e-09],\n",
       "        [4.12953477e-06, 3.01249408e-08, 9.08430842e-09, ...,\n",
       "         5.50017887e-07, 1.84938654e-05, 1.32550255e-07],\n",
       "        ...,\n",
       "        [5.40128636e-11, 2.87482105e-09, 1.95119974e-08, ...,\n",
       "         1.83364627e-05, 1.50849601e-07, 2.31421833e-08],\n",
       "        [1.31574807e-09, 9.41202494e-09, 4.34469229e-07, ...,\n",
       "         2.65541676e-05, 4.52344739e-09, 1.70605631e-07],\n",
       "        [3.05379299e-03, 7.16724102e-08, 1.67140097e-05, ...,\n",
       "         1.20547963e-06, 1.11890040e-05, 8.28482349e-09]],\n",
       "\n",
       "       [[1.45881813e-05, 1.77710824e-09, 1.94191225e-02, ...,\n",
       "         1.06474999e-06, 6.94904578e-09, 9.58306600e-07],\n",
       "        [8.82945244e-07, 2.10323226e-08, 4.65901238e-08, ...,\n",
       "         3.10081589e-07, 5.59699583e-05, 5.72865062e-08],\n",
       "        [5.01884555e-04, 1.50364443e-09, 9.99113798e-01, ...,\n",
       "         1.38306335e-08, 2.24021002e-09, 4.53266757e-08],\n",
       "        ...,\n",
       "        [8.82397033e-03, 5.74687036e-08, 9.85727489e-01, ...,\n",
       "         2.83231515e-07, 1.77750934e-07, 1.03895985e-07],\n",
       "        [1.94717850e-05, 1.04006503e-09, 4.88688760e-02, ...,\n",
       "         5.33142611e-07, 2.01799129e-08, 2.67735140e-06],\n",
       "        [3.11990860e-08, 3.22550120e-09, 3.58103607e-05, ...,\n",
       "         1.19330598e-05, 5.59605979e-08, 6.10238294e-06]]], dtype=float32)>"
      ]
     },
     "execution_count": 212,
     "metadata": {},
     "output_type": "execute_result"
    }
   ],
   "source": [
    "# Sample from the latent space\n",
    "\n",
    "# latent_vector = np.random.normal(size=(1, 2, latent_dim))\n",
    "\n",
    "# Use the decoder model to generate a sequence from the latent vector\n",
    "decoded_sequence = decoder_lstm(latent_vector)\n",
    "decoded_sequence\n",
    "# output_aa = tf.keras.layers.Dense(aa_vocab_size, \n",
    "# activation=output_activation, name='aa_output')(decoder_aa[:,:max_aa_length]) # What activation?\n",
    "generated_sequence_tensor = aa_output_Dense(decoded_sequence[:,:max_aa_length])"
   ]
  },
  {
   "cell_type": "code",
   "execution_count": 214,
   "metadata": {
    "colab": {
     "base_uri": "https://localhost:8080/"
    },
    "id": "WmU-JABR1aVR",
    "outputId": "d2e19ce2-be06-491c-e7e1-e2565aff10d8",
    "scrolled": true
   },
   "outputs": [
    {
     "data": {
      "text/plain": [
       "['GGLVGKGLLKKVLGLKRGVGRRFIRAAKGGKKKVKGVVKKKIKIRVCKKK',\n",
       " 'IRIRKKLRGVGKVVKKLGIFGGGRLILKKIKGLIKRGGIGRRCKRKIVR',\n",
       " 'RKGRRKKGVLGKGGLRGGRKKLLKKGLFGILVRRVRIGKRKKRRKLKRIK',\n",
       " 'FRIRRGILRKKVIVLALKRRRKRKGAKGKALKKKGRGRGIKKGGKGKLRK',\n",
       " 'LARLVGKIKGLGLRKRKGKGRKVLKKIGGLKRLIIIIRRARFIKAKCFLL',\n",
       " 'VLGARKGRVLVGFAKGGLGKLKIVRLVKIIRKRRRVVGVGLGIGVRKKR',\n",
       " 'FLGFIGRCLIAIIGRKLGRKLVLVKVIKKRLIKLVIIKKGRALFGLAIGI',\n",
       " 'GKRGGLVLGLGGGFAAIIGVKIARVIKIRVVGLKGVGVGLRRLAGGIR',\n",
       " 'KGGGARGLARVKLKAKLIRVGGIRGFGVKGKIKRVKVVGLGVKLIRIIG',\n",
       " 'AVGKGLKKLVGFFKGGRRVRGKAGKLGGKIKRLGVGGRGLGGLGGGRAAG',\n",
       " 'GRGKIKLKFVIGIARVGRIGVLAGFGVKKKIRGRGGLCKFGIKLGLLRRA',\n",
       " 'KGGVKGKLKGFIFGIAGGIGIIAKAGGKKIIIKIFGIGIKVGGGGRKKRK',\n",
       " 'GGAFGKILCLLGAAKVRIFGKGLGRGLIKVGRIIRGGKVGRKRGKLAIIG',\n",
       " 'VLVRIKKICFKVLACLLGAGIGKRGGVGKLKVVGRGIRRGRGIILIKKLL',\n",
       " 'KGKVVKVKVGKLRRGLRGRKLGCKKAVRGKRGFLLRGARGKRGIIVVVKR',\n",
       " 'IGLRRKGGVKIKLLRGRIIKRKKGKFIRLRGGVKKGVGILRFGGIVGLKR',\n",
       " 'IKAIVGIVKAGVVGGGKGKVRVGKKVVRGRFKVAGVGRILGRVLLRRAV',\n",
       " 'GFVKFAKGKIIKKFLKIVRIGLIRLRVKRRKKGKKKRKFIRIGFVKAGKK',\n",
       " 'GRGKLALGRKVKRRRGRGIKAIKGGKLRRILAFFAKGLRKRGKLIRGLLK',\n",
       " 'RKRKIFLGGKRKLLGGRKGGLALKKRFAGAGKVGVRRGKGKCILVIIRIK',\n",
       " 'IKLKKGRIGRKVKKKKVGIAIFAGIALKGKGGGKGGVGKKILAIKGLGI',\n",
       " 'GKKIGRIIKLGKAKKGGGLGGIGLKKKGGIGLCAKKGKKRKRLKKFKFKL',\n",
       " 'LGIGFCGVILGIRGRKGIIAIGVGVGIGIRKGKLVGGGAGRIIILIVLKA',\n",
       " 'RVFIVRVAKAKFGIIVRAKKKGGRGGIAGKKGCFGRIGVRVFLGGFFKFV',\n",
       " 'KCFGGFRRLIKRAKGFVRVKFKKLFGKGKVAVGKRRIIAGRGLAVLLKI',\n",
       " 'KRLGIIIRGVIVKLRRGVIAIIRVVVRRLLGKKLIGKRGVGKVKFILIR',\n",
       " 'VVRGRKGLAVKKAIGGAVLRKKIGKKCARVKLIAKKAVLKGLIRKVVLKA',\n",
       " 'AVGKLRRARKKKLKVIKLGRIKKVIGIKGGILGKFGGGKGIIRKIAKIVK',\n",
       " 'GIFIGGGLAGGGGRKRLKARKRGIGVIGGKGGIRIIRGKGGRKRVRKLV',\n",
       " 'GKLGKLGKLRRKRIKLKGGVARVKRKGAGGLIRIGKIGRLFKFIGLFKFL',\n",
       " 'IAKVLKAGRRVVLVRGIGVVIKGVLIILAGKGGGGILLRKGGRKRGLGK',\n",
       " 'AGGGVLLKKIRRLGIGKAGARLRVGFKRKFLVKVGCKGKALLAGLRKIV',\n",
       " 'RVVRVGKVGLVKRVLKKIKAFGKVRGGRIIRILLCGRAFGIGRGFLGGA',\n",
       " 'IKKGIILGVIRGGRGGFIAGVKGRFIVGRRFFRLKKVILKGLAAKLLKG',\n",
       " 'LVCAIFKRFIGIGIKAGGVLRLAKAFGKKKLGFRGGGRAKVFIKKLRIAR',\n",
       " 'LGLIRGKGVIRILKIVIRRGGVGRGVKFVRGKGRLAGIGKIRKVGKARVK',\n",
       " 'FRIGIRRIRKGVRKKGFVIFLFIVKLRKGIKRIGARLVAKAAKIRKLKAI',\n",
       " 'LCILGGVRGRVVGRGLLGKGKGKAKIRGRGGIGIFAKLGRVGKKLIRFKF',\n",
       " 'AGILGRGVKCAAVLVLGLKKLGGLRAKVVLLRVGRKGGGGKGLGGKAKR',\n",
       " 'LKKGIRGFLIKGIRLGGGGGGGGKKIIKRKKGGGRIFIFKIKKAIKRRLL',\n",
       " 'RVIIGKRVVGRGFKRVRGKKKILIIKRGIGGLGAGVGKLKLRARGGKGIA',\n",
       " 'RGRIVGRARIRVKLGVVFKAGRKRRGKLGGRGRLKKIKVVRGRGRLVFR',\n",
       " 'GLLGGIKFLVGGGLGGKGVRRVGGKIKGGAKRVGVKVIGVVAFGRGIVGG',\n",
       " 'KIARLKAKRGKGLGARGVVKKKRILGRKRRLRKRGKLLGKGVRLLLRGA',\n",
       " 'IRGKIFKGARCRGGVGGGKRKRIGLGGGKARKRVKVIVVGRRRGLKALK',\n",
       " 'ILVKKGKGRRFVGAIAGKLVGVRRGVIIKRIICVIRGVGFGGGRRFIVI',\n",
       " 'IKVKIVKVVLIIGGFGIKVRRKGLRKKIKCCAGVLVGRGGGLGRIGILIG',\n",
       " 'LGAGRGVGGAGGRGRGAKGLGVGFGKGLIKCLRFLGGKGVRKGRLIGIGR',\n",
       " 'KFIFGKRKFGVVLLILRGKGKRVGLGGKGLAIFKRLGGLGFLGIKGVGLI',\n",
       " 'LGRRGGGKKLVIKLLIILRIKGGRLVKAAAIIGLLGFLRRFKARGLKKRI',\n",
       " 'VVRIVRKKRIGVIFGKKVGGVLGCKAKRARRRRGIGLIGKKGAVGVIRI',\n",
       " 'GRARGLVLGKGGLFKGKLKKIKAIARKKGRRGILGIKVIFGGFLFGFGK',\n",
       " 'KGKGIKIRFGKRVRLKFIVAGGKAKRGLGKKIKKKGLGIGVRKKRFGGK',\n",
       " 'IGKGKVKKAKVRGARGRGKIGKIRGGIGGGVKGRCGVGRGFVIKKKALGA',\n",
       " 'GLLARGIIKGIAKVVGRKIRKGKAAKLRKGIVLGVVRGIFKKGRKLRLKL',\n",
       " 'IKCLKRRVVCRKKRKIGGKRGIGVRIGLRIRLCIKKRLRKLGIKRLIGKF',\n",
       " 'VRLIIRVRAGFGAGKKVAFGIGKKVKKARIGGGGIRKRRARLGLGIRGIF',\n",
       " 'GRGFKKLAGKGKGGFGKLGGKGLVKAGRGFGVKKRKGGGKVRILLFRGVI',\n",
       " 'GLIKRIKVIFGKRIVIGKGGRARRIGILAGGGGKRFIVLVLRALVGAAVG',\n",
       " 'IKGKGIRRKAIGRVARFAGGLICKKKGGKGGGVLKIGGIRRRVRVFAKG',\n",
       " 'AKGLGLKLGLVFGLGRAIKGKGGKFRGGACGRVGGGGVRLIRGKRKIILR',\n",
       " 'LGVKVKKVGRKILKKKCFGIKAGKKGVACKVKVRGAKGGIGIVARKRL',\n",
       " 'GKVKRRVARRGKIRRGKRLRGIFGLILAIGKGILKGGGVAAKLLGLVGKV',\n",
       " 'VGLKKVVKKRIKLLRLRKKKLLRFGILKFVAGAGGGIVGLKKIARLIRAI',\n",
       " 'GRGVVGKVGGLVGIVVRKKGRAVRVIGAKGKRGKIKKLKGILAKKAVAIV',\n",
       " 'ALLKGLILAKGVILIRFGVLVILLGAVGGGAKVLIIGGKGVLKGKRKRGI',\n",
       " 'LIVRVAIKARVGAKKKGGRIAKKIGGALAIRKIGIGKKRRLGKGKIKII',\n",
       " 'LGKVGRIKGGKKKLGGIKGVRLGVKGARGKARIVAALGLRGAKKRIAIGL',\n",
       " 'KLRVAFLGVFFKIFLGVGKKAFVVGRLKGKKKGGGGGRKKIRIIGKKLLI',\n",
       " 'ILGRRGCKRVLLKVLGGLKGKLAKGGGRAAGKGARKGRKGGVLGLGGLFR',\n",
       " 'KGGLFAKGRACAGAGRKKFKFGKAKIGCLRKRVLCAKVFIKKGGLGGLKK',\n",
       " 'VGGLGKFRRKGRKGGIKGGLRKAAGLRVLVGAKKKGKAIRKIRGRVIK',\n",
       " 'VGGKLGVRKRIGKGLAIVKGGGGKGIIAKRRGLRGIGVKKILKVRRIKGR',\n",
       " 'GGRIAGGRVRAILKVGKRGGVCKKVKGVKGLVIGKVFRVGGGKVGGLRGL',\n",
       " 'GRGIVKRRKKKGCVGFKKIGKIKIRLVVVKGGRVRKIIVIKKRAVVGLG',\n",
       " 'KGKAGRVVKLVKFGGCGFIGGKRRLGFLKKGVVGGLGFKRAGKARKLG',\n",
       " 'KLLVVAKLRGAGIKGFILLRFVKVALIIIRGRKIRKCIFIGLRLGLKRG',\n",
       " 'GKRIKGLIVIIRAVLGKKALLRGFRKFGLGAGCRGIIRFLVKAKIAKAI',\n",
       " 'RGGLVGLLKAFVKRRAKARGGRLGGLIKLIGKFKRRIKKAIKGGLLGR',\n",
       " 'LLGKGGGIGLLGLGGVGGKRAGVIIKFVLGRKKKGIGGRIIVLCGRGLL',\n",
       " 'AAGGCIVKGGGRKRLAIRGRRKGRVKKAVAVGLRGGGLKKVGLIKIVVVG',\n",
       " 'FGLKGGILIKVGIKFGRKVRLARKIIGGILFLIIVKAVGAVLKARAICRI',\n",
       " 'LKIIKKVRGIIIGFVLLLLILRIAGRIRLLRVVLRFKFLGRRFKGKAAR',\n",
       " 'FKKKGKGVVVVGGIAGGKGKGRKVLGLRIGCGRKKLGILVLGIIVAIVGG',\n",
       " 'LVGIIFKKGVRRIKLGLARKAVIGGKGIGFIGGRKRRGVVIRGGGKGAKG',\n",
       " 'GRIAKAIGGGGAILGKKRARGIKIGKVLAKKGRARVGRVKAAIRKIKVVC',\n",
       " 'RVKLIFILCRKGIGGGGRGARAGKRLKKGGKLVIAGGKGKLKVAGRKVKG',\n",
       " 'GKGRGGAKLLVKKGRVLRRVGGGRCIGVGRGGKILRVFGIGKAGGIGRG',\n",
       " 'RLGGFKLLGGAIRILGIGRGVCGLRLKKRKKLGKRGLLKRVRIRRVGKKG',\n",
       " 'ILAVFRGVLGLRGIKRAKRIGKGKVKRLVKIKKGVKAKARRKGIRAGIAG',\n",
       " 'KIIKGVIVCAGIGLCVGCKGKGVGGLLIIVGLFKLLRFLLLLKGGGGGVI',\n",
       " 'GVIVGALLRIIKVFRGLKGRVGGRACRKIKGFGLIGRGGLGGRIGLCFG',\n",
       " 'GIVIGLGKVGVVGGVRAFVGIIKGKGLGKGLGKGGKKRGRCLGVLRKGRI',\n",
       " 'IRAVKKKALFLVRGKGLLIKFVLKGKIKRGRKGLRKGRRIGGLIKGLRAG',\n",
       " 'LGCKRGCAGKKVIGGIRGLGKRGGIGGKKGGAGLLRRGGLKLIRLVGLKR',\n",
       " 'AKLLKKRKAVVKIVGKRVVGKLRKIKIRGIKGVGKAGVFGIGLVVIFAFR',\n",
       " 'VKLGLRVVAKKRAILVLFKGVVRLVRLGIGIVRVVVKLKRKRFFGVKAVG',\n",
       " 'KLGIGIKFGIIKKAILAGIKILIGVAVRRGGILVVGKGRKGILRKGRGVV',\n",
       " 'KIGVIGKFGGKGRAIRKALGKGKKLICIKIKGRGGRGFGCKIFLKFKRKR',\n",
       " 'RIRKKGVIILRGVRIIGLRGGFRLGIIGLKFGKGVGKIKKLKKAGGKVKK',\n",
       " 'FLLALICAALKGGLRGVGGGGGGGRGKVALRKRLAGKGGGFGLIGKKFKG',\n",
       " 'GKKKGLRGGKKLKKVVKGKKVAKKIGIRKIIKALLLALIARKAIKGKAI',\n",
       " 'VKAIILKKIAFRAIKKGRVIKKGAGLRLGGIIGAGGRKLGVVRVKVLGKA',\n",
       " 'LLKGGLGGKKARLKKRIRRGGVIGGRFGKRKLKRVRRGARIKIIGGIFK',\n",
       " 'CLIKKFGGLKAGGKGRKGGGIVKFKAGVGRGVLFKGIKCKRGKKGGKLVR',\n",
       " 'LRGKGGRGGGVKVKIVLVGGGIKKRKAKKFGLRRRRRGVAKRAAARLAVR',\n",
       " 'RRLVKGRRAGKLVLLKGGRIGGLRGVLRKKIVGGGAGRKRGKAGKIRIC',\n",
       " 'GRFFVGAKKKRAILIGFLVGGIVKILIRVKGAAGVKIGLARAIVLKKRL',\n",
       " 'AGLGIGIKRKGKAARGVGLIRAGRRLGKGAKIKGRKGKVAKRIGGRAVRK',\n",
       " 'VKRLVLIGIARLRGLFKVILGFCIGVAGAVRGVRFKRVLILKRIGKGRV',\n",
       " 'LGIGRIGFRVGFGGLKRGIGKGLGRGCLALKKKKRIGFRGKRGFLKAGCA',\n",
       " 'IILLGIFLRVLGGAIAIGKKGGKIGVIKLRFIKAVGGGILARGGGGAGKK',\n",
       " 'KGRRKRKGIRKRKVLIRGGKIKLVGKGILKRGFLGKGGIRKLKKFKGLCF',\n",
       " 'RVGAIGGGLLLVLRAAVIGGKIVKIRGRCVGFIIGAFGVGRKRRGIAIGK',\n",
       " 'GLRVKKLGGKIILIIGFFKAKCRKFFAVGGGIRGARLKIIVLGKLRVLGG',\n",
       " 'KGRGKRAVKGVIIKKRILGLLIRIRKLRGLLRLKFGGKAGGIVKFRKRRG',\n",
       " 'LGGKGIRARKIRKIGRFKGRILKGGGIIKIKIIVLRGKGKLRLKIGRGRK',\n",
       " 'RFRVLLRGRGKFGGGVAKGKAGLLGGGVFGGLRGGKKVIAKIVAGKKKL',\n",
       " 'LVVIVVGVGIRKVKKGKLIRVGIKLRGAKGKVGVFIFLIILGVGKFKLRG',\n",
       " 'VAVVARGKIGVIFRCIKFIKKLRAGVGGLKKKKLKVKFVKLGAIVGFGGG',\n",
       " 'RIGLAAGKALGGKLVIKIVRGAGGIKLLKRGRIKVKGGKLGKRIKLKFA',\n",
       " 'IARKIVGGIFLLVVLRIRIRRRGVGKGRVGAKAIVKKGVKKLIKLGIRKR',\n",
       " 'IGKGGKLKIKKLIGLLGGKGGVVVLFAGLKGIGLGRKKAGCKKRKALGRV',\n",
       " 'ARIGKCAGRKRLKFKVKKKKIGIKGGKRGLALGKGKKLAIVVKGGRKRKL',\n",
       " 'GIKRLIKKGLLGGGGKVRGRGLIRRAAIGGRGGILRKAGIVGGKFAIGGR',\n",
       " 'KLKFAKLKGAKKGKVGKAVKKIAIKLVGAGLCKRGGGRIVKIGGFICGGK',\n",
       " 'GGIIGAIRRGGLGKRRGLCFLLKKRAKGLRGILKALLVGIGLVIIKLLRL',\n",
       " 'IAGKIIGLGRGIGAGARICVAKIKLVGCLKRIVLRGAIACVIKKGKLKKG',\n",
       " 'KAIGRLRGVGRLGGLIGGAIRRKRGRRKGGGRGLRRFIGKVALLLGKGR',\n",
       " 'RRFIKAKKCGLVGKKGRKLLVGLIKGVLGVIIGKIGRGIKVLILLVKVGK',\n",
       " 'GRIVGGIGGGRCRGAKRGGKRKVVFKKRKRCGLGRRKLKKKGGGRIGGK',\n",
       " 'FKRIGRIIVKIAGRRVLKGGGGKKRGRGGKRAVKGCIALGLIGGRIKRII',\n",
       " 'IFVIVRIVGVGKKRVRKKRIVAALIKLKKRFIVRRLVKIKKLGGAIRILL',\n",
       " 'FVAKGVKKAGKIGGKRRKVRKIVRIKIVGKVVRGLARGLGGGVLGKVRLK',\n",
       " 'VRAGIVIKRKIIVGLFLGKLLKLGKILKLGRRGKLLKKKGIGRARGRG',\n",
       " 'GKIIGRLIVKIVRRKLCLGGKIFVKVGKLAGILGRGKIVVGLFKGIKRK',\n",
       " 'RKGGGVKLGRAFKLKKGIGRRKRIFIVGLVAGRIGKIKRGCRKVGGLKKV',\n",
       " 'IVAGRARRIAAAKAGKAIKGCLKGKLGLRIKIKGLRVIIALLGIVFILVI',\n",
       " 'RLKKLVILVGIVRGGFGRKLLLIGIIVVIKRFAIFLLRGALRIKVIRKF',\n",
       " 'LIGAAVKARLRVALAVLKLGRFIKKLALRILRAVGGLGLIIIIRKFGIG',\n",
       " 'KRGLIAKRKVRGKIIRKIKRLVGKFGRKRGLAGKKGLIGGRIFKGVGLR',\n",
       " 'KKKIRKKKRGKKKGGFGIGKRAGVGGCLIFKRGGGVGRIRKRKRKGFGLG',\n",
       " 'GGGLKVIVKKIAGAGGGLLRGRVLRGKRRLGRRAFVGRRLGRLVLRKRKR',\n",
       " 'ICRRLVRFIKLKFKIFVVRVGGLKKAALLKKFGGVIRIRGGGKRKLRIIG',\n",
       " 'GRGGILKKIGIKGKIVKRRRRKGKIKIRKIRGRGRIRIVKLCRKIKLFGL',\n",
       " 'KVKGGLAGGAIGKIGIRVGIKGRGIGKGVIGGGGLIFKGVGGKVGRGKI',\n",
       " 'GVLLFVIKLGKRGRVVVGIIKVRRIKFAGFAFGLVLGAKKAGRRLGGIR',\n",
       " 'VKRLAKIGKGKRVRKKGLGKVIIVRGCKGGILRFFAVKKIRVLKGLLGG',\n",
       " 'LKLVLGLIRKVIRLVRGGGGKIRKRKVVRKKKKGVGGKIIIVARRKGRKK',\n",
       " 'ILLLRKGVKRGKGGKIGRKKGGKLLAIFGAGRVGGKVRGKGIFRIGLVR',\n",
       " 'RRLARKKAFIGKGGGLRKVGKAIRKLVAAKAKLRIGRVRGGVIGRAIVKA',\n",
       " 'LKGGAKLGRLAIAVGFRRGGKGGLVRKGFFAKRAIKGKLGGFLGVLIKII',\n",
       " 'AIKAKRGVLIRGAGKFGVGGGGILKKRIKLGVRGGAVKIIGIRKGIRKRV',\n",
       " 'RGGRKRGKKGRVVIGRKLKIFKVVRLKKKKILKKFGRLKRAARVRGLLRG',\n",
       " 'GGVGGCGIARRGKLVKKLARVGIRIGRGGGGFLIGVIRRKLLGKKIAV',\n",
       " 'VFIKRRALGGIGIAIAKRGIKVKKGRRARRRKKGIGIIAIVGIRKRLGIG',\n",
       " 'RGRKAKIKGVVLILGAKAVRAGKLGILKKRKGVAVGIKRCGIGVVGLCGR',\n",
       " 'GLLFALLIAVILIGKRIGVFRGVCAGGGVGIIKRKGIAIKGIRRVGRAIR',\n",
       " 'LCFGGLGLVLAKLLKAGKLLKLIIILKRKGRIAFGFVGGGGGKGGLKLAG',\n",
       " 'RRFIGVGLLLRRVGRGFLFKGRKFKRVAFKGIGIRGKRGGLLGKLIIRGK',\n",
       " 'ILLAKLRKKGKRIGVVGGGLGVGRGLKARIGKKGLLKKGLKGKGKLAI',\n",
       " 'IKLGRCKGLVLGGGGKALLVRGRLLRLGILGGKVVKKVKGKKKRRRVCIL',\n",
       " 'GRRRRGGIRGVLRVKGGKAKFRILKIGRVLGGKIRGVIVKKLRGLGGLRK',\n",
       " 'VLGKRKKFVVLKGGKILLLGFFRKLICLRGGAAGLVGGLLCLIAVLIRFF',\n",
       " 'VGKGVVKRGFIILIRAGGARKIKVKKIFAAKVGGIVRAIKRRKRVKLRKI',\n",
       " 'GIIKGRKIVGKIRAFKKRFAVVCKGLIRFRKVGVGKKRLGGKRKRRRAK',\n",
       " 'VRGIRLLAGVAGRIGVGLGVFIVVKGGVGLIAIFKKGRGVGKKIIRVVGG',\n",
       " 'AKRAGRGKKFKKRVIIKLGLIGKKRGKRGLLLGGGGGFGGFGRAVKVRIK',\n",
       " 'LRVVLKLKKIKGKKRICRKKKVGKKGLVVKKLALALVIKKIGGIKFLGV',\n",
       " 'AGAKRRVLGRIKIRKARLKIIGAVVGKGCGAKIRKAGGAKLAKGGKVVGA',\n",
       " 'LLLRIIIRGRIRGKGIRLKCIGVKVLKKKRGRVGFGKLKFKRLKLVKRG',\n",
       " 'LGGRVGVLRVAKRGKGKKGGRGGRKIVGKRKFIIRGIVFGLRVAGKKKLL',\n",
       " 'GGGGKIFVVKRRGRFLIVLGKGGKFLLVFGGGLGLLGRGKRKRLGIIIG',\n",
       " 'GKVRLRKKKGALFLGRGLIGLKFALFIGGKGKRVRRKILIARIVRRRKG',\n",
       " 'GRRRLLVLAKLGRVGLCCKVGVGIALRRGRGLARIKKKIGRARKKGIKKI',\n",
       " 'RKKVGIGIIGRAIGKKIKLGAVLFGGGGGLGRGILKGGIKVRAKKGKRIV',\n",
       " 'KVRGAVGKVARVLGGRGKVCLVKGIILVVRAKGIIAKFGVKKGGRGRKRR',\n",
       " 'RKIRGVLKCGGVAKVGKRGGRKIKRVGLGIVGILFAGGKGGIGGAVKIGK',\n",
       " 'GKCRLVIKVGKRAILVLGFKALIKIGLRAGGVLRVGVKAGRLGIIALRVR',\n",
       " 'RGLALKGLAVKKGIGCIFAIARRVIGRIKKIALVGGLKRLIIIIRGGGG',\n",
       " 'FLVILKKIGKKLKIGGGKGKGKVRLVIVFVKGRKCKLGGIGKFLIKGIGA',\n",
       " 'GGIKGLGGGGGIARGKVKLIKRRVKKVKVLKIGFKAVLRKLVLKIGVVAG',\n",
       " 'KIKLVGGLFFLRIVGKKLGLLGGKGGGGIRKAGGGGGLGRIGRKIRLAKK',\n",
       " 'KRIGRIGAVKLKAGKRRKRGRGAVGRRIILGGLRKKRGKIVKVKAKKAKG',\n",
       " 'GVKAAGKRGLKVIKAVAKRRVKIKLIGAKKIKGFIAKGLGKGKGGGKGAK',\n",
       " 'GRVVKRRVIKLIGLARGALRKIGIGLRLVVKLIRGKRRGLLRRAVKL',\n",
       " 'IKVLRIKRKGIKGAIVKKRKVKKVFLGKIVRKVGLGLKGGRIRLKIAILK',\n",
       " 'RKRKAGGVIGKGAGIGIRILGKFGKRGVKKKIIKGKRFVVVGRRVIVLFI',\n",
       " 'GLGGFARIIIKGRKKIRRFGKLKKKLKRLGIVRFKRIAAKKGKGVIGAIA',\n",
       " 'IRIGKGKLRAVLGALVRIVKKFGRVRIRKLGFLIRGGFIGKVILLKKRIG',\n",
       " 'GGRVKILGKKRGRRGLRGKGVLIIGLRGKRRRKAGKGFRRGGVVGIVLR',\n",
       " 'LGIGGARGGRKFGIGVGGKKILKKIGGIGGFKKKRGFACGFGIGKGGRVG',\n",
       " 'KIKGILAAGKAKLGGIFLKFIKRGKKFGGALFAKRIIKLKRGKIKIKKKG',\n",
       " 'VGGKFAVLGIKLRVLLKGLVGGGGKGRVVRIIKLKGGVVLIGIGKLKGR',\n",
       " 'RVAGKGGGKGKGGRVKIVGIVFAILAIRGRAGIKKKLVRFIAVGGIKRAL',\n",
       " 'VFKGGGAKGGIGKVGKGILGLIVAAGKRILKRGGALGGRKLVKVRIKLIL',\n",
       " 'IGLGLKARAIVAIVRKGGAFKKKVKRKIRRKKCGLKGKRKLILAVRRA',\n",
       " 'KRGLLKGRLLLRKKKLKVKKGIIGFIGFVVIRGKRKKKVIAFAGALGGLL',\n",
       " 'RKKGGLGIVVKGCFRKGGRIRKGKGKRKIGKILLFLFLAIRGKCGKKGCG',\n",
       " 'VALLARLFKLFIIVGLRLGARVIKGKAVGIKKRGAKLRGALKKGGGKKIG',\n",
       " 'LVGGIIKKVKVLARLARRGLLGGKLKGRIIGGGLKGLKKRVKFLKRIKVG',\n",
       " 'GKVVRLKRALKGRRRAKLGKVIGGRRRVRFGVGVRVVGKGLKKFKRGRGL',\n",
       " 'LLLAVGKLGGILKLAKKAGVKKLKALGKRAVKGGIRKRGGGIIIVGRGKR',\n",
       " 'IAAKKRKVGKGCRIKAKGIVKLLRIFIGLVGKFKRGGKKLKGVKLIGC',\n",
       " 'GVFLKGKRIAKGGKIRRGGFGLIVGIKKLVIILFLLLKILIKKGVRGA',\n",
       " 'VVKFIGIKAKRKKLCGGRIAKIVLKGRIRRKIKGVGRFFKFRLRGIRGKK',\n",
       " 'IILRVIKGRRVCGLGLKKALGGGGLLVRIIGIIGGKIKIFRIKGGKKRVA',\n",
       " 'GRRGAGLGRLLFFKLGGRGVGGGLKIIIGFVGLFFRLLLILGVIGKFI',\n",
       " 'IFIGKCKARVLRIAVGKRLVIKKIRRGLRLKRIGLAILGVGLRGIGGRGG',\n",
       " 'RKRFVLIKGKKKAIVARRARIKKLAGGIGGRAGVLGKIRGGKIKKVLGRV',\n",
       " 'KFIFGIKKKGFKGIALIKLGFFIKGRLVKKFGKVIALLGVGVVKKGVRKK',\n",
       " 'GIGVRRGGLGGGGKAVGGFLIVRRIRFLGKGAARKCKIKVLGGARCGLC',\n",
       " 'GGAIKLVLRVKKLRGVRVKKFIRLRKVKLKIVKGIRKAGLKIRLVAIRK',\n",
       " 'VFKGIGKKRIVALAIGRKKRIGVAGLLKIGLLVGLLLVFFIGKKVKIKIF',\n",
       " 'IKKRRKRFRLRRIKKRLKGIKKLGICLGILVIIRRGGGRFKLRGGFKGI',\n",
       " 'KKGLGRGGVVAVIIIGLLGVRGKKKKGRRLRRVVKVGKLLIGKAGLAIG',\n",
       " 'ILLLFLCKVGIGGKIGGGVIAGIRAIKKGIGFIIGCGLIGRLLAGIGGKI',\n",
       " 'GLLRKALFIGVKAAFRIKIIIRLIIILAGGGKGLIRVIIGVGKKIIRL',\n",
       " 'AKGKGRVKVKLVRKFKLKKRKRGGLIRGVRGFGIIIGLGRVGVIKRLVFR',\n",
       " 'LKVVRKCLIGRRRLKKILKVLIKGRGAKILGVGRRGLRKKIKIVKIVRLK',\n",
       " 'CLKIKALRGAVGKILIILLIKVKGLLGGKFLARRLRRKRVRLGARGKAR',\n",
       " 'LGLKVGRIIRKKVGKIIFGICARLGCKGLGFLAKRKIRVGIGKKKGKVFA',\n",
       " 'KCGRKRRVIKLGKIGLIGLLAIVRLRLKKKIKGGVRAIKCGLKLKGGRG',\n",
       " 'GIRKARIKIIAKVVVRGGKALILKFGRALKGKIVKKIKILFALGGAGLG',\n",
       " 'KKKKLVIIKRIGGGRLRGVKIFIAKLIAGGIGLVGKRRRKKAKLAIGIAK',\n",
       " 'ARGGAKIKCVRKRALFKARGGKKGVLKIGKKGGGGVKGLRRKGGLKRGG',\n",
       " 'LIGRKFGIGIIGCAVRGVRKAGIGGRRIRGIIVKAKKIGILKVKGILLA',\n",
       " 'GKRKVRLIKIKIFLFKVIVKFKRRKFLLKRGLVRKVGRRIILFVGRLR',\n",
       " 'IAGRGIKLLFKVRGIKGIKKIGKKLLVKKIGVLRGKLVLRGRGKIKILRL',\n",
       " 'KGVKLARGKRAKGGVGGRGARGKIKGLLRAGGARGVKFAIIKRIGRLV',\n",
       " 'LRGLGGGRGLLLKGRVKGAKFAVGIRGKKVIKGGIVIIGKKVIIKGKIKL',\n",
       " 'KGRAGRVIGIGRGRGLGVVGGGGKKVIRFLKRLKGARIARIIKGKLKR',\n",
       " 'AGIIKKRLKLKIGLKRGVGRLGKIRALGKLKGCRRKKVAGGGLGIGRRR',\n",
       " 'RGRRRLCGRVRAAGFKKGRKVLLKGGRIRLRKGKVKGLGKVKILVKKRL',\n",
       " 'GAKGIVGVRRRRAKIAKLGGKLLGGRFGRAIRGVIKGIRVVRVVRLV',\n",
       " 'GLRIVAAARGGKRLRGKIIGGFKGRIGFLLIGLLVKRILLARLRLRAKLV',\n",
       " 'GRGKIKKVKRIKVIFKRRKGKKGGGRGGIGVRKLKRIKKGFFKGRIGK',\n",
       " 'GGFLGVRIGALIIGRRIKLKAGRLAGRKVKKLRFKFGKKFIGLIKIIGRC',\n",
       " 'LARGLKLFIIGRKGIVIKKRGVGRFFKKIARKRGVGARGIGKRLKLAGK',\n",
       " 'KRGGRILRIKIKIKVGGGKGGGGLRGGVKLGRIKIAGLIRKRVGKGRFG',\n",
       " 'IGKAKVCGAIKVGIGRRGVVIRAARFKGKKAGLKIKGLGLRKGLLIKLL',\n",
       " 'AGRLRLLKGGKKAKRKGGLILLVGKKAAKLRKRKGGKGGVRIRKGVGLLG',\n",
       " 'RGLCVIRGKIRKALARKFLLGIIGKIIRRKLKILAGKGVKRVKGKVIKG',\n",
       " 'AKKLGLLLGIGRARLVRKRKRLIKRGRKGIKGAAIIKKCGGGGLGGRKL',\n",
       " 'VLGKKARRGKRGLVIAKLKKKGKGKAKKGILGAVAVLKKCFGLRGLGAL',\n",
       " 'VCRKGKGIIIRLGVFVRLKKGKRGLGFAGGRKKLKIKRIVKVVIGKLIV',\n",
       " 'LKRRAIKRGKIKRGAIGRALGGGRGRAIGAGGRAKRAKKRRGRGGKIAL',\n",
       " 'RAGRKKKGGGGVKKRVVKKRKVKRILVVKKGRGKKKVIARIGVVFGCKG',\n",
       " 'AKGRKGLARGGGKVKKKGGKGRGGVLKKRKLIRARKKGGGLAKRGRGRGF',\n",
       " 'RLAKGLKRAKGVGGRGGLGLVICKILRKVRIVVGAKKIAIRIGRIRFVFV',\n",
       " 'RKGLFLIGLGKCKICKKRIIGKKGVAGAFRGRRARCKKKIVIRLVRRL',\n",
       " 'RVRAVGLLGIGVRIGLIILAKGILIRVLIGGGRIKKFIKLGLRVKGIKRV',\n",
       " 'AGIKIKRGRKAGRKRRLLKKKRKRLRLIGIGVGGILIIKKRGRRILCL',\n",
       " 'RKLVKKKAKGGLIKKGLRKIRFAIGGLRGFKVKKRFKLLLGRGIRKGRVG',\n",
       " 'GRAFAGARAGKGKKGGKAVIRLIVGLLGGGRRRGRRFLGIGFRKRRGAA',\n",
       " 'LFGKKLGGLLLGRVVAGCLLGGILGLLLVGGRRKIRGGIIRKGLKGGVKL',\n",
       " 'LKRIARGRKGKKVIRAKRGRLIVIVKLVGVGKFFRGKGRGKIRIVVGCVF',\n",
       " 'VVGGRGGFGLRKCRKKKVRIKKGGGLILRGRKKKGGFGKRKAGGGLAGKK',\n",
       " 'IGKRLRIKGKIGRRVRCVVGLKGLGRVAALGAKILRCGVGRAAKGRARLV',\n",
       " 'KLLKGKGKRGLKRRRRIVIRVLVVGGKGIVKRIKGLRIAAGGCKVCLAVG',\n",
       " 'KKLKGGKGKGVIIIRVVCGGIRAALRAGRLRGGKIVLLIVKGCAFLKLR',\n",
       " 'GGVLGGRGKLGKLVIKRGVGLLRGRCLLIGLGIKRKVIIKKLIGGLGRAG',\n",
       " 'GRAGGLKRVIIGVIKGLKGKVRVIGKKRRIKLKIICRRVIVLKGIIVGGK',\n",
       " 'KKRKLAKKKKIKLRAKRVGRRFRVGVKFKGILAGALGRFKGIGKIGKRKK',\n",
       " 'RKIAKVRLARVFLRKGKKAIRVVVIKGFLKRGRCIRGILAGLGVGLVIG',\n",
       " 'VLIIKKRVKKKRLGKGGKKGGGVGGKVKKKGGKKGGRLKAKGGLKKKVR',\n",
       " 'LKGVLKRAIKLKKLIFKIRVGLRFIGVRLAKAKFIAGLRKGRKAKGLFAK',\n",
       " 'KLKKGVAGGIRLGIRGRKIVRGKRRRKKAKRFRKARIVLGKKRIALKGG',\n",
       " 'RLKKKKLKGRRRLKVKLLRKFGKKGKKRKIIFKAKIRLIKKRKAKGKKVV',\n",
       " 'IKRVKVLILGGKLGKGFKVKGGAAGAGGRGVGKKLGRIFIAIIGGVGAK',\n",
       " 'GGVLKGGLIRGRGRRIVVCLRRVKKFKKGGILIGGKKIKVGLVFGIGIGR',\n",
       " 'GKKAVKRFVVKGKAGGGKGIVKVLFVKVGVKLAVLGGRAVCRLKKVKFGV',\n",
       " 'KVGIRAALGRLRGRIIKGGAILKRKLGFAFIGGGKLLGKLRGGGFKKR',\n",
       " 'KGKRRKGIRKKGGVKRGLRRIKFGVVKKGGRRKGKRGRIRKIRRVVIIV',\n",
       " 'KKKAKLGVAGLKRRAKRGGARCGAGVGGILAKLLCGGKKIFRGFFKVGLR',\n",
       " 'KVKGIRVVLKGGACRIRGFIILKIIGRRRGGFRKLRKIFLRGLFRGLIK',\n",
       " 'KIGKKIKKFLLAVKILLLRKIRLVKLIIKLKLAARGKAIVAVVVKGGRAV',\n",
       " 'GKRGKLKVIGGLGRKRGVLRLAGLLVLGGILGGKGRGGGVLGCLGAVVKG',\n",
       " 'IGKKIVKKKGLGGAGRLRRVGGILKGRRARRRIGVVAIVVKVKVIGLA',\n",
       " 'GKGGIAVGRIVKGKLRGGVKGFKRIKGGLVRIRLVGIRRLLKVGFVLGAK',\n",
       " 'RLIGVRVIGRLLIIGGVKALKRGGRLKFLRKAKKGKAVKRGKLGGARGLG',\n",
       " 'LLIVGGGGKKRVLAGKKGGARGVKRFVRIKIRLRKGFKIVIVKKLIKRK',\n",
       " 'IIGKILKLKIGKKIKRVKGGAKLGGKAGGRKGVGVLIKFRVAIVRFLF',\n",
       " 'LKGIIRLKFLGGIRRLRKCVGKIKKAARVGLLLCGIKALCLKFIAFGGK',\n",
       " 'IKACRVGKLVGLIIILKKRRGGLIFGKGKGFIFKIRAIKVKLIIGGLGRV',\n",
       " 'GIKKAAVKKLFFVGRIGKKAKAGKGRLRVLVKKKGGIKRFIVGGGKKGV',\n",
       " 'FLRFKGLIVRGRGIGLAIGGGGKVGVVIVRGKRRGRGGKIKFLRVGAGRG',\n",
       " 'ARKRVRGKIRVKLKRALFIILVRLLLAGGGGRAVVKVVIKRVFLGVIGKI',\n",
       " 'IRKGLGCKRVKGLGGLIILKRRGVKKVAVVGLGRICIRIFKGLVLLRA',\n",
       " 'VFLKLGGLRIKRLGAFGAIGRKGLLKIKKVKGGGRCGGVKARVKVRVKV',\n",
       " 'VGKGIGGLLKKKALIGKILKRGIKLIRVAFKGGLKGGFVFKRVKRRGGK',\n",
       " 'IIKILGRRVRGIIRLGRGKGGARLGRGGIGGGIGAGKIFKIKIGGGFLAL',\n",
       " 'RKRKGIFLGRLIARGVKAIKIRGRALKLIGRGRRGFIVLKIGRGAGKFLK',\n",
       " 'KKRLKKIVAVGVLLLGKRRRRLKRLALLVVVVGRIVKVGILVGLCARIL',\n",
       " 'GRKFLGKGKKAAIGRLGKGFGVGGGGKKLVGGRACGGKVLKGRRKGVGIG',\n",
       " 'LRAFIARGKALLLAGALGLGVRGGRIVGRGGRIGIVKVGKLLGLAAGGIG',\n",
       " 'KGVGKGGRIVKIGKVLGIGKGRLLGFGALRRRRKLRILKGGIRKLGLLKI',\n",
       " 'GRKAGRKLALFKRLRRKKGKGIIKKGIGRRRKGRRRIFIGGKKRGIVIRL',\n",
       " 'KLGKGGLRRACGRKVGGRGVGKIGLVALGIAFVLICGGRGAIAGKGARFI',\n",
       " 'RRGRLKGGLIFGGIRGKILRLAKLKKGFVIFFKRKRGGVIKAKKGRKVKI',\n",
       " 'GIGVRLFGIVLAGVVVGFIRFIKKIVFIRIIGVIRGGLKKIVKGKRVVVR',\n",
       " 'KRGRLVRRGRRIGKLKLVLRKKVKVVLKAFKAIKALLVARVGKKARKIK',\n",
       " 'VLIGRGLKLRRAGRFGKGRLLLCKKKRRGRGGKAKRKRFRGRKLVFGVRI',\n",
       " 'VGIKRVALVRVRRFLRRVRVGVLCFVLGRVIRRRGGKKGVKKGRRVKK',\n",
       " 'RIIVGILKLRVCVRLVIARAKIKKGIKGILGKGIGKGKKAAGIGKGILGV',\n",
       " 'GGVIKRRLVRAALKVKGLVIGGGLRRVAGGLKLRLIRRIARGAVFGGRGG',\n",
       " 'GKKLAKRKGRIKKFKRKCIILKLKLIRKGGRIIRGVKVRGLKIGFFIRAA',\n",
       " 'LGAAVKIGLLVKLGVLGRLLAIKVVGGILVVKRKAGIRIKFGIGRIRGRI',\n",
       " 'GLKVGGLLKRVKVIRKLKIKKARGGGGKRGGKFLRKGGLAIKKIIIIKK',\n",
       " 'GGLGGGGLKGIKGLLARKRAGKFGKKLKGVKRCGRGRAGVGLRLKKGKRK',\n",
       " 'KRGRGKFGKVVLGGVGRKLLVVIVRLGFKLLKGGKLVKRGKKKGGVAKKK',\n",
       " 'ALCGIKGGRRKKRFIKRFGVGRKVVAAGIKFRKRRGKLRVGIGRKIRRLG',\n",
       " 'RIRAGIRGKRGRKVLIIRAVIIGLGKKVGGGRICGKGKGIALGIGGGGIK',\n",
       " 'IKKCGRIRLLGAIKKKKFKLIVRILKRCRKLKIKALAGRLVIKKGKGRKL',\n",
       " 'GGKLAGAFKGKGKLIKLRVVGRVVRRCGLGKLLIGIKGKRKKFRGLKGAG',\n",
       " 'LCRGIAGIAIRGRLKRGLGRFGGVRIARAVKGRFKGLGRFAKKKIVIVK',\n",
       " 'KKKKGVAGKKLLIGLGVLKRKGGKLIARGGGIKVVGLGAAKLAILKKKRK',\n",
       " 'VIAAVGVIKKIGGGKRVLIFKLIGGRGGKLGRAKGLAKKIKRVGAGARAG',\n",
       " 'GILVLRGGGAGKAGRARRVRKAGVVKKRKAAGRIKFFGRVRLRVRIKKR',\n",
       " 'IARLGKGGGIRIGGVGKVVVKGRAVLVKKGLRRGVRIVVLLLLIIGGIRG',\n",
       " 'KRFGGALLVFLIAGRKIGRARKAGRKRKIGLGGIIVVKGRARGKVIGVRR',\n",
       " 'LKGGRGLIKRLLVLVCIIIRVRIKRLGIRFGLKGRAIKGIIIAGRGLKV',\n",
       " 'KLALKGLAKKKLGVIFAKLLACKAKLKKGKKVGGKKGGVGRAKARIKKRA',\n",
       " 'IGRIGGGKGIKIKFKRFGGKKIGGLLLKIIKIVIGKRGKFLGRGRGKK',\n",
       " 'KRGVLAKRGFIKKKKVGLVRIRGGLGVGFKKKIIRLLLGCRGKICIRK',\n",
       " 'CARGIVVRLAKARVLKLLKARKKGVGVGKAGKLIIKFVIKIAIKFLKL',\n",
       " 'KKGIRFGRKKGKKGIGGGIVLRAIGGGLGVVKLGGCKRKVIILVRVRGGI',\n",
       " 'VIVIKGKAGRAGGRLGGKGLRLKVKLGGLKFKKRGGKLLRALRKAKLGIR',\n",
       " 'KRRRKVKIIAIIFIVGVKGLRAVGVLIGRLRGKGRILKILRKLKGGKRVI',\n",
       " 'LKRIGGGGGRVGVGKKVGIGKKRGGRLVGVILVCVGRKVVIRLLVIGGV',\n",
       " 'KIFIGGVAKLKGVIFIKIRRGRVKGLRIKLALAIKKAGIGGIGLILKLK',\n",
       " 'IGGLGIKGFAGVRGVKGLKGRKKGAGRVAFKKKRKIVVGKGIGLLVLIIA',\n",
       " 'LAFRKGGKVKFKGGAGLAGVKLLGGRFGKIRLKVLGGGRILAILGLVKR',\n",
       " 'VKALKGIKKVGRKKARGKRRLVILKAGIIIGFIIIGIKIIGKGFVKACI',\n",
       " 'RFRRIGGKIVVGIILGLLIFGVRLGICFLRKKFALGRGRLGLKIKVGKLI',\n",
       " 'KRKAGRAGKGKRGKKGRRRRAGKKIIGKGKGRGIIFKLAGGAAAVVVIIK',\n",
       " 'IGGRGLGVLKLLRKKVARKGIGVAGGGKRIVRRLLGLVLGVVGAGVGVI',\n",
       " 'VRGGRLVKIRRRRKLIVGKVVKGRGKVKRAIAFIRFIKRKGLKLVKVG',\n",
       " 'GKGKLVLVKRGKGLLVKKLGGGRAGLLGVLAKRRAAKLLGIKGKRAKVGF',\n",
       " 'LGAILKKKGLIRRRARKGLKFILRVKLAVKIGGAALRGRKGKLAKIKIGR',\n",
       " 'RKKGRKLKFVKGGIAGLKGAKKLGGKRVRLGICIIKVFRKKILKLVCLI',\n",
       " 'CKLIKVKAGGGKARKKGRIIGLAFRFVKKLKAGGKRGKAKRILKIRAGL',\n",
       " 'IRRGRGLGVFAVLRKLRKKAKKCIAGLGRIRGIKKKKGKIIVVKRAIRL',\n",
       " 'IGAKGLKKKKRGGALAIGIRILFGGLGKLGKGIKGGALGRRFGGFKKLKK',\n",
       " 'GRKVGRKKGKRLKGVRRLGRIALARRCGLIGFIGLLKKVRKIFFVLGIL',\n",
       " 'IKGGKGAGGFKKLCFVCRKIGIFGKRLGRIGAGGKGRIKGRVVVGFIG',\n",
       " 'IKRKAKGRRRKIGKGKGKGKFIGGVFRGGGGGVALRKIAGRRRFIIRIR',\n",
       " 'KAALFVGLIGAGLRGIILKAVGAAIGGIVRRFGIGVLKGGAKGIGIKIR',\n",
       " 'KIGFKVIFGLAIGGVRVKRFGIGLAAIIGGKRGGIIIARLVKLIKGKKR',\n",
       " 'VAIGLAKGGFGIGIIKCKAVVKILGGAGAGIGRKFGRKIKLRGVVGRG',\n",
       " 'VAGGKGGGGLIAKIVFKIGKLIGVGKGILALRKLKCGIRRVVRGRGFKIV',\n",
       " 'KLLGGIGLILILRGALIRRILRIKVARLRIGIFIILRGFIGLAFILGAK',\n",
       " 'KRIIKKARGIAKRLRAGAIRKGLILGKLRGCKFGRVRRRGGKKVKAGIKV',\n",
       " 'VGLRIRKLLGKAGKVGKIKVRILLRRIKRVGKFIAVKVCGGGRRKILLV',\n",
       " 'LGKIRAKRGGGLGIGGGGVLGGFGVLLRLRGLKGGGLVGGGKRGGKVGIK',\n",
       " 'LLKKRLRVLGIKKRKAGIALVAGIVLGVGIGLKGGRKRGGVFIGIRGRAL',\n",
       " 'VVKRRGIGGRGKKGLRIRIARKLALACIIGRLVLRIRVGFKIVVRLGGL',\n",
       " 'GALVVGFLGLRGKGRLKRIAKIRLKIGKVGRKLAGGVIRKIKILIKIGLV',\n",
       " 'RRRCRKARGIFRRKGAGGLKILGLKVVIRGAILKLGFKAGGGRRGFLKKR',\n",
       " 'RGGKRRRARIKLFLRKKGRGGGGIKFKVGLGRKILGIVGRKRKRGGRRG',\n",
       " 'GKRIRKGKRRIVKIRGGIAIFGGRKGGGLGLVGVRFAKLAVIKKLIRGKI',\n",
       " 'KIKKVKGLILKAAIKRLVVGRIILVVAGAAKKLVKRRKKLKGLGVLKGG',\n",
       " 'VLGLLGRKAAVKAGIKGFVGKLFVGGRLVIGGVGLLIGVCIGCGGKILA',\n",
       " 'LIFRKLLKKKGLIVRKGGKKVVGCLKRGIGKGGRIGVKGRIRKKKGIIK',\n",
       " 'KGGGIILGGKKRRGGRGKGGVGGRIRFAGGIKARRLKKVKVRGAKVGIKA',\n",
       " 'KVGVRKRIKVKGGKRRKRLLGILLIGKVKRGKLGGRIRAGRRKGGLRVLG',\n",
       " 'LRFFLRFKILGIGKKLGKRRVGLGAAILRLRRLALVIKLKLKRARRKLLL',\n",
       " 'GRGKRVALGKGKAKAKVAGLKIKGIRVKFAVKGGGLKIFRVVGKKKLIKK',\n",
       " 'LGFVGIIGRGVAAKRIRGGIVAVLGKGLCIRVGGGRVVGKGVGVILLR',\n",
       " 'GGKVGRGLKIAGGKGKRKRGGKLRKLGFRGRRGKALIKGVAKVAKRGKIG',\n",
       " 'GRRGGRGVKGRGRLLGIILLAVKIIGGGRKGGLAGLLLLIALVCGLFVGF',\n",
       " 'LGVLGVGGIIRKLGKLIVVVKKGGGVLLGRGVLKLFLFRKGGRRVKGGKI',\n",
       " 'KGCRLVALKKGRGGVLKALKLILGGVRRIGLLRGGVGALIKIRKIVGIVA',\n",
       " 'IIGKVLLVIGKIVIIVVGRGLKVAGLLVVIVGFAGKLLFCFKFFLILFVI',\n",
       " 'KIKGLKGIAGIVGLGVKIGLGKRIIARGGVLGGGGRRLAFGFLRRKGF',\n",
       " 'RKGGAKIRIKGGKIKRIAKKLGKLGVALKRRLRKIRVKKKLKKKGLKVGK',\n",
       " 'AAKRRLARIKGVVGVKKGKRGKLGIIFIVGKRLVRRIVVKRRGIVLGRLI',\n",
       " 'GGVGGRRKKGGRGKRGIIVGGLGVIGRKILARVRLKAAKGVKKCIKIKLR',\n",
       " 'FGRKGIKALGCFGAGLAKFKAGLKRLLGGLLRKKGIGKKRLFAKVKGV',\n",
       " 'RAKGGKGKICKRIGGLGRAKGRIFAIVVGVLIRKIVKGLRGGLIVAIKVV',\n",
       " 'RLGKGRFGGKGIALIVILCKKVILKVLVAKALIVKRRKGIVGGIKIRGG',\n",
       " 'KGVRRVFVLAARLCKGVLLKKKCGGIGRRGLAARRLGVARVGGIKIKGA',\n",
       " 'LGAGAGKKVVRRILVRVIKLAILIVIKKKLGKLRRRGLRRVCALLIAVLA',\n",
       " 'KAIGIRGKKKILVGIRLGRIKKVVGRICLIGFKKFVRKKIIGIIKV',\n",
       " 'RRAVICKKLIKKVKVGLGLGAFVRLLFIGLRRKLFVGKKIRGKIFKILG',\n",
       " 'GVVGIKGGILGKFALLGGRKLRKLAGLILRGFIKKRAGLRGKKRGIRIRL',\n",
       " 'CRGFRVKFGIGIIIKRKLKRLVVGRVGIRKIGVVIKKKKIFRKKLKVKC',\n",
       " 'KGVGLVLRKRRGKRGLCAGALIKGLLARGKAKVRLGGLVRVKGGRGLIRI',\n",
       " 'GGGIKGKCIKIGKKLKLALGRRVAGVLGGKRGILRKKGFGAGAAFGIKKA',\n",
       " 'GRAVKGLIRKRKGAGLAGVVALLFKAIRLIKLLIKKGVKKGRGKGGVRL',\n",
       " 'IVVLRKKVGKKGGVVCLIGGGVLLCIRVAGKRLLKLGGRIRGLGFRVCG',\n",
       " 'IGKGIIKRCCRAGGLGFKGAIIGKGLGVLRFLGLVKKRAALVCVRIGK',\n",
       " 'LAIAVLKKRILARVIKIRVGKGAAIGKARGVKKRVRKLIKLGRRKIGRR',\n",
       " 'GLAFGLKRGRLILLLGKVKLIFFRKGLLFKKRKFFRVLRALIVVKIAGR',\n",
       " 'FRGRLRGIGRGLGKRIGVLVIGVLKGGIGILLVRIRGFLLKILGRGAGKL',\n",
       " 'GGVLRGRFGGKRKRLKLGVKKKLRKRGIGKKIGGRGLLKRLLRLKKKRGG',\n",
       " 'VIGRLGGRVGRKLKRLKRVVRIKKKIKKFKILLGGGRLVRVIILKIGGGI',\n",
       " 'GAGGRLKIIKIGRKKKIGLKRVIIRFLIGLVKGCLGVGVGIVRLVIGRAL',\n",
       " 'GGCKVKKLFFRIGFGGKIKKVKGGGVRGKGKKAGVRILGVCGAIGGIAKV',\n",
       " 'IAKLGGGGKIRKVLGRVGRRIGGLRLLIVKGRGRLRIVKVKKRKKGLL',\n",
       " 'KRRGRVKILVAKIKRGKAIIRARALIIKKGIVRKLIICKGRAGCGGKGL',\n",
       " 'KLLRIKIVLIRKIKKFIFLKRLRFKKGGKGFGGLVCAKKIGRRKLVVKKV',\n",
       " 'IKKFLLIKGIGGFFCIGGIKGVLRVGKKFLGGGGRGIRGAVLKGRRRVVK',\n",
       " 'KGIRCLAGVRLGILLKKGCARVLIKVRRVGFKAGALCGRIKGVKKGIFKG',\n",
       " 'IIKGKGLKAGGLIGIRRGGARLVLLKRGGVFVAIGVKVKIRGGRVFARK',\n",
       " 'ILGGKALGLIGRARFILIIKFRLRALVIKIGGGGRAIAIIIGGIRRVKLG',\n",
       " 'KVIKVAKVIGILRKRILVLIGRKLKGILAGIKLRGAGGGFLLFAIGGGV',\n",
       " 'AGGLLVVGKIKLGGAFILVGGGCGIVGGIGGKGAIGLRVKRIGCLKGGG',\n",
       " 'IGRVRKIRILIKKGVKVRLKGVKGRRVKRVGKLILGKRLKFCFKKVVKGI',\n",
       " 'KKGGRRLKALKGLGCKRGGRIVCFALALGLRRGKGFKRKLIGAGVKLVLC',\n",
       " 'KRARIIALGGRGGKGAKLVVGKKVGKGLGIGVLRRRRIGKKKRRIVGIGR',\n",
       " 'AIIVIGRIKGLIKVGGGFKGGVIIVIRGVKVFCRRLKGLKKIGKGVL',\n",
       " 'LGVVKLKVVARIGGCIGVIGILGGGGFLRRLGVLGIVKGRILVGGKIGG',\n",
       " 'LALIGGLVIGVVRLKIVKKRAKGGVARGRARKRIGCLKLVIKIKIAGIKG',\n",
       " 'FIGGGLFGLKGKRVKLKGRIRGKGILIGGRRLLLRKVKKRGGIGKGAKIG',\n",
       " 'LRGFIKACKKIRFIRKGRGAGLKRKGVAGVVKGIGLLARGIVKKLLKRCK',\n",
       " 'GGFVKGKRKIVRLIVLRGKVVKFIKGRARRGRLGGGRIKGGIGGKKGRG',\n",
       " 'CRLVGGRIGGVGKARRKLRGCRRLKIRLKRGLLIIKRGKLLIKIAGIVKR',\n",
       " 'KAVKKAKAGCKKLGKKIGLKVGLRKGGLRAIRVAAAGKGGGKIKLLAALG',\n",
       " 'GGIAVGKLGKGGRGRKCKLLGGLGKLRRARKRKRGIVICGIGGVVGKIRF',\n",
       " 'IRIIIFAVKAKRGLKKRRGVALGRIGVGVCGVLLVVACGRAFIFKLGLL',\n",
       " 'LLKRVGRKVGIGGIGGGKGKVIKGGKRKGGKGVKARKLGLGAGKIIVGVK',\n",
       " 'KKKKLLLGAKAILGIKKFKARGIKCIARVAKRGAGCGGRIRVGGVVGGVR',\n",
       " 'VRFILALKKVLIRKARLRKLLLKKGGKLKKVVGKKGRLKALGLVGVKGG',\n",
       " 'GIARGGARIIVFGGVIVKIVRIRAVLIKIKIKKVGRKRKKLGLGGRKKF',\n",
       " 'GAKGGGVGLVVLVRAGVRLGIGFIGRILVKVLVKLGKAGVKALKRLRV',\n",
       " 'LIKKVRGFLRGLRRFGGKGKKKRVRIIGKLLLGKGGGKLKRIKKKVILI',\n",
       " 'RRAGLILLAGKGVRKKRLKRLRGKKGKGVFAFRKILILGFIVRILGFG',\n",
       " 'LGKRKIGFGIKKLGIGGFIFGGKIFGRKAGRKGGLGKILRRFIGGIVAAV',\n",
       " 'KVIAIGILIIFRALKVKILKIRIFKKIVFIVKRGGKGLGAIRKLVIIL',\n",
       " 'RLKGLGGGVAGGFAKILGLVLGAIILVVIKRGGKGGVRKRALILKRALL',\n",
       " 'VAVRIIGCVGGVLLVKRGRVGLIGVIAGGFKGKGCIFAKGLVLLLVRIGA',\n",
       " 'GKKKKIIAKKRIGLGKKGIKRKGIVRVKAGRAKVGGKVGILLGVKGGGKR',\n",
       " 'GLGRKAVAGIIVKFRRRLGGRLKRVKLIVLKKCRKAAVLGVKRRGIAKKI',\n",
       " 'IIFIIGLRGGLLFAIRLGRKRGRGGRGIVVKGRIAKKILLIFFIGGRLV',\n",
       " 'GRLIIIIRRLKFKCGVAKRGKRGAKGKILKAFKFIAGGVLRIGRKFVRK',\n",
       " 'IGLGVGLKKAKGIKGKLKRILILIAILKIAIGGRVKRGKAGLRLILGK',\n",
       " 'LALALVKKLAVKGVRRRGKIKAGLLLGGLGIGLGRKVLGFGGGIKKKVFR',\n",
       " 'LFALGKRLIGILRRRIVKRRGKGVRLLFIGGKIGLIRLIKLGLCGCVGVA',\n",
       " 'IKAGKKKARRVGKLGRVCCGCRRLGRKLFKIKGGVLAKVFRIGIKRKFKR',\n",
       " 'LRKKIFGKGLLIRGKIGRRKGRKLVGGVGAGVKCKIVKGKKLFIIIKCIK',\n",
       " 'KGAIGVKVGLGGRRAKGRKLLRIFKGVRFALRFALRVKVLGKKVRGGIRG',\n",
       " 'KVVAKGFAIRVRVVGRIALGKGGRKKRRGGLKVVKGGLLGIKVLIFVCG',\n",
       " 'LIGGAGVRGKKKGRKLIRGKLLGFGKLCLGVRVLKIGGVRIKGVLGIIK',\n",
       " 'KFVRGLAGLKGGLGKRIIKKGILAKKAGKIGLILKKVKCIGLLKGVCLRV',\n",
       " 'KLFKIIFILGKILKLKLFAIKIKGIIVIFLRKKGLRGRRGKVLKKIG',\n",
       " 'VVGILRGLGKIKRKGIVGVVRKKKFFIVRGLKLKIKGKLGIRKLKGRVLG',\n",
       " 'VKGGGGVLACGARRAKGIALRGKKKIGGVGAIGVGIKVAKGVLVGIALV',\n",
       " 'IGCKRVLIRKARKGGKFIKKGKGGGIKLGRIICGRKILVRVKLVGLIKII',\n",
       " 'VKGGKGRRKGGGLIGIKVKRLRKLVKAKGIVGIRKKRRGKRAIGRRRARG',\n",
       " 'GKVVCCGRVLIGGRRGIRKLAVVLKKVKKAIVVGGVLGIRKKLLFLVLK',\n",
       " 'VGCIGRVRIRVIRGRVGRIIRKRGGIRGGKRGKKKGLRKGGRIIGGRRGK',\n",
       " 'CKGGRGFGGVVGALKKRAVKKKIVKAGLAKGGGLVGGVGLKRRVRVFGKG',\n",
       " 'LVGLKAAIAKLKFGKVFRKGKRGGGGKVRGARKKVVRFKGIGLLLLKRI',\n",
       " 'KIKIGKVKRVKGGLALLVFIGIIKLGGKGGGVLKRIIKFKAFIIKLAVKK',\n",
       " 'KKKKGLLLFKKRRGLRGIIRKKALRGRKKKVGVGIGRRLIAKVKRKKKGL',\n",
       " 'LLKKRKKCKIVLKKIRLGVLCGGLIAGRKRVVKKRIKRGRRAGKKGCGKR',\n",
       " 'RCRRIKRKGLGLLGRKFGKGKIKVRRLKFKRKGLRVVGGLARRKGKGKVR',\n",
       " 'LGKRIIIRRLALKFLVIRVAAGRGRRRVLGVFLKKIFFGKGKKRCFGARI',\n",
       " 'IVGIVIKLIGKLVRIKGRRRKLGRRRRARGVLKKGRVIALGAFKIGGGVK',\n",
       " 'FKRLGGGIRGRKVIRAKIRKKLGGRGKKLGARIRKGKLGRIGIGGRKRFI',\n",
       " 'GGGGRVRARGGKGACAARFIGIILRGGLGGLGGLAARVGIIVRIGGFKRG',\n",
       " 'FARKGFLGRGVAAALLGGAGLLAGLRRLAAKKLGKVKGGRKGLGGGLRK',\n",
       " 'VAKRVRKGLRKLIGKGGVGGKILGLAKGGGKGIVRKKRGAKKGGKRGGK',\n",
       " 'RLRIKCKGGVIKLIKIKKGLKARLGAIKLIIRRRGRGVAIKIRVKGALGG',\n",
       " 'AVLGRRKVRGKLGKGRLRGGRKRFRVFKFKGKKGGRGGVGRGVLAKIGLL',\n",
       " 'RLRKKKGVLRKKGKKKGLRARGKFKKKGGKAKGGVGLKGGLGRLGLAR',\n",
       " 'KIKILRGGGKGIFGKVLGRVKGRIIGIGIGLIKVGGGLFKRKRRGLLFG',\n",
       " 'VCRRLGIRRGFGKKGRRGILAAKFALGGKRAKGIAVVRGGGGRRLGRGVG',\n",
       " 'IIKVKCVLCLIKIGKGLKKGKKGGVILKLGGRVRAIGGKGKKKFKAVFKF',\n",
       " 'IKKRLKALKLKIAGRKKIVKAGKGGLLLIARLAAGIIVVRKKRRIIIRGL',\n",
       " 'VRGKKKRKLLGGGKVRVKVLRKLIGGIGKIGRIIKFALALKVGRGLIGI',\n",
       " 'AKIKLGLIKFVGLILRGCLKIILAAIGLKAKRIRIAKKLIRKGKIGLAGA',\n",
       " 'IIGGKLKGLALKLGLCIVGFGLIRVVRFKLKKKKKGAIRARVKGRIGLGI',\n",
       " 'GIGLGRLRRGGFIRRRLIIAVKLRILLIIAGIFGKIIGIGGCRFVLLVRK',\n",
       " 'FILFKVIGFIIAVGRAGRLVVRFGGIAGAIVGKLRKFGRKKRGAKKRFG',\n",
       " 'FRLIFIGGAGRVAIGKKLKGGRFVLGLLVCGRKLALGFLKRGLAKIAKG',\n",
       " 'VVGAKLGFKRGGGKKGLLARKKVGKILLLRAIKGRLGGVRIGGLRAV',\n",
       " 'ALFIGLRKRKKFLRLGGLKGRGGKIVGRLRVRLRGGKRGGLGARGVGR',\n",
       " 'GKGLLKRKKLRIILRGLGGRGKRVLGKVGILLRVRFKAGVLALKVKAKGG',\n",
       " 'RRGGLRRRLILKAALGIKFKFLLRGAGGRRRILVIFKIVKVGKGVGGKIG',\n",
       " 'KRKLILGFGGGIGKRLRVIGKFKFLRGKVGFVIKKLVLCIGGLRAGARGK',\n",
       " 'RGLKGGKIVAKGKGAKALRGRRGLKVGGAGKLLLFFVGFGGLKKGGVVGR',\n",
       " 'IRKVGLGVLAVAGAKRRKVGGGKRGVGKRIRIVLIAVVFLAGRKIRRIGK',\n",
       " 'RAKGRGILGGKRVKKAKKLGLRKRGFKGLIGVGVAKLLRVGIRAALKKG',\n",
       " 'KAGGKLFKVKKKRRGKVVGKLGRKAFAILGILVIAKKVGLRAVKKLIKIK',\n",
       " 'LKIGRIIAFAVIIGLGRLVRKGKGRIGGGRGGLRKRLGGFLFGVGRVKL',\n",
       " 'LVGKKKVALAVRRGRVKKVKKLAIGLKLVVAGKARGKRIGKRKKKGIR',\n",
       " 'KGFRLAAKIGGFGCVLGGVLILFKGRKVKKIRKFGRRVLRLKRGGIGGG',\n",
       " 'LIALLVRAIGGLLKKVIKGKGKLVKGKGKVKRFLAFGLGKGKAKRLRKG',\n",
       " 'RGGLLGLKILLVIVIVLLRRGIGKRRGVKIKLGRIFIGAAVLVLGIKFF',\n",
       " 'GVKKGRRLLVGFILAKFIVIKKALGKFGIKRKGVRKRCGGRGKGVAR',\n",
       " 'KGKGKAKGKKKGGFAKLRRIKKKVGILLLRAVLRKLKKKGFRGGRRGVL',\n",
       " 'LAVKRKRVKKVKIKIKKGGALILKAGVFKAKGGRIKKIKLAKKVKIGIVG',\n",
       " 'LKVKKALIKKGIAGIKVLKVAAKGIRIRFKGGKLKIGIRRGKGLKRGRIK',\n",
       " 'LKIIFIRVLCKGRGRVGLLRRVGGLKRIGAGKIGIKRLRGRGVARFGKAG',\n",
       " 'RGGGGGGFLLKKILKRGLIIIKGAIKRRKLRKFKVAAKFIILLGRAKIA',\n",
       " 'LVRAIKKGRKGAVAILRGLRKGLVALIGLKGLKGKGGKLRKAVLGIGVL',\n",
       " 'RGVVGRGRGKVKRIKLGGLCAGVVCRKGVGRRKFKKRFIRALGGVLKIGR',\n",
       " 'AIKGGGLKIRGGIGLKGIKAVGRLILRGRLFALRVLKGVRLLVKFGRGRL',\n",
       " 'AIKRILCRIKIIGKGARGFKGLRLVKKAGKLFIKAGGGKKRLLVKLKLG',\n",
       " 'GGLAKRIAAKAVLKRKVGILIGKKRALGIVRVGGLAGGRLRKKGLGIA',\n",
       " 'IKGIKGIGGRVLILFKGVILRKKALKKIGLGGGVVKVLKKGGKIIGLV',\n",
       " 'LILVVKRKGVGRKKKICIGGVILIKAKGGLRVGVGGRGIGKGKKIRLVI',\n",
       " 'VGLAFGGGAGGRGRKGGFKLLVKIKGCGAKLKGIGRLRIGVGLGRRAKV',\n",
       " 'LGICRGRKLGIRVALLKKLLGGFIRGGGRGKGFVCGVAKVKVVVGRIRVL',\n",
       " 'LLGKKLIVRKILVGVKLAGGKGKGILVKLKVKILRGVVKRKVGRIKVGG',\n",
       " 'VGVLIGGRKGRGVIGKKGFGGAGLRRIIFKGLFGFVIKGIKKGFVVLIGR',\n",
       " 'GRRGLRIALIKFGKRGIGIGKGRIKLRCVGLVGGKGFRGLLRARRRKKFG',\n",
       " 'KLFLKKGKGGLKAKKKKRILRRRIGLFLGLRAIKGLCAIGRVGLLIRRKG',\n",
       " 'FKRKIKFLLKGKKFLGIKKRAGKGCKAKIRVVLKARLIKRFKRKRLRG',\n",
       " 'GAAKGGFKGGVVKGIVIARRGAGILLKARKGGLAKIKRKGIARRGKKRL',\n",
       " 'RLIAGLRVIIGVLKKLLVIKGGVKGVKRRKGKRGVKGKLAGRRRKLGGI',\n",
       " 'FKGAKFKVGRGLLGRKGRCGAFLKGKLKGKFRLKAGRGRKFAVLRVKKVG',\n",
       " 'KRKKIARRILAVLGVGGLAIRVKFFGLAKGRVFRRVKKLVIVCKKRIR',\n",
       " 'GGFLRAKKGIIVVIKAGLIGALKKLRRIGRAGVVALGAGGKLGLKKGLKK',\n",
       " 'IARLVVKKGGLAIVIKIIRRVCIGKRVARGIFIGILKGRKGGFIKKKVK',\n",
       " 'FGGGGVKRCVRGGLLIVRGALVKLKRKACGIKLKIAIGGLVGLRRKLLKR',\n",
       " 'GGKLKGRLKRIKKGGRLLRAVLIGKGGGGRKFAKGRIRLVKGILVAAKVL',\n",
       " 'LAFGGIICARAGIFFIRVRRFKKLKAKAKIRIARKKALKGLRRKIKRKK',\n",
       " 'GVLKGGKRKKGRKVLGGRKKAGRKILVRCGKIAKKKGGFGGCAGGKRRKG',\n",
       " 'LRFILIVKFVGIRKGGARLKGRLRVKGGGIGGIKKIKFLIAIRLKILKA',\n",
       " 'VLLKAGIIRKIKKGKLIIGLIACGIRLGKGIIGKIARRFLVKGLVLVIGG',\n",
       " 'GKILGKRLKRRGGKKFKVRVRKLAKKGIALGRILLGLLKKKFIGRKRV',\n",
       " 'IKLGRKRKGGIKKLVGIGRKKVKKLLIGFVKRGGKKGKKKLLGGLLVIRV',\n",
       " 'KAIRGVAKGRKIKKILKRRILGAKFICIIVLGKVKKILAVLIGLFGLK',\n",
       " 'RLLAGGIRVKGRIVIVGICLRVIIGIKIGAKKLGKARGGLIIIRFGIVV',\n",
       " 'GGGLKKVKRRFLLCGIIKGAVIIGIRIGIVLGKGKIGKAIRGKIGIRRKA',\n",
       " 'VLIVIVIIIKRKLIILKGVKIKGIRIGCIVRGKIAGRKGVAGKRLKIRRK',\n",
       " 'KAGKGGILAKGIGFVKGKGIGGGRKRKLGILCVLGKGKGGLFLGVGIKG',\n",
       " 'KKRKGIIVIVAGRLGKAIIRRIKIGGLKIKGGIVLCRKGCKILFVKGRGK',\n",
       " 'GRRLGKKGVGKRVIVGGGGRARKIRKKGGGGGKLVAGKLAGKIKFIKGKG',\n",
       " 'GVGLIKIGFFGILKRKLGKKLVKILGVLGRLLGIKGAKGLKVKGAKLIAV',\n",
       " 'KKCAILGKVRGKGGLLRIVGLVKARLILFIRRRAGRVGGGLRKGRRIGCR',\n",
       " 'VGLKAKKGKRLGGKRLKGLKKGGGKRLGGIRVVIGRVGRRLFGRKRRLCA',\n",
       " 'KKVIKKKRGIILGRKAGLRGGRRGRRIVKAGKGIKGKAGRCRVKVRV',\n",
       " 'LGIRARRLGGFGLKRGIIGVKVGIIKIIVVRILAGRGVGGFVGGALAIVK',\n",
       " 'KRLGKGIFALKGGGLVGLAKGFGIIGIIKRKKIKKGRKVLKKRKRRRALK',\n",
       " 'IKVLIGLLIGVGKKRKGGIVLRRRLGKLGAVRGVGVLLKIGVKAAFGILF',\n",
       " 'VLGFKKIGRGRGRGLAIILLKKKAKIVGVGGRRAKKRAKIRLKKAGLL',\n",
       " 'LRRVGGKRIRKLRKLIKGRARGGLAIGKAIRRIAVIIGKVGRRGLVLLGR',\n",
       " 'KGGKLKGLGKRRKLIGFKLVALLKGLRRAIFKRKGGIKVRALARIGVKRR',\n",
       " 'GVRRRGVIRKCAIKGLKLIVGKIGKGFIRGGGRGLRGILGGKVGLIGGFC',\n",
       " 'IKGRAVKRVVGIIIGALKGFCIGGRARKLLALIKGRGKGGLGKFIGGLK',\n",
       " 'VVIVKRRKIVKRRGKLGVKKKILVIKCRLLLGKKGGVGKKGIVAGRGVR',\n",
       " 'RGIAGVGGIGLLKGGRVGGKRIGVGILFGAGLIKAGLGIGVGKRGRIGLI',\n",
       " 'VGRLLKKLGGRGRRAKLLKKFFVKIAKGRKLKVGRRKFGGIVKGIRVRGK',\n",
       " 'GRIVLRKGVIFIILRLIKVAIVLRGLLARIRKFGGLAIKRVKLGAFKKG',\n",
       " 'FIGGGGRLGLLVIKKVGKGGRGVRGRGAFAGLIRGKGGGLRIGKRIKFGG',\n",
       " 'GIKRKKGGLAGGRKAFILRKKKGGKGIGKRVVARKRALARLAARRKIGI',\n",
       " 'KRLKKVLGKFGIAKKLGVLRFLRRVIGFGKGGRKCKFGGAKALLKGVIR',\n",
       " 'LLAIAKKIVLLKFLGRGKKRLILFARKIKGGLRKVFIKVRCLLVGLFK',\n",
       " 'LFVGGVRLGAGLAGKIGKAKGVAAIIFLGKKVKIIVKAGKVKGLVLGIR',\n",
       " 'LLVLLRGIFVLKIGKIFRFKGLGLGRGGLGVKKKIGGGVKGFKVFKKAFI',\n",
       " 'GGGAGLLILKRVKLGAGRKGILKIIKGKGGGRVFLKRFGLKIKIKKLARA',\n",
       " 'FIKGKVGRIKIAAGGKRFVAGIIRRVGVIVKLGVIIRRGIGGIKKKAKIK',\n",
       " 'KLKIRLLKRRGIKIKAKLIKRIKRLGRCIVLRRIGKKIGRFGRIRGGLKI',\n",
       " 'KGRKGLGGKKRFKGRIAFGIIVALGLIGVRILKRGLRGGGGKGIRAIRRI',\n",
       " 'KAGKKAGGGGGRIGGRLLGKIKKKKAKRRIGKVVIGKRIAKRKKGGGIAR',\n",
       " 'KKVRVKAVRKRGLGLIRKGLFKRLIFKAVGGKRLKLVGKGALKVLFGIGV',\n",
       " 'KGVGVLLRRVGRKLGVGKKVLAIGGRLGKGLRGARAGKRKKAKKAVGLVI',\n",
       " 'RIRGFAGKCRKAAKRILRGGGGVKGRRRIAKKILIGFIKGGKRVKKARRG',\n",
       " 'RIRGLGIKGGIAVGGILIGRRLFIRKKFIVKKFKGGRARFRKFIIKARGG',\n",
       " 'IGIVVKIAKKRKVRGGKIKKLAKIGGIVGRAKGGKGLVKFIGKIGRGVC',\n",
       " 'AIFFCGKVIKIKVKVGRGRGKRKIGIGKRARGKAKRRAAKIARFFKFGLG',\n",
       " 'VICAKIVVAKRLIGVGKGLIIGLGRVLGLLKLRGKIRKRRGLKKGVRVKL',\n",
       " 'RIVLGRLGGKVFIFGFGAIIIIKGGGRLIGKKILAAGKKALIGIRIIILK',\n",
       " 'IVAGKIGGKVLLLKGRIGAARIAKRAKAVKGRRRRGLRVVKAKRAVRG',\n",
       " 'KKGKIGVVLFKKGGGLKVGGGVGRGVKGRRKGVRGGFKVAIIGGKKIGRG',\n",
       " 'LVLGIGLKKFAIIVARKIVAGGKKKFRALIIGRFKLVKKRKIGRVLLAIF',\n",
       " 'KLILRRKRALGRKAKKIKKFGKCGCVKGGIKLAKFIRGRGGGLLGGIAIF',\n",
       " 'KGRRFGKIRGLAGLGLGVRFVRKVGKIKVAKKRRGILRGIKVKGGGRLAF',\n",
       " 'KGIKKGGIRGRLKRLAVIIKGRRIKKKKLVRLGRLKRGGVFRGFRLLRGG',\n",
       " 'VKKGKGGVKLLKGGRAIIKGRGLGKVIRGRKIKLGIKGIRGKIGGGGFLR',\n",
       " 'GVRGAFKGRRLVKKRVGGKLALVGGKKLVKARVLIGLKKLVGRKKLRIK',\n",
       " 'GGGKFGGGAKVIVRKLKGLVKLGVAVKLVCIGGKRVIGKRLLGVKIKRG',\n",
       " 'GVRGIKAVKIKAGIIIKLGKFGKVVRLFRVIRKRGKIIRGRGVKKKGRA',\n",
       " 'LKVKGRLGGAVAKRVKIRRRGGFIIGKRGKKFIGGKRIKFKGLIGGLFGI',\n",
       " 'LAKRFRVKCKKRIAGILLKGKKVGLGLRVCRLVKIKGLLGVGRKRGGK',\n",
       " 'LLGLGIRRGKILGFKGKKRVGAKKRKLKRGKKKGLIGIKIRKGIRGGVA',\n",
       " 'RIAAACGGIAGAKRLKKRLKRRRRAGKGKVGGLGAGRRAIRRRIAVKLR',\n",
       " 'IVFRKLGGKRGVGVFIRRLKRAGRFGAGGRAILRRVIRIGALIIGAGKLG',\n",
       " 'FILGKGRRRIGGRGIRKFIRKKGVIGGCKGRLAAKGAAKVRGVFGIFRVL',\n",
       " 'GGLLKGIGGGKVVAIVGKAKGRLGGKVRGGAIKLCGGLLGGKKGLVAKGF',\n",
       " 'RILRKLRLGKKGKKLRICFIKRKIIFIFLFVGVLIKFLKVKLGFLVIKKV',\n",
       " 'RCRLARKLGKLARLKARLRKGLKRIRGGGKIKRVLGLIKKRIVVIGKFL',\n",
       " 'FAGKGKIVIARRIIARLKVLGKIIKIKGGRIRGIFIGCKKKGVRLIGKV',\n",
       " 'LGLKGLRGKFAGGILRRGKGIVGGLLGGVIRLGRVVLGFKKIGVKGRGK',\n",
       " 'IGLALKGGKGILKRGKRRKLKGKRRIGALGVGKGCGFAKKVIAKIRGR',\n",
       " 'GVKLGRKKIRKLGLVLGGRLAALFIAVGGRGVLGKIIIRLGARVIAVKI',\n",
       " 'AFKLRAVRKKVVGRFKIACGALLIGFGVGIIIIRGRRVILIKKGKVRGGV',\n",
       " 'GLLLKIKLGILVGRGGRRILKAFKRRAKGIVRGGRKGVARRGKGGRKRCG',\n",
       " 'GRLKLGKGVLGGGRALKGIKIRIALVIGAGGVLKLRLGLRGKKGGKIRLG',\n",
       " 'AVVGKGIKLKLGGGRKIKKLVGKGKGRKGKALKRVLRKKRVGGGVGLLGK',\n",
       " 'VVKKLFIAGKGKKVCKRRGIGKRCKLRGAKFAGGFVRCGLGLRFKVLV',\n",
       " 'RKGKGFKCKAKVRVAAAVIRKAGVGVGGILRLKKLVVCIGIGGGRGKIK',\n",
       " 'IRKCVKRRLRGLAARKRKFIAKKGLGLKKARLKRGGIGFGIGKGFAKIKR',\n",
       " 'GRRFGVGKIGKGGVILVAAAGGLAIKRIRGIRGRGKVRLRKKKIGGGIIA',\n",
       " 'KLKVRKGRGLALLVVVGRCKRGGVKARGKLLRRGGKFLVIIKKRKCLGGG',\n",
       " 'VVAILKVLGGGLAACARRVIRLGIGFGGIVGLLKGGKIRLIKVLVLIR',\n",
       " 'LGKIVKKKVGVLGIVIILRFCKIFGFRKKLIGIRKLGIIIGGGIAKKVA',\n",
       " 'RIIARRRGGKKAVRGIKAKFRVRGIKGIIRIKKRVVGIIGGKVIKKRGK',\n",
       " 'RKILVRFGIFILGLGKAVLLGIKLIIGRLGVIVKVLLGGIAGIFRLKVV',\n",
       " 'VVARAILVRACKGGKKLVLAKKARRLRIKRFKIKLFIKRGGVIVKLGIG',\n",
       " 'GVGGVGGVGLVLGKVIRRRCLRGGGAKGRGRKIRGKKVKGGKLIAKKGGF',\n",
       " 'KGKIFAIILKRFKKRGGKVALKRRGRRVVVVIVGKKLRIRILRRVCRIK',\n",
       " 'GKRGKVKVIGIIRRVGKLKKIKFKKLGVGRLGKKGKRGIIRGFKAVKGGK',\n",
       " 'VKGVRGGRIAVRARIKGKKRGIICGRIGGGRARGILKKRLGLAVRRLGV',\n",
       " 'FGLGVKGFLGVAIVGIAKLVGVIGRKRIKRLILRRGILLIGGGGRLGGGK',\n",
       " 'RGFVGILIKKGALIGKIFLKVGKKGKGVGARRVFIGKRLAIGGLVGGIR',\n",
       " 'LKFAVRGKGVVAGGKILGKRGKKVKRRIGVGLGGIKIGGGGLVIKGIGR',\n",
       " 'RRGKKFKFVRRIKRIRIVKVLGKKIIKVGAVGRILRLRGLAKRKGIIIGV',\n",
       " 'LKIVVLIGAGKILLRVRGRRRGRLRKALLGVLAIGKGIAAIKFRRLKKLR',\n",
       " 'GKLKKGGIKKKRGIIGLCARRALGLCLALIKKGGVKLLIKGGRFRRAKRG',\n",
       " 'GIILKLLLLVAAGRGLKGGRVRAVVIKGVGRRRGGRLGGRGGIKLRGVLG',\n",
       " 'RFVGLGAIRFKLIFGIGLAGVGGGKVGVRRLKIIKGKIRFRIGRKRIKVR',\n",
       " 'KKAKKGKGGAILIKGKKVKFRALGLGGIRIGKRRGIALGVKGGRRVVGR',\n",
       " 'GRKAGIGRFKIRLGCIKAGKGVGLKIGRKRRCLLRRAVILVGGFKKVLAI',\n",
       " 'RVIRGVGGKLVKGRAFIVLVKIRLLFAVVKGVKRGGKGGGLALRVGRGKG',\n",
       " 'GIVLVVIIIVFIIGFIVKKGGLLAGGILGVIKVLLGGIALCVVALRVGR',\n",
       " 'IKVRRKLGGKKVVIVGIGGGRIRKVAGLRKKVFLRKLLRLVIIKVIKLLI',\n",
       " 'LGLIGKAKLGLRVRGGLGVGIVRVKGVRKGKCRRIGLILLLVVKKRKGR',\n",
       " 'RAILKKRLIVRLIKKKIKKLIGKLGRLGVKGGVRGAAAGGGGIKVRKALG',\n",
       " 'RVLRKIRLKGRKGIGKGIGRGIKVKKIKGLLILAGGVVAKKKGIGLKKGG',\n",
       " 'IVRLILKGLRLGVVKGIAIRGKLRKIKKVFGKIGKLGIKLKRGGGKRRRL',\n",
       " 'GIIIGKKIFGGIGFFVILIGGRGIRLAIKIKRGKIIIGKLIKKRRGVIRG',\n",
       " 'IIKGLAGGGKKFGLRKKVLLRFFKKARRKKLFKVCRAKAFIKIGRIGKIG',\n",
       " 'LKRLKGFGGILKARVKGGRAGRGKLRRRIVIKVIIAFVKKKVLRVVIVGG',\n",
       " 'KRLKKVRKAALGRRGGLIKLRKGIRVRLRVALKKGVGKRIKKVKGKKV',\n",
       " 'ALRVGKLAFFLRLVVCVLKGGKGKIGKLGKIKIGGLFFIIVLLRRVKRKK',\n",
       " 'KRFVIKLVGAIGIIGLRVVVRLRLKGLAGKGIRGVKVRKVRKKKLKGVKL',\n",
       " 'GRIGLIKAILRGIKLLALGFCLIVKIRIGRAAGGFIGIARICAGKGGVV',\n",
       " 'ILLKKRRKLGGLLLGLCKGGILKGFAGKGKRIKRAKLKGAGIIIIAGRK',\n",
       " 'IKLVKIGGGIVVKKIVGLLAVRIARARGGKRVKFGIIGGKKGFKGKI',\n",
       " 'LKIRIKFAVGGGGCKIFALKKGGGLVRKIKGGGKGVRIKIKKIGGRKLL',\n",
       " 'RKRKRGGARAAILGGKGKLARVGLGKLVIIKVKKLGFAIKKKRRKKKL',\n",
       " 'ARVIFIKVGVIRILVIAKIRRAKAIKIVKRGAKVIVVKKLGRLGKGKVRV',\n",
       " 'VIGLGKAGKGIKKGILKFFGLVKRLRLIGIRRVGILLKGLFRGGRRKV',\n",
       " 'VGLCILGKIKAGKRLIRKKRIKAKGKKKLVVKGIRALGVGRLVLRRGGGV',\n",
       " 'AGGAKKLGRGAVGLRKLFLGAKLKGILRALKLRKLKVAGRVRRGGGKKF',\n",
       " 'KRKGRGRACLGLCGGGRAKVKIGKVIGRAKFKCRIIRGLLKKAGVVV',\n",
       " 'RLKFVFGKKKRACKILKLKRLGGAKVVIGKIGKIVKGIRGRGKGKRIA',\n",
       " 'LGLIFIAKLGGKIIRGGGLLRGFKKGILGKVGALRKRRGVVGLAKGKG',\n",
       " 'GGKGVKRKIRKGRRKGLAAVKGGILLVLAGIGFKFGKKIKKIIRKRKKRA',\n",
       " 'KGIVAIGLIRAKGGGGFGVRLAVFAIVKRLKLKGLRFGIIGVLLIKRGG',\n",
       " 'KKKGVGKLFGRRKKGLIGKFIKVIGGLILGLGLRLIFGLGGGRVKRRKIV',\n",
       " 'LAGGLILKILGKLRLVGVIKVIKIVRGIARRIVVFRARKGKLKLKGGKF',\n",
       " 'IIFGGGGVGIIKGGFVGAKGGKKAKGVKLKKFIRRIAIGGRGIRAKLGGA',\n",
       " 'RGIIKGKFGKVAAIIGLGRVALLGRLKKGKLGRGRVILKLRKGRALAKLK',\n",
       " 'IKGRRLIKRKVKKRVGIKKKGFKFIKGLGLVGVLLIARIVRAGIRLILLL',\n",
       " 'IKCGGLIFLALGRVRLRRLIGKLGLRGGIVIGGGLRRKGILVVGVRGGG',\n",
       " 'RRLGKRRVKIGRRAKAIKKLKGRVIGVVRIIIGLRLKLIKKKAKLRVG',\n",
       " 'ALKGGFLGLVIKIVIGRKRRAKRLKGGVILIRKKGFLRGRAAVKGVGGG',\n",
       " 'CCRRIGRKRGVGGGCKRGIIIVIIGVGRRLLGRKIIKRIFLRKKRRIRA',\n",
       " 'KGRRRIFAKGVVVGVRRGGVFGGVILKRGGLRRLKFGKKRVFLKGIRIIG',\n",
       " 'GKLGVRKAGVLKVRLKLLLGGRAKRRFGCKGIVVGLGGGGKRRKVIRGL',\n",
       " 'FKGRGGRKVKRKRRGGKVRVVKRGAVAIGGFIFVLKKIKGIRKKGVAGK',\n",
       " 'GKIKLRGFIGIGGAGLAIVIKGGGRRIGGKGIIKRIGFRVKGFLKKFIVK',\n",
       " 'RALIGRGKGFRLILLIVRRGGFKGRVGLKIKFKGGKFLGKAGLRVAAIR',\n",
       " 'VFVARAIFRVKGRGVGIALGKLRCIKIRAIGLIRGGKLVLLKFLGRKLIV',\n",
       " 'GIKKGGGALLIGKLGGVGRRKLLRRKLKVLGIFLKRKGKIKVLIIRIKIK',\n",
       " 'RVKKKKFKKFLKRVKKIRVGKFLGIIGRIAKKIGGKLKKGVKGLKGGR',\n",
       " 'KILGKLVVKGGRAKGIKARAKKGCIGRRAGIIRVKKKGVKGFKKVKFIIG',\n",
       " 'VKRKGRRLKRAKFRIKLKGKLVGGLCVGIIKIGKRFKIVGVIGKGGVRKI',\n",
       " 'VLIGKKRKGGGIVLRIKKVGRKALRGGKLIKKCGVIKIAAGVRLKAGVKI',\n",
       " 'CVLIIGLRKVLRGRFVIGRAARIVKLGKKVIRRRLGLCGGIGVALAIKRR',\n",
       " 'GKGLRIIKAIVIGRAGKVLGLKVKKKGGIRVKGRVVKGGILRIKLLRRLR',\n",
       " 'GRLGKFKLALFRIGVVRKIIKIIKIGRRVKGGRVCVGGIIGGVIRKII',\n",
       " 'RFRIAKIKAGVGGRVLGIKGVGGFGRRGGRKKRFIGKIFGGGVKVGVKKF',\n",
       " 'RIKIKGGKVRLGRLRARLFIGRGFACKGFVRKGRILGIRGLKKGGFLRIV',\n",
       " 'IARGLRRGGKLRGGLRLKIGRKVLARLVRVVKKGKIVGKKLRKAGGIKKG',\n",
       " 'LKRIIAGGKKLLLLKIRVLIGIIRLLGGIKLKKGKGRGFGGILCLKKIR',\n",
       " 'KRRVRKGFFIRKIKIGRKGGGKGKGGRVGIILVLAKLLVGGLGRRAKLRA',\n",
       " 'GGAKGIARGGGIVGIGRAGGKIKGIKKGKKRGRIVRVGRGRKAARVKKKK',\n",
       " 'AFKGVRRGGVIIRKRGRKCRVGRLGLGRRKGRKGGGLLGGLKARKIGRK',\n",
       " 'KILGLGVRGKKLIKGGGKRGRFGVKKAGLLIIFIKLIKFVGKRVKKKGGF',\n",
       " 'GLGRKIGGRGGIKGIILGFIVKKGRRLLGVLLRRKLKIGKVGGVIGRRKV',\n",
       " 'IRKLKVLKRGLGLFVKLGIKVIGRRGALVRGGIIGGRVIAVGKKILLRG',\n",
       " 'RKLIKVGKKGVVIIRGKGKRVVCIKALLKGGIIVGLGLRIGKKGKRARK',\n",
       " 'VRCRRKVKKGGVGVLAKRLGVILGIGRGGGAKRIKKRKGKIRVIRVLGK',\n",
       " 'GVVKGLLKRVVVIRVGGIVKGVVRCLIVIGGGIKGGGIGKKFGGAKGRLI',\n",
       " 'AKGKLGKAVKFKKFALRRLVCKGLKLGRKIIAKALVIKKGGIRIRKILKL',\n",
       " 'KLAIGLKILKLRGRVVVIGLGLVLIAAGGIGKKKVRGRGGVKRKGKGILG',\n",
       " 'KGRRRLLKRLKVGVRLVGKIRVGKGIVIAAGRAAGKIGLILGILVLVGGK',\n",
       " 'ARGVRLGAKKKAGAKVVKLAKLILRKVRGVKLGRLCKLFLIGKGKRKG',\n",
       " 'LARLIFKKAGKIIGIGKKRIRAFLKRGRKVLGFVLGLVCRVGKIKLLKR',\n",
       " 'LLLALIGLRKKKGKIIIAIGRKLRGKVIIAVIGLIGIGKRVKVGIRCVRK',\n",
       " 'ILFILRKAAGVIVGGGVKGGGKIIGAGAILKRLILGAGKKRKVIKVRRGF',\n",
       " 'KVKIAGGRGGILRGGLKGKRVLKGLGKIGKRGAVGKRGRGRIGGRKRRG',\n",
       " 'RLRRKLVGRRKKKKAVCRIGIGRLGRIGRKRRGKGVIAGALKIIIGGIIG',\n",
       " 'KRRKRVVIARGKILRKGGLVLGKKKKRIRGIRLVIALLKRGRIRRRILV',\n",
       " 'ILKKFLLIGKKKVKGRLIRLKKKIVRGIRKIGGIKLRKRVKIGRAAGRGG',\n",
       " 'VRLRKLGVLRLLKGKFVKVIKGKKGGKIRIGGKKLFVGGGKRGGKKIGR',\n",
       " 'KGGKAVIALRKRGLKGRIVKRVIKLKGGLLIRVIGIIKRGFIKKGGGLAV',\n",
       " 'LRIGFRGRFKRVGGCRLVKLGRRVIAKKRGFCGKVRGGVIGGGRKLGKFG',\n",
       " 'FLKLAVFIKGGLAGRVLKRVKFIAILAVGRKGGLGARKRGVLGKGGKRGR',\n",
       " 'ARKGKIRIAGRLRRKKKKGLKKGIKKRVGGAKRKFRGGRILGRKIKLLKF',\n",
       " 'IIVIKILRLRKVRLGLGIGKIVGLGFVVGAVVIIGRRKLLAGKIKKAKKG',\n",
       " 'GCGVRIAKIVLVVAKLIIKLGKGKILRLKLKGLGRGFKCLGGVVIVVLLL',\n",
       " 'LVIIIIGLVIGKVGRAIRGKGGGKKLKVGRRGIKVVVLRILGVKRFIGII',\n",
       " 'IGLRIGGKIGRARRGKRGRKLAFLICIVKGRILLGCKFIKGKRIFRKRGG',\n",
       " 'IVAICARRRIRVFKIRKLRLKAKALLLFIGIGKFIVGVKLGAGKGKAFGG',\n",
       " 'RGLGVLIKLGLKRVRVGCLKALVKVVLVRGCLGVGKIKRKKRLLGIVG',\n",
       " 'GLGAVGGKRLILRKAKKKAKAAKGGARCIGIKKKGGKRRVKFGGAALGKI',\n",
       " 'RKAKVKIVGKKKGVKAAKVGLGGGIVVKLIAIRGKLKGVRAIILKGLGL',\n",
       " 'RIKKKKRGRKILGGVGLGRLKRVGFGRVVKIGLFGKGKLKKGRLRFAIKL',\n",
       " 'LLVLGGIGRAVGGRLRRFGGKAKKGARGKGGKGIGRFGKKKGGIRLRFFI',\n",
       " 'LIRAGRIGLVGKKLKGGVGLLLIKCGLKIKKKKGGVLKKACGKGAIVLKF',\n",
       " 'KLKGIFGILIRILGKGKGKVGRGGIICKKAIRRKIKLGGLRAGVKVKRIG',\n",
       " 'RKLRGRGKLARFVGIKLVFKGGLKKLRLVGVKFKLVIAAKKGIILVRRR',\n",
       " 'LLIIKLAIGAAGLKKVRFILRRGGVKAGGGVRRAGGLVGRGKIIVVVLGK',\n",
       " 'KLGVKKGLRRRGLLIVVARGKGKKRAILGKIIGGILKLRGRGVKIKARKI',\n",
       " 'ARRKKVKAKGGILGLIGVKLKKKKAAFRALKIKRKRLKKGRVRLGGGVL',\n",
       " 'KGRFVRKIGIRRFKKKGVVVIKKLLRIFRRVLVKKGCGVVILLKVGKLL',\n",
       " 'GKGGKKIKKIIVKIAKKLVRKGGLGAKGLLKRKVVVKGRKGRKFGRKR',\n",
       " 'KAGVVAAKGRFKFVCKGGRKGRICKRIKGRRKFLGGVIGRKKGCFGLKAG',\n",
       " 'LRKKIVRLVIRAAARKKVGRRRGGGGLRRRGAVGGVAVGRGGVAGKLRKR',\n",
       " 'KIKIGRLVGRVVKGLKKGVIGKIVVKAGGFVKAGKLRIIGRRKKIIFGGV',\n",
       " 'GKFKLLLRKKKLKLGGIKGIFKVRFILLLKAIRAGVRLLLGLKLLKIGV',\n",
       " 'RGKAVRLGRGAVKLGLAGKAKKVKKLLKVGGGIGIAFKRGGGVVLGCLF',\n",
       " 'GVKVLLIRVKGVGIIKIAAGGIRKCLGKKVLGKGLVLLIVGGIGRFLGI',\n",
       " 'LVIGVRKIGGVGVVAKIGIIRLVKVKLLGIIGLIAKKIIGIFGAGGKGK',\n",
       " 'RVVGLKLLCGLGRIVRGKIGAVLGVIGVIAARKKVLLKKAGRKRGILIKG',\n",
       " 'KILIKFIGKRRVKKIIIVGLGIAKVKFGRLIGAIVGKGRGVIGGIFIRAV',\n",
       " 'GILKRKGIAGKGRGLKRRRRKGGLIVGGFFKRGGGKKGGCKRKGAVKKGR',\n",
       " 'KIIKAVFRGVLKFLKGRRVKAKKKFGRRGGKGRGVRGLGRCKKRIGRGRI',\n",
       " 'ARIFGGKALRVAIKLIAGILIIKKRKVVLKKVKVRGLKIGGVGGLKKG',\n",
       " 'RLRLIAIKIAAGIRIRKAILCRKIRILAKKVRLVLLLLGVGGKCRKKIVI',\n",
       " 'GGRRKLKVGLKGGGGVAIIKKFGGAVRVGVRKRGVVGKILLGLVRLARKC',\n",
       " 'RVVLIAARGRGIIGFGICGGVVLGGRLGGGLGLGRVGLKGRAIKIRVKFA',\n",
       " 'GAKGLIGRGGRKVKFKRRRGGKLAIRIILFGGGKVGARGRIGKIVLKKLI',\n",
       " 'GRARKRIIIGIKIKVIKGVGRVKLIGKKGIVKRIKAKKKKARVRGLKKL',\n",
       " 'KIGLGGGIKCKVVKAVLRRRKLLVVLKKRKGRKLKAKRRGLKGFRIAGLG',\n",
       " 'KIKKARLGVILRIVLAVRAKGGGGRGRVVCKAVGFLIGIKKRGRKGGKLF',\n",
       " 'LVIARVVAKFAGLGRIRVGGGGCLLIGGGGGKRKKRGCKLRRKRKGVGV',\n",
       " 'LILRRKRRKLLALKAKGRKKKRARAFVVIKKKGLGRIFLRKKLRKLAGVR',\n",
       " 'RAIRARFRGRGLKIKLGLGLKGGIKVGKIRVARLIARKGKAKVILLRLIA',\n",
       " 'RGCKVCKGGKGLIIVIRIGLIVFFAKRGLGRKGGIGLGRKKVKIRKVGG',\n",
       " 'FIFKLCGKRAKRKIGVRFLRKIRGVALILIGRRGKLKGGKKRIFKRKIR',\n",
       " 'RIGFIVRIRGKKKGRRGRLGLVVGAGRLLKRGLGRVVGARRVGKGKRGG',\n",
       " 'GKLGLGKGRGGARKRRKRKIGKIRKGVKAKARLKGGKGCGLVIIALGII',\n",
       " 'IKLRRKKKKKKRLRRLAIIKKAILGGLAKRGKFILILGRAIVRLLKFGVV',\n",
       " 'VRILIFIIICKGLGVVLGKFRGGVVGRLVGKICLFGGKGKIKAAGVGVAG',\n",
       " 'IGKVIFFAIAFRLKVGKKKVVRKVLKFLIIIGRVGVGGLGKKVIKKLGLK',\n",
       " 'FRLGVIKKGRVKGKGRLILGIVCLGLRGGGIKLKARGGKGKRGILRIVIV',\n",
       " 'GGFKLLRAKKAVKARLIKVGKRIKIKGRVKKRGIVLALRGFVFLAVIR',\n",
       " 'KIRRRKLRFRVLLAGKGLRGIGKIKKVLGRVRGRGLIRLKKKFLKRKGFK',\n",
       " 'IKGRLKKLRVIIARVARRGGGLRGGGKRFLGRLGLGIIKLRFKIIIRGAL',\n",
       " 'AGGRKGGIRKKGVIILFLRRAKKARGGAVGGRIIIRIVRAKGGIVLRLK',\n",
       " 'VVGLGLAGIGKKGVGKIKVKGGKVGGKAAKGGRLKGLKGKKRAGKRIGG',\n",
       " 'IKGKKRKGLAKFAKKKVGLKRIKKKKGGLLGRKLKIKVGIGGRGRGLGV',\n",
       " 'RFLAAGKVGGGKIRLIRAVKRAARKGARKKGLRKGGRCRIKCGGKRGKL',\n",
       " 'LRGFIVVRLVKGGGRKALKKKRLIGIGGIRLGAGLKKGRKFVGGGVKLGV',\n",
       " 'LRRKAIAAVRKVIGGGKKIGKVKVKIRGARRIAKGFIAGGGRGGRLVIIG',\n",
       " 'RGLKRAIKIIVFKKRVGGAKCGIILAKFFGARKKKIVLGFAIVRRRKAK',\n",
       " 'GRRKRGKKLLRGKGRVGKLFKLKGRGKGKRGVLIKLKGGGGLFILKGGGI',\n",
       " 'FVAGGILVAGKKLIKRRALLKKKVGKRGKKRKGGRIRKAKRIRVKGGGGG',\n",
       " 'GGGKKRFGGAGRKRLGRKLKIIKRRVGGRKIIGKCIRIRKGKAKKGAIAV',\n",
       " 'LIGKLKIIALRGGIKGFGGGVLLKLKKVKGKIRKVIAIARAKLKIKGVK',\n",
       " 'IRVKGGKKRVKRKGRGVKLIKLFRKGVVGKGLKGKIKRGALKARLGKK',\n",
       " 'AVRGLGIKGIVKRKGKKFKAKGLLLCGGGRRVVGVRIVKIKKGLGGGFI',\n",
       " 'GLKLGKLAGRRLVGGVRFAGVKFLRFKKAGIRGRVIGVCKKKGKGGRRK',\n",
       " 'LRRRIIGKLVKIILIGKVIFRIVIIAKIGKIVKGGGGGGIGLKLLRIKR',\n",
       " 'LLRRFAGKIRVVRLRILGKLGLLIKVKKRGIKIIGGIIKKLIIGRIRKAR',\n",
       " 'IGLKIKIRRILFRRKAKVKKCGGGIGLGVIKGKIGIALLKKAFGKLVAR',\n",
       " 'RKFAIVVGLAGVRIIKVKKLKGGLRRIGGRILLRVRVLLLGRGGKIGGIV',\n",
       " 'ARGCLGRGIAAIGGKLGIKGAFLVKRGVLKRVGGCKILCKKAGRIGGVK',\n",
       " 'VRKVVVGKRGLLIAKKKKGGVLLIRFKGGGIIKIKGKGKGKIGLIARGAA',\n",
       " 'KGRIAKVKKGVLKLKKLFGKKGILIKKILLGIALRGIGCVGVRKKGIVKI',\n",
       " 'FKGVVIIFIIVGGIGKKRGRAAVFRKLIGGGKIGALRLVIARLILAKIKG',\n",
       " 'IGKIKIRIVRKVKAVLAVAIILGLGVIKKKIIKFCLGGLVIGGGVKGVG',\n",
       " 'LVKGVGGKRFLKGGLRKKIRLVRLAFGKFLRAGLVVARIIRIIRAAGIIL',\n",
       " 'RGVGIVKAAAKGKRFKIGIRRVGIGGKVVRGGVGIKLKGGKIFRKKIRG',\n",
       " 'RKRVRLGRGFRIGKGKAIAGGALLRLLGVARKAGFIIRRKAARKGGGFV',\n",
       " 'AAGKVRGKKAGFIGGAGLLIRIFKIKRCLKRRKVGGFRKGILRVKKGRI',\n",
       " 'ILLRKGKAKIIIGRGLIVLGGALKGGGKRCRKILRLRKARIKGVLGAL',\n",
       " 'KVGVGGARGKGGKIKKLKALKRIGICGGVIKKRLLVGIKFKRIGAGAGR',\n",
       " 'LGVIKILGLKGRRRAIAGLKGAIKVKRIGGKRRLRAARGLIKKVIRRVR',\n",
       " 'VKRFKGFLCVLIIKLGRVRKRGGGIIRLAKLLKIIVIGKKIKKKKVKVKV',\n",
       " 'KLLKFLGKIIGALGIKIRRRKIIGGVIGVLILVAGLALKKIRLGVKGFK',\n",
       " 'LGGRIIARLGRGKRRGVFGGKKRGGGKGAKIFGRLGLFIGIVVKRRK',\n",
       " 'LKFVVFALRKLRRAAGVIAAGALVIIGKKRLARIVGLKKKLLAAGLRVAL',\n",
       " 'IIKVLKKKGGLGVVRKGLFLAFRFIKFGRGIGFKGGKRGLIRCVGKGGGL',\n",
       " 'GGLCRKVRGIKRGIVGGKLRLFKRKKRKLKAGLKIRKFAAKGRLGGRKKI',\n",
       " 'AGGRRIGIKIIIRLRGRGLVGLKGKIIRGGKKGGGGFKGGLLRGVGIAK',\n",
       " 'RKGIARGKVKLRLKARRCGVKKKAVGGRVLGGGVVRRRKKRVGLLALR',\n",
       " 'VIRAGKLKGCARVIKVKLIRLLCRLARLGKGILIFRLILGKVKGVVIKK',\n",
       " 'LKGGKVKGKKRVKGLRAGIRRKGAIKGIGRKRGFAFVIIVKKVGRGRFL',\n",
       " 'GKIIKLKILFVRGGKKLAIFVRRVKKCGKIGGGVIVLLIVVAFGIRRRIG',\n",
       " 'RAGVLRLGIKGGKVKVIKKLGLGKRIKLLFILVLLRRKGVFGGARAGG',\n",
       " 'IRGGVILKIIGGVKRGVGRLRIKLFKGIKAKRLKKKKAVRIGGRGKLVLK',\n",
       " 'GIGGGILKGGRGRRFAIGGLRKAIVGAVIFLVRLVIFIGGKILRAGGKRG',\n",
       " 'IRLRVIGLKGGRGKKRGVKKKGKGIGRGILAFRRILKGKGIVGRGIVILK',\n",
       " 'RRALKLRKRVVVKLARRGGVVGIRKVGVLFAGKGGFKIKFIVVKRKGVGL',\n",
       " 'VIGAGRARRKIGVGVRAGRGRLKLKRLGGAIGGGRGLKVVKAGFLGGKG',\n",
       " 'GGVVVGKGIALRKKLIIGVIIKVAGRFKLAVLLIIGGKALGIGGVAGVGL',\n",
       " 'GAIKLVKKVVGVLRKRLKGIKVLKLLGRIRKKRRKLLRVGGKRGRLKGRI',\n",
       " 'VAKRAFKKAGRVRKGLGKKGIKVGLIRAFLGRGRKARFIRLVLCKKGVL',\n",
       " 'LLAKAGRKKKKKLAKKLVGRRKGAIKKRRLVVRKGIKRKFIKRFGKKGIK',\n",
       " 'LIIRRKIGKGVRGVGLVKRRKGKALIRLLCVGIAIGFAVGKRVLRGFFKK',\n",
       " 'LIVVVKRRKFIVKVRAKRGAKRGKVKIGRRGLKGVFGRLRVGKLAILK',\n",
       " 'GIKFIVKKKLGRGAKKALAFLIRKGKILGGAVKGVKGKALLVKLIRKVI',\n",
       " 'IRLLKAKGLKGLGLKVRAKRARRKGKGGLFIKAGGIIRKLFARRGRRLKR',\n",
       " 'RILAVIIGIRKKRLGKRRIVRRGVAKKGVLLGFGGRGGRKAARKLIKLLL',\n",
       " 'KGLVKKRKFKIGGRVRRRVLAGGLIVKGAKRRGKGKKFKALKKGAKRF',\n",
       " 'VIILGKKRGKKKLLLKRAGFKRKGVLKRIGFKLVVRKKKILAKGGGGGG',\n",
       " 'VGGGIGGFRGGRGKVILVGKKIRGIKIGKRIRVACGGVRRKIVGRIRLK',\n",
       " 'ARGVRRALIIKLLGKIGIGRGIKIILGGGLRKLAIGGGGKCRLGILKVGG',\n",
       " 'KRLVLGLGKAGFILAVLGIGRVVRKKKKLKKIKIGLKKIKVKAFKGGIKL',\n",
       " 'KRKRLGIVILGIIIVVGACIRKGKACVRVIGVFRKIKRRGVKGLLVKRL',\n",
       " 'KRGLVKLKAGGLILKRRKAGRGACKICLKGLLLKAKKKKLGKIARAIRAI',\n",
       " 'GKGLGFLVGKRKVFLGLLVRKIAGRGGIRRLKKGKGFIKGIVGIKVIVII',\n",
       " 'GARIKGGKKKKKKGRGLKRGLGGLAIGGRRILLGGKKCVKRGKAKFVKKI',\n",
       " 'RKFLVGKKKKGGRKGKLIGARVLLIVLGFGGGKAKGVKIRKIVAKFGFVV',\n",
       " 'GIVIRLGKKRGIRRGGLRKKLRGGGGRGLGLKKGGAGGRKRGIVLKKGGG',\n",
       " 'GKVVGRKKVLFVFRKIRGRKRIGVIIKIARKARRFCIFKLGKGAKARGVG',\n",
       " 'ILVLGLGLIGKIGKGRRCGVRLGFRKGLARAAGRRLLFIRKALLCGGGRG',\n",
       " 'KKLRIRLGKAKRRGGKKLFAGKGVRGRIAIKRGKRIIRKLKVGIGVVGK',\n",
       " 'RIILFLKRRIKGGKKKRLRGGKGAGGKKGIGRKFKCRKLLRGLKGGVLKV',\n",
       " 'VKKVGKVFKIILKLKLIGAGGGRKVRVKGGKRCFVRIGKCVILGGKRRGK',\n",
       " 'CAIIGGRVKIIGIFLIRGKCGRKVLVKIGFKKIGRGGKIIIKKVKRVLLL',\n",
       " 'VKAIGIGLGKKFKKKVVKRKGIGVAGKKIRLRGLKIGRLRVKAKLLIRL',\n",
       " 'GGAGKRKKKAGKIKKGVKIKRAGKARGKGVLGRGKRVRIRIGRFLRGRR',\n",
       " 'GGGLAGGVGLGRVKKRLKVGRRIVVGGRRKARLARKAVIVRKKIGGGIIG',\n",
       " 'GRIIIIAKKVGRIGGKRAVKRKAGGKKVGVGKGGLLLLVAGRGAKVGGLF',\n",
       " 'LLIGILLRVRGGRKLVALLKGGKIGGRARARKKGVLLFRGKVKKKLRGV',\n",
       " 'LIAAGGKVLGGGLRLIGGIVRKIIRKLRKGRVIGIVLRRAGKIGCRIKLK',\n",
       " 'AKKILILIRAVGLVKKGGIGRRKKVLRRVVRLFGGKRIKIGRKGGVLR',\n",
       " 'KGRFRKRLGGFVGRRIGLGKLVGLVGKLVALGIGKLGGIKAKIRFIAGKI',\n",
       " 'LGGIRRAIAIRGGKGRVGFIRALARAAIKAGGKKKKRIAGLLKGGLGGGG',\n",
       " 'GIKGLGLGAGILKKFGVVRGLGIGGKGKGVLAKFGRGKKGVRVKLIRGL',\n",
       " 'LLKALLVLLKRLGRLGFIKVVIGIIGKRGGKRGKFGKKGKRKGRIKCIKG',\n",
       " 'KAVFKAGGGLIGAKVKKAIIGRVGRKRRFGKGRRIIIGLGGGKKGFFKAL',\n",
       " 'RGRAGGGKKGLRGGILRRIKKAAIGGAAGIAGLILGKIRRLRKGFGCV',\n",
       " 'ALRVIIKRLFAKARGGKRVKKAIVVRGIGRLVGKRRIKLGKGLFKLIVL',\n",
       " 'VLKGRKVGILFVVKGIAIAGRGGVGFIGALLGLGIVGRKVGLLIGGFRII',\n",
       " 'GKGVKARRGKVRRRIVLGGCGGGVKGGGLGIRKAAKKLFIKGKRLRGVRG',\n",
       " 'IGRGLKVFLIKLGKKRAKLFVKKRRVIGRRKIKRRLVGGLVRKIKIKAC',\n",
       " 'RIFKAIIGGGKRLIGRKGGGRGIKCILIKKIKCGVGKRGAGKLKGLKIKL',\n",
       " 'KRKIRIVKRKKGGRCKIGKIKKLGGKKKRRGVFLKLIVRGVGRAIRVAA',\n",
       " 'FVGRRRAVKGVALRGCGKCVLRRGIVIGKLKRRGGKKKRRGGGGGGCGL',\n",
       " 'IIKLKKGIFLGIIVKFIKIRKLALLFVFIRRLIIKKAKKKKRGRGGKLII',\n",
       " 'GRKKKRKGLGVLIGGGGRVLAIKRGIGILIIALKFIAKGRGKGIGIAVAI',\n",
       " 'FGRKVVLGGGLRIILVGRRKLGRRKVIGKKLGLIFAKKGARCLLRKLGGK',\n",
       " 'GGFGGKVVGGVRKIIRKGGKLIGAGKAIAKGLIKRKKKKAGGLARGALVF',\n",
       " 'GRRILGIKVVKGVGKARKLKRIVIGLGKLKIVKVLIAKGILGVVKKKIRR',\n",
       " 'IKKGIKARIGARKKGLRVLLGRGIFLAGKKAVIKAGGKVRKLRRLRGLVG',\n",
       " 'GCIGGIKFKRLFKRALVKGKKIKRIGGGKVGGGLRGVIVLRRIGVGLKGG',\n",
       " 'RLLIAKVRGVIRVGVKGGKRRGKVLCGLRRVGKALLKRVGVRGRLRKRVV',\n",
       " 'LGLGGKGIRLRGGGRKVIIKGAIGKGRVRGLKGGRRGVLVGVVIAIGGRI',\n",
       " 'KGCGGVAKRCLCRKIGGRAKGGIKIRGLRVRIRLRIVAIKAKIRLIKAG',\n",
       " 'AALIGGRLGILARLIILRGAKKFKKVRVKRLFIKRLLKKKGLGKGGGFIR',\n",
       " 'IKIVKGLVGKIKVVFFVRRKVKAGFIKKRKFLKRKLKVAGLCAGRVGL',\n",
       " 'IKGAKRGKKKLVIKLGIGCIARKCKLRKKGRKILAKKRAFKGIRLRFRLA',\n",
       " 'IIAGKIGLGIKRGLKKGRAIAKKVFKKGGKGLGKKVLAGKCRLRRVKRL',\n",
       " 'RLIGRKGGCRGGGRGKIGKGAGIGIGKKIKRIRLFRKVKRGGVLKRKRG',\n",
       " 'GRGIKGKKVFVGFKLLGLIIVGVRRRKFRRCILRRRIRGKFRVVIGGVLK',\n",
       " 'LIRIGGGLGKKKILLLIKIKAGIAVVCVKLGLVIKIIKKKKALKGRKRIG',\n",
       " 'AGLVGGAGRAIGRRGKGGARRVVGVGGIAVRIRVRKFGVKIFAAIKGRKG',\n",
       " 'RGGFGIKRIKKRGKKKLLFIGVILKKCKGGRGGKGLRGGRRRLVKGFK',\n",
       " 'GKGCIKLRKIGKKGGGLAKGGVLFVGFLRRIGGGGKGGKGGGAALGARKG',\n",
       " 'LGVKKVLGFLILGGIKGKILIVKLRLLGIRLVIIFKKKKIAIGLRAKVIK',\n",
       " 'KKKKKIGGKLGARKGGGRRKGIKRRRFFGIGGILAGKKKRKIIILKILG',\n",
       " 'GLALRGKKKLGLGGVLGFKGRGKIIIRKLRRGVKFLRKGIFRGLFKIKGL',\n",
       " 'RGVRGGGVGKVIIIILRFGIRKGGGGIGIGKRGKKKIKGIVLRKLLKGAG',\n",
       " 'LVVKGKGGIIVFRLGRRKIFVKVGLIGIILLVIFLRIGRGLFKVIRGAAK',\n",
       " 'LAIKLGKAGIAVGVKKAGGKRGGGVGVGGVIKGKGRKIKKVAGVLCKVL',\n",
       " 'VGGKGVVGGAVRKGLILFLKVIVKKLKGGGKIKKRKVRLGLGKVGGLK',\n",
       " 'VKGKGKKARGLRIIGRGLGIKKKGLGVGKGKIGGKIGAAGGIGLIKIVLK',\n",
       " 'GRKGKGVLGRARVGVGGIVIKRKKIGRRGGVKGVIKGKKRKIAKIGALAL',\n",
       " 'GKKGGKVRGGKIKILKKARRAVRGGGGKKLRKRCGRGGGIRKFRLGGGKK',\n",
       " 'IFVRKVKVLLKRGLKFVILGGAKGKLLKIKIFIIIKGIIKGKIGCRIKGG',\n",
       " 'RIKKRLGALIRRRIILIIARIRRIGGVFILGAGGKGVKLLLRGGIIAKIK',\n",
       " 'GKGKGGRGVKGKVVKRGLVKILAAGKLKIRAAIRAGLKGKRGIRKKGRLR',\n",
       " 'RAKKIIIKGGKLLGKKIVKIGIVGKRLKKIGLVLKKKRGVGVILGVKGVA',\n",
       " 'KGGRGVGGKIVLRLKGGGRRAAKLFIIKKGGGLIGIKKKRKRLLGGLL',\n",
       " 'LGKRRLILGVRKGKAGLGVIVKGVALVKIGRKAVLVVIGKRKARAGGRL',\n",
       " 'KARRKIGKIGGGFIGKGARVRLRVVRRVFVVGRVRCVFRRRGKALKRAK',\n",
       " 'KVVVIGLCRLKILLGGRGFFGVFAGIKGGGKARIKLIIVIRRGGKKFKVI',\n",
       " 'LVLAAIGVRFRKLIRGRLFKGKGILGVLVARGKIRGKKGRAVKIFKKVA',\n",
       " 'KILGLAIIFARAGFRKVLIGVFGGGVLGGLKLGGGRRGGIKRRGRGRRII',\n",
       " 'KCGGLFRVKIGIGRLLGGFVVVKKVVVRVGIKGRARIRICVRGGGVRIKL',\n",
       " 'RKKRKIRAGAKIGRRIKKIAKGRVKKKKRKVIKRLGKCLIKKGKKRGRGV',\n",
       " 'IIVGGGRGLVGRRRGIVKIRKAKAILKLARGILGGKKGVCKGRRVIVGGK',\n",
       " 'RKVKRKGKLVLKAGGAKIGGRKLVIVRARKKRRGKIAGRVKIIGRVIAI',\n",
       " 'IKAIGGRRKGVRKFKKIILIKGGVKAGLVRAFRFRAGRRLKAGGILKRLG',\n",
       " 'GKGGRKIGIGKRLRFAGGIIKKGKRGKLKLGGVGVIVVVGKGGGIGVRGV',\n",
       " 'LVLAKAGGVAIAVKFGKKFGGGRKRVAIIVLRVAKRFGRRIIIRKVVRL',\n",
       " 'KIIRARRGLRKVKAILGIGKKGKIKVKKGKGIGKKKLAGVGGLKIRGRRL',\n",
       " 'KKGRRGGFCLGFGGGGGKFKGGGARGRRFKGGLRVGGVGAVKVIGIGFLA',\n",
       " 'FIKVKGLALKIGVGVGGGKKRKFKIKGLFLRRKKRKLLGRIGVRILILVV',\n",
       " 'IRGAVVIVGGGKAKKIFKVRLRAGRVIGRRIAKRAVKAGGGKLLFLRKR',\n",
       " 'AIRILRAGLLVVKIIVGRGLRFLKVAIGKGKLLFRLGGRRFIIGRVGVRA',\n",
       " 'LKGKRGFVVGKAVGVGGRGVGRKRKGLKKKVVKKLGRGKLGLGRKKGKLR',\n",
       " 'RKVGKRRRKRAVRKRGGFLVIVVGKKLIVLKRRLILGGRGRRGGKIGGR',\n",
       " 'IGIKKIVKKIKALGKGVRGGIKGVIKLIKLKILKKCKIKKLGFVKLGI',\n",
       " 'FRKIGIFRIRRKRARGIRGGKKIRRIRGAALGGAVKGLGAKRKFVIIRFR',\n",
       " 'IKKKGKLVGFARGKVIRVKGGGLAGKKKKKKGLKRIIKGLGLGLLGIKLL',\n",
       " 'KGGRRRKARKKGGKKCGCGALRIGGLKIGKAAGAKGLKARIKIIFIRKII',\n",
       " 'LGLRIVKGRRKFAKKVLIGCLGAGKKRRAVGRGAGIARIIGKIGGRRVA',\n",
       " 'RGGAKLIGIGVGVGFLRKGGLAGGAVGRRKGVLKKRVKGIVKVFKVLLK',\n",
       " 'KIKIFKRKRGRIGGRKVVVKRLRCGVIKKKKGRGVGKGGGKAVIRVKAI',\n",
       " 'VKKGAKVLGGGGGIGVVGKFLLVRKVGLKGKKKKRGLGGGKVGKRKGV',\n",
       " 'AIAKIRIKKRGGKLVKKIGVILVVVLGGGGLIRIVGRVRIFIAFKRKRK',\n",
       " 'KKLGKVKLGKLKKLKVIIGFKKRGRKLVGKGRLLGLGAAFLKGRKGAKIA',\n",
       " 'KRRLVVAKKKFKRRLLGGKVIRRGRGRKLAKGRFLVAARRGKKRRRRL',\n",
       " 'VVIIIIFAGIKGRLFKFAGLLKGLVRVRGLLRVLLVAKCGKGGGLIGRRK',\n",
       " 'GGRIRKRKRKRIVGVKRGRGKFRKRAVGVKRKRGKRGGGRIRRGKGRVKR',\n",
       " 'RGGLIKRGRRAGKGGKGKRKVKKKRIGKFKAKIGVRRKKCIKLLGRLKIG',\n",
       " 'GVRKIFGLGKLILRVKIALRGLKGFLGVGAILKRGRGKKKKGIRLVRKGI',\n",
       " 'RVGRGGRVVFIIGLICLVAGGFKRGKKKRRRGVIVLGVIVLVALGIIFGK',\n",
       " 'RVGVGGKGRFGKILGKIAKRGKRGVKGGKKVGGVFLGKRKKGALILLKVF',\n",
       " 'VRLGKRLRFRALGVFGCFVIGKKLGFVIVGLGRKRLLLIGFRILIGLKKL',\n",
       " 'GVLLRIKGIRRLIIGGRLKAVVRLGKRVVILKIKFKGKKKKIRKARVKG',\n",
       " 'VFLKLGIVKAGLLLGKKKVIKRRRLLFVIGKLGRGVLVGIGIIALKGVV',\n",
       " 'GAKARAGGGKKVKGAILGRGVRIKGIKKKGRLAGVVIRAKGVGKIVKIGV',\n",
       " 'LIALGRRIAIILKLVLGKVLAGLKKKRKFGLKKGIIKIGIGAKRAFGLL',\n",
       " 'IARIIFGKGKRRAKLIKLIKKRRLGKGILRIRGKRRGVGRALRRFIAVKG',\n",
       " 'RILLKKIGRGKIGARIAKLLGGRIRLGRLGKGVVRILGGALGIGIRLVKV',\n",
       " 'IVLGKIIRLKKRILKLRKLGIKGRIVKGGGKKFRILFVAAGGKLKKRKVG',\n",
       " 'VIKGLKKKIGGVKVGARRILKRRGAGGARKALACAKRCRRKKLGFFKRG',\n",
       " 'VVVRLGKLKGGVIIGVGGVIILGRFIKGGIKRLRKIGVRGLGLCKGLRRK',\n",
       " 'ILKAIIGLIIIGGRARFGGVKKRIGCLKALKKIKVRFGKLILGRLRGLI',\n",
       " 'IIVLKALGRKAIRAFKLGKLLFLRIKKKVGKVVKIGGGILIGGIKLGRKL',\n",
       " 'KRRLKGIRKGGLKGIRRKGGGIGRKGCKAKKARIGGKLRRFGRAKKKGR',\n",
       " 'IVIKIVKILIIFGIGGKVILGGRARRLIKGLLLKKGKGKLGCFRVIVGKG',\n",
       " 'ALIIVAKKRGGGIGKRLVIRKVRGVIAKKGGVFRGIGIRVAVLVRGGFLK',\n",
       " 'KFAGLVRRRVFKGGRIAGCKIRRGGRRGGKKLKLALKGGGLCKKGGGKK',\n",
       " 'VKRIRRRGIRVKGRGKLKGGLRRKVIILKIAKKVILAGKGLLIVGKLL',\n",
       " 'KKKIFGKRGGARGGRGLLGGLLKRRGIRVLVKGRAIIGIAAVIIRRKRK',\n",
       " 'AFRRRGLLGFKGRLVKKKARIGKLKGARGIIAVLRVKRIVKRKRGLKGGK',\n",
       " 'IIGLGCRKIAGVIGGKRKGGKKLKRFVKGLCLLRGKRKGIVKGGGIRKV',\n",
       " 'GGRKCGLKARKKKIFGGIKILIKVGGVGARGIKIVGRAGGGKGGLLKIRR',\n",
       " 'LRRRGRGIRVIKRFKGGGVKGGKRFKRRILRIKKLCAKIKGKGVVVIGRV',\n",
       " 'VFIAKIAGGRRGCLGLIKIGKAILKAVGVAIKIGLRKKGIGKAVRRKKGK',\n",
       " 'IGLVKVKARKGRIVGGRKKLLKGRLFRKLKVLGRRKAVGGLGILKAGGR',\n",
       " 'IILIIILLKGRFIKAGKRFKLKRVIGGRKVLKRRGLIFGAGRRGLVGKGV',\n",
       " 'GARLRRIRGGGGIKLKGKRGAVRAGKLRFGFIGKVAGVVRVKLGIGVAFK',\n",
       " 'KAKGGRKFFAIGIGGGGGGRRKRKIKAKALGVGGGFKGKRILAAGKRVKA',\n",
       " 'KGRGIGLKRFKGVRFKRKKGRLLKLVGGRLRRRKLVAKKKLKRKGILV',\n",
       " 'RGGIGGLKIVFGGGRGKFCGGKRGGRRFKGLAILLVLRGGKVFFKRRGK',\n",
       " 'GGVIGKGKKIGFVGFGIIRRGRGRLVVLGKLRKKGRGLVVIGRGIVVVGF',\n",
       " 'LARRAIGGKLGRGLRGRRGGLIVGVLVGRIRGGGVGVRIKKGKKLIGGKL',\n",
       " 'VVAFGLRKAGGKKGRKGLRAKGIGKAGKVGGGLRKKVGVIVGGLRAGKG',\n",
       " 'GRKKRGLVKALGLVKKIGIVVAKKFALGRGKGGLVGFKRGIKKRGARIV',\n",
       " 'KGGRRKAVIGGKARGRKRVKFFGVIKRGGRKLGVKKLGKGIKIKRIGVLK',\n",
       " 'GLGAVAKGAGKVGLKGKRRRFVGKKRGGIKFLLLRRRKLLRIAVIGRCGR',\n",
       " 'RLLGVGGARARIVGRFRGLGGLVGGALILALVIAGCVGFLKRVKILRVKA',\n",
       " 'KFLGLRIILRLLGAVGIGIVILGGGCGLVGKIRKIGVRRKFFKFAKRFK',\n",
       " 'RIVLAKGFGLGGLAIGFGLKRKLIKKLGRGKLGAAIILGVIKGIGKVIVG',\n",
       " 'RGKGFFILRKKGVRKGRGVVVRRIVFRIGRGVRGVLGKCKRGIKGRGGRK',\n",
       " 'RRIKRKAAVRKAIGGFLIVIGRRFRIRVKVLIGVLGGFGLLVILKGGRKL',\n",
       " 'GGGVKKLIILKKIGRLGAKKLLGGGKVKKVVAGGKKKVVRKVILRGK',\n",
       " 'RGARIKIRIIVGRGGGLLVGRKFRVIRAKKLKLLGKGVKKAKLLVCLRG',\n",
       " 'KLAGIRLGCGRAGIGAVGIRGKGGLVGFGKGKAVIGKIFKVFIKKLGLI',\n",
       " 'GRGRGLLGGIGIGLKVVKKIRLGVKKKRIAKGKLKKARGAGVIRGVKI',\n",
       " 'IIKVKRRVGLICIGILKVIGLKLKVLRAARRFLRKKGVIRRRVGKVLRK',\n",
       " 'AGLIKLAKKRRRKAVGKRIKGGLFGRKIIKALLKKKIIKALGIAFVLR',\n",
       " 'GVRRKRRKGGLLARGKGVKAGIKRLLILGIRGLLLICKLARKKLGKIGLV',\n",
       " 'GRGAAKLALAFIKAKKVGFCKIIAGVGRVRLGGFKRIIVRKGRLKIVIAK',\n",
       " 'KVCAGKRRKRKVKGGGIILKAGVGGLGLRKGGGRKGIRAIRGKLLRKRRK',\n",
       " 'LAILRGGCFLKFVGAIKVRGRGVVLVIKKFAAGIKKRLCFVRGKRLK',\n",
       " 'IKAKLRLCGGKGIVLCGRRRGGLGKGGVGGRGKKRKILIIRGLRLFLVGV',\n",
       " 'RAGIRRGAIALFLKGKGLGKARGGKGVKIKLKRKKRRGRKIGVVKGGKLL',\n",
       " 'KGKVRVKVKRFRILRAGGAVKFAVGKGGKKKLAGIGRGGLRVVRILIRVK',\n",
       " 'GRIKIKAGFRARKFGGKLAIRKGIFKAILKGIKLGGRAKGGKGGGAKKGV',\n",
       " 'IRVVGVGFGGVFRCLKRKFVLRKLVAGLLLLIVVARGRLKGIGKKGGGKA',\n",
       " 'RGVRRAARIGGGRGKGGRKVVVRGFGGIKRGLKKFGGIGFKAAFKRGKL',\n",
       " 'GKVLIKKLGAIKAIVGRKRGCGRKGKRLGKGRIACGIKKGLIKGLGKGK',\n",
       " 'GLGGCAFLLKRVRRAILFKGFKGLALGGALLIILRACKGGILFIIIGK',\n",
       " 'GGKVLGGKGVAKVVVKGLKGKIIIVIIKLKGLLLKLGKKVGGIIRKKIAV',\n",
       " 'IIVIVGARKGLKAKFKKAKKKGAVAKKKKKLLKLRVKKKGVGLLLARGA',\n",
       " 'AGLRGKVGRGLKKRGKLAGKAKAAKLFIRVKKRGAKVLGGGRKGVKAKKC',\n",
       " 'KGVGLKRVVKGVVAGKKKKGKLIKARLKIKGVKLALKGRGLGLRRRIAVK',\n",
       " 'KRRKKKLRRGVKLGGKGVKRIIKLRCFGKVLRIIVGKGGRLGGRRILGVG',\n",
       " 'LVLIGGILGLRKCIRGKIGLGRKLRFRGLAGKKKGLLRGAVKRKIVKIGG',\n",
       " 'LRRGKLKGVGVGIIIVFLKKAKIRLRKRGRIKRLGRKKKIRIRKGLIAFK',\n",
       " 'LGKIRVAAVIGGGAGRRKRVAIVGKGGKFVLAKGRGIKFLVVIKRIRG',\n",
       " 'GGAGVIVGKKGLLLKRRILGFGVKARRGGFAALKVLAKGKRKGKRKGVG',\n",
       " 'RLGGIVRLGCRLIGKGKGLIIIIGKIVAGVKKGGKGAGRGVKKGIIKGG',\n",
       " 'KGVIVKAKILFGIKIILFIKAKAVLILRLRRGRGIKKFILKRKGGRGVIK',\n",
       " 'GGIGGRRAKKGLRKIRGIVRRFKRLVKFGRKVKLLKFGRGKGRLLVGKGR',\n",
       " 'LLKVKGLARCGKALAGKIGGIIARGKKRVKVGLGVKIKKLKGIIKIRKGV',\n",
       " 'LKIGLGIKGGKRVKGGLGIIGGGGIARGVGGGRGKGGRAGGRGVLIGIFK',\n",
       " 'AKGGGRLGLIKLLKLAIIVLRKFICKLRALKKRKKIGVKLGFGIKIIIFG',\n",
       " 'GLKVKLRIGIRGIVAVIGKRILVCLKKIGKIRLKKGKGKGKGKIGKIRKK',\n",
       " 'RKKRLKKGFGKGILGRARGKLLKGGGGGKGKGVAKLVAKAKKRGRGGIR',\n",
       " 'LAIGAVKGRKLKARVVRAKGGGGKKIRIKGLVRVGRAAVKKVKIRLVAV',\n",
       " 'GGRRLGGIFRAAKIGGGRGFGALKKGVKLKLKVLGIKKKRILIIKGFKRI',\n",
       " 'RLKKGRGRLCKALGKKRRRGAGAAAVVVGLIRVFRIFRIAGVRRKIVLL',\n",
       " 'VLLRKGGVIRKIFLLAGRLLGGARALLRRAIVARFGGLVLLRRKGGKRVL',\n",
       " 'RFIVKVKKLIVALGGRLRKFGIRRIKKIAGKKGKGRIKRVVIKIKIGRK',\n",
       " 'VGFRAKVGKKLRFGKRLKLRGRKKVRKLIAVLAGFRKVGRFLLLGIRAI',\n",
       " 'RIIGCVVLGKKLLKLGVLLRLFGRGVVKAGIRIGVRLGRLVFIGKGIKGG',\n",
       " 'KRIGGRIGKRKVLLRKGIRKGRGLGGGIVGGVIIAIALGLGKRVLKRKVR',\n",
       " 'VKVGKGGKARIGAGGIGIFIVKGGIGACLGIIARGKLGIKKVLGKKLGGV',\n",
       " 'GGAKVVKIIGVLLVKAVGRKGKVKKIKKVGRRGLVLLLLGRIIVGVGGIG',\n",
       " 'KRIGRAVGLGRGGGARKRLVGKALGVKGIIFAKKFARKGFGGRAGRGVKK',\n",
       " 'VLRKVGVCLRKVLIIFGCIIGKRKGKLLAIRAKRIRLGGKGRGGVGRGKR',\n",
       " 'ILIVGGVAKKGGGVKVKIRGGGLVKGKGCGKVVLGVFIKGIIKLLKKVVA',\n",
       " ...]"
      ]
     },
     "execution_count": 214,
     "metadata": {},
     "output_type": "execute_result"
    }
   ],
   "source": [
    "de_novo_sequences = []\n",
    "for i in range(batch_size):\n",
    "  max_indices = tf.argmax(generated_sequence_tensor[i], axis=-1).numpy().astype(np.int32)\n",
    "  max_indices\n",
    "  aa_strings = vectorize_aa.get_vocabulary()\n",
    "  de_novo_sequences.append(\"\".join(np.ndarray.tolist(np.array(aa_strings)[max_indices])).upper())\n",
    "\n",
    "de_novo_sequences"
   ]
  },
  {
   "cell_type": "code",
   "execution_count": 187,
   "metadata": {},
   "outputs": [],
   "source": [
    "sample_seqs = ['YGYQ[UNK]ED[UNK]DYEQE[UNK]EEYYWYYYEYQEYEEHEEEE[UNK][UNK]YEYYYYEEDYE[UNK]DY',\n",
    " 'YYEQYEYQYD[UNK]YEQYHD[UNK]YEEEEDEDQ[UNK]YYENEDE[UNK]EEDDEEYQEEDQYY',\n",
    " 'EQQEEDQDEEYEEEEDYEEQEEEDYEYEYYEEQN[UNK]EDEDNYYYDEEYE[UNK]E',\n",
    " 'DYYEEE[UNK]QEYQYYDDEEEYEEEE[UNK]YEYDQDEDTEYEDYYQYEEEEYYQDY',\n",
    " 'WE[UNK][UNK]Q[UNK]QEEYYNY[UNK]YEEDEDEYGTQ[UNK]EEDYEEEYYEDYDDYY[UNK]D[UNK]YEEED',\n",
    " 'PRYEDQ[UNK]EYQ[UNK]Y[UNK]EEYDEEE[UNK]EEYEEDYEEYEEEDEE[UNK]EEHEEEY[UNK]EDEE',\n",
    " 'D[UNK]EYEYQE[UNK]YEQ[UNK][UNK]DYEQEDYE[UNK]YEYEEEEDEY[UNK]Q[UNK]EQ[UNK]YEYQQYEYEY[UNK]',\n",
    " 'EQQEHYD[UNK]YYEEEE[UNK]YDEED[UNK]YYYYDEDEYD[UNK][UNK][UNK]E[UNK]YEDDY[UNK]YEEEEEYE',\n",
    " 'DE[UNK]QYQEEEEDY[UNK]Y[UNK]HEEDYEDYEEQED[UNK]D[UNK]YYEQWD[UNK]EYYEEY[UNK]EDEE[UNK]',\n",
    " 'PYQYEYEED[UNK]EEEEEYDYEYEYEEEYDEQQ[UNK]EQ[UNK]PPDEEEEYQEDENYYE',\n",
    " '[UNK]ENEYDQDEYQD[UNK]Y[UNK]D[UNK]YY[UNK]EYEWEEEY[UNK]YYYQDQ[UNK]EDEDE[UNK]EYEEY[UNK]YD',\n",
    " '[UNK]PEYYEEYEEHEEDEE[UNK]EDQEEQDEEEEYNYQEDQ[UNK]DPDDQYYQE[UNK]QW[UNK]E',\n",
    " 'HPDQYEEYYDQEYYYYEDYQ[UNK]EYEEDEY[UNK]YYDEEYEYYYYDDEEEEYEEE',\n",
    " 'WDQEQE[UNK]EEEEEYEQEYYEEEEEYEEY[UNK]YYEYDPQDY[UNK]EQYY[UNK]EDQNWYE',\n",
    " '[UNK][UNK]Y[UNK]Y[UNK]E[UNK]YEEYEEDEEQEEYYYEYYEEYQWQEYE[UNK]YYEEEYEE[UNK]EEY[UNK]Y',\n",
    " 'EYYEYYYEDEYQYYDYYY[UNK]DDEE[UNK]PY[UNK]E[UNK]DYWDEYDYE[UNK]HYEW[UNK]EYEDYE',\n",
    " 'TQQEEEEEEEYEEYDQYYQYD[UNK]E[UNK]YEQY[UNK]YWEQEEDHEYY[UNK]YDYYYPD[UNK]Q',\n",
    " 'WWEED[UNK]E[UNK]EYE[UNK][UNK]YDD[UNK]QEYYNYEENYD[UNK]YEEQ[UNK][UNK]QY[UNK]EEE[UNK]EEENYWNE',\n",
    " 'DEYEEEYYDEENEYDEEPEDYEYYED[UNK]YQDYDYEYEEQDDEYEYEQYEEE',\n",
    " 'QEYDENQEYEDEEQDYEYQEYYYEYE[UNK]QEEDD[UNK]EEEYEYYE[UNK]YG[UNK][UNK]EEEE',\n",
    " '[UNK]EDYEY[UNK]E[UNK]EEEQE[UNK]YY[UNK]D[UNK]EEEDDYD[UNK]Q[UNK]EE[UNK]YDEEQEEQYEDDY[UNK]EEY',\n",
    " '[UNK]EEDYEQYE[UNK]PYEYEEHEEYEYQ[UNK]EYE[UNK]EEYE[UNK]YYEEDYEYYEQDYEEQE',\n",
    " '[UNK]HNEEDE[UNK]WEEEYDEY[UNK]HEDEEDEWEEEYDE[UNK]EYEYEYEYE[UNK][UNK]EYYEYEY',\n",
    " 'EEEDYEYDYQYYYEEYEYDEYEQEQ[UNK]YY[UNK]EYEDE[UNK]YEDEEEQDPEYE[UNK]EQ',\n",
    " 'WPHYEDEWYYYDDYD[UNK]YQEEY[UNK]YQYEYEDEEEEHEE[UNK]QEYEEEEYDYEEE',\n",
    " 'DQDEYYWEEEWYD[UNK]EYYPYDEEDHEEEEY[UNK]QEYEEYEYEYEQEDYQYEEE',\n",
    " 'WEEEPEEY[UNK]EEYWNDQEYYEDEYEYEYDEYEDEYEYYYYYE[UNK]EEEQEEEQ',\n",
    " '[UNK]PEYPYDDDEEEDE[UNK]YDDYY[UNK][UNK]QDDDYY[UNK]QYQYQEEQ[UNK]YE[UNK]YYQDEYWYD',\n",
    " 'DEEYYYEDEEPYDYYYEYHYQYENDQDE[UNK]E[UNK]E[UNK][UNK]YEE[UNK]Q[UNK]EDYEEEEEYD',\n",
    " '[UNK][UNK]DNY[UNK]EEYYEYWYQEDEP[UNK]YDEYYD[UNK]EYYY[UNK]EDNEDQ[UNK]EYEYQED[UNK]QYE',\n",
    " 'YDEYEYYY[UNK]EEQDYY[UNK][UNK]NEYEEYYQEEEEYYE[UNK]EE[UNK]EEY[UNK]EYEQYEYYEE',\n",
    " 'NYEQH[UNK]YEYYEEPQEDQEWD[UNK]QEE[UNK]EYDEEDEYYWEHEYPEDYD[UNK]DDEY[UNK]',\n",
    " 'EEEEYNEEEYE[UNK]DEEYEEYYNPYY[UNK]DYQQDEEQEDYNYQDD[UNK]NE[UNK]EEEYE',\n",
    " 'WE[UNK]QYPYQYYEYYYEYEEYDEDQ[UNK]EEEQEEQNEYEDEEEYEEE[UNK][UNK]YEE[UNK]Y',\n",
    " 'DYYEYEYQYEYYEEYEEYYYEPEE[UNK]EDDY[UNK]EDDY[UNK]EEDEYD[UNK]Q[UNK]DDE[UNK]PE',\n",
    " 'CNYEEYDEEQD[UNK]YH[UNK]YEYYWDLYWEEYYY[UNK]EQDEYYEENYE[UNK]YEEYEEEE',\n",
    " 'E[UNK]EEYDQ[UNK]QYYE[UNK]EEYQDYYQEYEEYYEDQDQEDEQQEEYYEQQEEQE[UNK]H',\n",
    " 'EEEEHED[UNK]YEDYYY[UNK]E[UNK][UNK]YQ[UNK]EE[UNK]Y[UNK]QQYE[UNK]EEDEDE[UNK]QEEQEEYQPYYE',\n",
    " 'EYDDNEWYENY[UNK]EEYWEDEQYQY[UNK]QYNEDE[UNK]YEQEEYEEE[UNK]Y[UNK]HEEE[UNK]EY',\n",
    " 'QEYEQE[UNK]QYEQEEQDEEEEDEYEDEQYE[UNK]EYQYED[UNK]QYEYY[UNK]EEE[UNK]D[UNK]EY',\n",
    " 'WDDEQE[UNK]EYYDY[UNK]Y[UNK]EEEEDEEE[UNK]YQEYNDEY[UNK]DYEDEEYYEEQEN[UNK]DYD',\n",
    " 'WDEYNEQDYY[UNK]EEDEYYEEYEEEE[UNK]QDE[UNK]Y[UNK]D[UNK]EEEEYE[UNK]EDEYEEEEEE',\n",
    " 'QED[UNK]YEY[UNK]YYDEYYEDDYEEQE[UNK]YEYYEEDEEHWEYEDY[UNK]DYEYH[UNK]EQEE',\n",
    " 'QEEEE[UNK]YEDEE[UNK]YEYYYQYEEEEEEDYDE[UNK]YE[UNK]YQPEYDEEEYWDEDYEE',\n",
    " 'YHEEYQEEQD[UNK]EYYEEEEYYE[UNK]EYEEDYYDWYEEYNEEY[UNK]NYDEEEEPED',\n",
    " 'WYCDE[UNK]EYYEEEEYDEYYYEEEYEE[UNK]EEE[UNK]QDDEEYEQ[UNK]EEEEED[UNK]YYED',\n",
    " 'W[UNK]YYYDDYYDYE[UNK]DDQYHYDYYYEE[UNK]YYEWDDEE[UNK]E[UNK]EEEYEEYEEYDET',\n",
    " 'WWQEEEEEE[UNK]QY[UNK]DYQEEEDDYYEDEDEQEEYYEYEEYDEYQDYQ[UNK]EEEW',\n",
    " 'KE[UNK]Y[UNK]EDYEEYDDEEY[UNK]DEYEEEYEYDQEEYE[UNK][UNK]DY[UNK]DDQ[UNK]QEDNDYYEE',\n",
    " 'EEHYQEEEQEEYE[UNK]EEDYDQEEE[UNK]YEEYYEDY[UNK]Q[UNK]EEEQDE[UNK]DDEEYYEE']"
   ]
  },
  {
   "cell_type": "code",
   "execution_count": 215,
   "metadata": {},
   "outputs": [
    {
     "name": "stdout",
     "output_type": "stream",
     "text": [
      "{'G': 0.225, 'L': 0.119, 'V': 0.095, 'K': 0.194, 'R': 0.14, 'F': 0.035, 'I': 0.117, 'A': 0.065, 'C': 0.011}\n"
     ]
    }
   ],
   "source": [
    "def aa_composition(sequences):\n",
    "  # Initialize an empty dictionary to store the counts of each letter\n",
    "  letter_counts = {}\n",
    "  \n",
    "  # Initialize a variable to store the total number of letters\n",
    "  total_letters = 0\n",
    "  \n",
    "  # Iterate through the sequences\n",
    "  for sequence in sequences:\n",
    "    # Iterate through each letter in the sequence\n",
    "    for letter in sequence:\n",
    "      # If the letter is not in the dictionary yet, add it and set its count to 1\n",
    "      if letter not in letter_counts:\n",
    "        letter_counts[letter] = 1\n",
    "      # If the letter is already in the dictionary, increment its count by 1\n",
    "      else:\n",
    "        letter_counts[letter] += 1\n",
    "      # Increment the total number of letters by 1\n",
    "      total_letters += 1\n",
    "  \n",
    "  # Initialize an empty dictionary to store the letter frequencies\n",
    "  letter_frequencies = {}\n",
    "  \n",
    "  # Iterate through the letter counts\n",
    "  for letter, count in letter_counts.items():\n",
    "    # Calculate the frequency of the letter by dividing its count by the total number of letters\n",
    "    frequency = round(count / total_letters, 3) \n",
    "    # Add the letter and its frequency to the dictionary\n",
    "    letter_frequencies[letter] = frequency\n",
    "  \n",
    "  # Return the dictionary of letter frequencies\n",
    "  return letter_frequencies\n",
    "\n",
    "sequences = [\"ABC\", \"CDE\"]\n",
    "letter_frequencies = aa_composition(de_novo_sequences)\n",
    "print(f\"{letter_frequencies}\")  # Outputs: {\"A\": .167, \"B\": .167, \"C\": .333, \"D\": .167, \"E\": .167}\n"
   ]
  },
  {
   "cell_type": "markdown",
   "metadata": {},
   "source": [
    " ### Lessons - de novo sequence analysis"
   ]
  },
  {
   "cell_type": "code",
   "execution_count": null,
   "metadata": {},
   "outputs": [],
   "source": [
    "# WHEN SAMPLING at z_mean=0, z_log_var=1\n",
    "dc1={'E': 0.249, 'D': 0.089, '[': 0.077, 'U': 0.077, 'N': 0.092, 'K': 0.077, ']': 0.077, \n",
    "     'Y': 0.169, 'Q': 0.065, 'H': 0.007, 'S': 0.001, 'P': 0.012, 'W': 0.008, 'C': 0.0, \n",
    "     'L': 0.0, 'F': 0.001, 'T': 0.001, 'A': 0.0, 'R': 0.0, 'I': 0.0, 'G': 0.0, 'V': 0.0}\n",
    "\n",
    "# WHEN SAMPLING at z_mean=0, z_log_var=40.0\n",
    "dc2={'G': 0.225, 'L': 0.119, 'V': 0.095, 'K': 0.194, 'R': 0.14, 'F': 0.035, 'I': 0.117, 'A': 0.065, 'C': 0.011}"
   ]
  },
  {
   "cell_type": "markdown",
   "metadata": {},
   "source": [
    "The peptides generated (e.g.) in dc2 are long; generally quite close to 50. This may suggest that the model has learned that long peptides are optimal? "
   ]
  },
  {
   "cell_type": "markdown",
   "metadata": {
    "id": "rjDjImd04smd"
   },
   "source": [
    "when sampling np.random.normal at mean=0, var=1, Overwhelmingly composed of Q, Y, E, and D.\n",
    "\n",
    "*   Q -  Glutamine; mildly hydrophilic, -10\n",
    "* Y - Tyrosine; hydrophobic, 50\n",
    "* E - Glutamic acid; 2nd/3rd hydrophilic; -31\n",
    "* D - Aspartic acid; most hydrophilic; -55\n",
    "\n"
   ]
  },
  {
   "cell_type": "markdown",
   "metadata": {},
   "source": [
    "\n",
    "\n",
    "\n",
    "Outputs: AMP Probability as predicted by [CAMP R3](http://www.camp3.bicnirrh.res.in/predict/):\n",
    "\n",
    "Format: \n",
    ">Description \\\n",
    "> Sequence , SVM score, RFC score, ANN score, Discriminant Analysis Score\n",
    "\n",
    "WHEN SAMPLING at z_mean=0, z_log_var=40.0, the following 4 proposed AMPs are generated.\n",
    ">sp | DE NOVO (AMP)\n",
    "GGLVGKGLLKKVLGLKRGVGRRFIRAAKGGKKKVKGVVKKKIKIRVCKKK, .998, .977, YES, 1.0\n",
    "\n",
    ">sp | DE NOVO (AMP)\n",
    "IRIRKKLRGVGKVVKKLGIFGGGRLILKKIKGLIKRGGIGRRCKRKIVR, .984, .9395, YES, 1.0\n",
    "\n",
    ">sp | DE NOVO (AMP)\n",
    "RKGRRKKGVLGKGGLRGGRKKLLKKGLFGILVRRVRIGKRKKRRKLKRIK, .999, .9015, YES, .999\n",
    "\n",
    ">sp | DE NOVO (AMP)\n",
    "FRIRRGILRKKVIVLALKRRRKRKGAKGKALKKKGRGRGIKKGGKGKLRK, .995, .9105, YES, .996\n",
    "\n",
    ">sp | Human tumor peptide (taken from https://www.cancerresearch.org/peptide-database)\n",
    "EEKLIVVLF, 0, .462, NO, .522\n",
    "\n",
    ">sp | Human tumor peptide\n",
    "SELFRSGLDSY, .099, .067, NO, .001\n",
    "\n",
    ">sp | Human tumor peptide\n",
    "FRSGLDSYV, .031, .167, NO, .001\n",
    "\n",
    ">A0A5C2FVA3 UPTr tr|A0A5C2FVA3|A0A5C2FVA3_HUMAN IGL c96_light_IGLV2-14_IGLJ1 (Fragment) OS=Homo sapiens OX=9606 PE=2 SV=1 (AMP?)\n",
    "QSALTQPASVSGSLGQSLAISCTGTSSDVGGYNYVSWYQQHPGRAPKLLIYQVTHRPSGISNRFSGSKSGNTASLTISGLQAEDEADYYCCSYTGTTTRYVFGSGTKVTVL, 1.000, .6005, AMP, 1.000\n",
    "\n",
    ">sp|Q15GM1|NU4LM_PILBA NADH-ubiquinone oxidoreductase chain 4L OS=Piliocolobus badius OX=164648 GN=MT-ND4L PE=3 SV=1\n",
    "MPIIYMNITLAFIISLLGMLVYRSHLMSSLLCLEGMMLSLFMMSTLMALNMHFPLANIMPIALLVFAACEAAVGLALLVSISNMYGLDHIHNLNLLQC, .975, .8495, NO, .003\n",
    "\n",
    ">sp|Q7YJT2|NU4LC_CALFG NAD(P)H-quinone oxidoreductase subunit 4L, chloroplastic OS=Calycanthus floridus var. glaucus OX=212734 GN=ndhE PE=3 SV=1\n",
    "MMTEYVLILSAYLFSIGIYGLITSRNMVRALMCLELILNAVNMNLVTFSDLFDSRQLKGDIFSIFVIAIAAAEAAIGPAIVSSIHRNRKSTRINQSNLLNK, .989, .8965, NO, .965\n",
    "\n",
    ">AP00353 (AMP)\n",
    "GLFDIIKKVASVIGGL, .965, .999, AMP, .993\n",
    "\n",
    "\n",
    "\n",
    "\n",
    ">AP00408 (AMP)\n",
    "FLFPLITSFLSKVL, .943, .961, AMP, .939\n",
    "\n",
    ">AP00420 (AMP)\n",
    "HSSGYTRPLRKPSRPIFIRPIGCDVCYGIPSSTARLCCFRYGDCCHL, .826, .795, AMP, .789\n",
    "\n",
    ">AP00421 (AMP)\n",
    "YSSGYTRPLPKPSRPIFIRPIGCDVCYGIPSSTARLCCFRYGDCCHR, .857, .738, AMP, .804\n",
    "\n",
    ">AP00438 (AMP)\n",
    "GFGCPNNYQCHRHCKSIPGRCGGYCGGWHRLPCTCYRCG, .989, .978, AMP, 1.0\n",
    "\n",
    "\n",
    "The following 3 peptides from Uniprot are to control for the length variable, just in case that ~50 region is always a sweet spot for AMPs (which we know it really isn't).\n",
    ">sp|E0CX11|STMP1_HUMAN Short transmembrane mitochondrial protein 1 OS=Homo sapiens OX=9606 GN=STMP1 PE=1 SV=1 --47 AA--\n",
    "MLQFLLGFTLGNVVGMYLAQNYDIPNLAKKLEEIKKDLDAKKKPPSA, .065, .0235, NO, .014\n",
    "\n",
    ">sp|Q99380|OST4_YEAST Dolichyl-diphosphooligosaccharide--protein glycosyltransferase subunit OST4 OS=Saccharomyces cerevisiae (strain ATCC 204508 / S288c) OX=559292 GN=OST4 PE=1 SV=1 --36 aa--\n",
    "MISDEQLNSLAITFGIVMMTLIVIYHAVDSTMSPKN, .005, .0005, NO, .001\n",
    "\n",
    ">sp|P56976|BLR_ECOLI Divisome-associated membrane protein Blr OS=Escherichia coli (strain K12) OX=83333 GN=blr PE=1 SV=1  --41 aa-\n",
    "MNRLIELTGWIVLVVSVILLGVASHIDNYQPPEQSASVQHK, .019, .0055, NO, .002 \\\n",
    "\\\n",
    "The de novo sequences perform excellently, even against known AMPs!!!!!!!!!!"
   ]
  },
  {
   "cell_type": "markdown",
   "metadata": {},
   "source": [
    "Need to verify that de novo sequences are, in fact, de novo. \\\n",
    "Search through peptide databases:\\\n",
    "\\\n",
    "--> The first 5 are passed into [Uniprot BLAST](https://www.uniprot.org/blast), using UniProtKB Reference Proteomes + Swiss-Prot & otherwise default search parameters\\\n",
    "'GGLVGKGLLKKVLGLKRGVGRRFIRAAKGGKKKVKGVVKKKIKIRVCKKK', 64%\\\n",
    " 'IRIRKKLRGVGKVVKKLGIFGGGRLILKKIKGLIKRGGIGRRCKRKIVR',55% (the match is 1407 aa's long!)\\\n",
    " 'RKGRRKKGVLGKGGLRGGRKKLLKKGLFGILVRRVRIGKRKKRRKLKRIK',48%, (match is 768 aa's long)\\\n",
    " 'FRIRRGILRKKVIVLALKRRRKRKGAKGKALKKKGRGRGIKKGGKGKLRK', 70%\\\n",
    " 'LARLVGKIKGLGLRKRKGKGRKVLKKIGGLKRLIIIIRRARFIKAKCFLL', 50%\\\n",
    "ALL of which return 0 close matches. The strongest matches are always hundreds of aa's long, and the match region isn't contiguous. \n"
   ]
  },
  {
   "cell_type": "markdown",
   "metadata": {},
   "source": [
    "Even at a naive start, de novo sequences generally outperform observed AMPs AND are in fact novel sequences. "
   ]
  },
  {
   "cell_type": "code",
   "execution_count": null,
   "metadata": {
    "id": "6wrBW8tisEHR"
   },
   "outputs": [],
   "source": [
    "for i in range(50):\n",
    "    print(sample_output[0][sequence_idx][i]) ## which feature xx which sequence xx which residue xx which aa is it"
   ]
  },
  {
   "cell_type": "code",
   "execution_count": null,
   "metadata": {
    "id": "c4hbdwVRMbKx"
   },
   "outputs": [],
   "source": [
    "tuner.results_summary(1)"
   ]
  },
  {
   "cell_type": "code",
   "execution_count": null,
   "metadata": {
    "colab": {
     "base_uri": "https://localhost:8080/",
     "height": 265
    },
    "collapsed": true,
    "id": "7naFFNfD1cVD",
    "outputId": "f48a49df-5efd-482f-ddf3-da6d01bda618"
   },
   "outputs": [
    {
     "data": {
      "image/png": "[encoded data removed]",
      "text/plain": [
       "<Figure size 432x288 with 1 Axes>"
      ]
     },
     "metadata": {
      "needs_background": "light"
     },
     "output_type": "display_data"
    }
   ],
   "source": [
    "sequence_idx = 0\n",
    "aa_idx = 3\n",
    "# test_seq = sample_output[0][sequence_idx][aa_idx]\n",
    "test_seq = generated_sequence_tensor[sequence_idx][aa_idx]\n",
    "# plt.bar(range(21), tf.math.round(test_seq.numpy()))\n",
    "plt.bar(range(21), test_seq.numpy())\n",
    "plt.show()"
   ]
  },
  {
   "cell_type": "markdown",
   "metadata": {},
   "source": [
    "## Latent Code Perturbation (Analysis 3): "
   ]
  },
  {
   "cell_type": "markdown",
   "metadata": {},
   "source": [
    ">Among the 20 AI-designed AMP candidates, two sequences, YLRLIRYMAKMI-CONH2 (YI12, 12 amino acids) and FPLTWLKWWKWKK-CONH2 (FK13, 13 amino acids), were identified to be the best with the lowest MIC values (Table 1 and Supplementary Table 7) (das et al., 2021).\\\n",
    "They also claim low in vitro toxicity and in vivo against mice. \n"
   ]
  },
  {
   "cell_type": "markdown",
   "metadata": {},
   "source": [
    "Feed in these sequences, perturb their latent codes, and follow the analysis procedure as outlined in \"MODEL ANALYSES\" in Notability."
   ]
  },
  {
   "cell_type": "markdown",
   "metadata": {},
   "source": [
    "## Model Parameter Analysis (Analysis 4)"
   ]
  },
  {
   "cell_type": "markdown",
   "metadata": {},
   "source": [
    "### Encoding LSTM weight matrices"
   ]
  },
  {
   "cell_type": "code",
   "execution_count": null,
   "metadata": {},
   "outputs": [],
   "source": [
    "model_tuned.layers[4]"
   ]
  },
  {
   "cell_type": "code",
   "execution_count": 16,
   "metadata": {},
   "outputs": [],
   "source": [
    "encoder_LSTM = model_tuned.layers[4]"
   ]
  },
  {
   "cell_type": "code",
   "execution_count": 27,
   "metadata": {},
   "outputs": [
    {
     "data": {
      "text/plain": [
       "<KerasTensor: shape=(None, 50, 21) dtype=float32 (created by layer 'aa')>"
      ]
     },
     "execution_count": 27,
     "metadata": {},
     "output_type": "execute_result"
    }
   ],
   "source": [
    "encoder_LSTM.input"
   ]
  },
  {
   "cell_type": "code",
   "execution_count": 19,
   "metadata": {
    "id": "iM2Cm4o-mpUB",
    "scrolled": true
   },
   "outputs": [],
   "source": [
    "weights = encoder_LSTM.get_weights()"
   ]
  },
  {
   "cell_type": "code",
   "execution_count": 20,
   "metadata": {
    "colab": {
     "base_uri": "https://localhost:8080/"
    },
    "id": "ZLMDUWWqol7X",
    "outputId": "2b4ccdda-90ae-4a6a-c8d3-ad063c5a578b",
    "scrolled": true
   },
   "outputs": [
    {
     "name": "stdout",
     "output_type": "stream",
     "text": [
      "(21, 200)\n",
      "(50, 200)\n",
      "(200,)\n"
     ]
    }
   ],
   "source": [
    "for W in weights:\n",
    "  print(W.shape)"
   ]
  },
  {
   "cell_type": "code",
   "execution_count": 22,
   "metadata": {},
   "outputs": [
    {
     "data": {
      "text/plain": [
       "<matplotlib.image.AxesImage at 0x7f451ff6fd00>"
      ]
     },
     "execution_count": 22,
     "metadata": {},
     "output_type": "execute_result"
    },
    {
     "data": {
      "image/png": "[encoded data removed]",
      "text/plain": [
       "<Figure size 640x480 with 1 Axes>"
      ]
     },
     "metadata": {},
     "output_type": "display_data"
    }
   ],
   "source": [
    "plt.imshow(weights[0])"
   ]
  },
  {
   "cell_type": "code",
   "execution_count": 24,
   "metadata": {},
   "outputs": [
    {
     "data": {
      "text/plain": [
       "<matplotlib.image.AxesImage at 0x7f45386902b0>"
      ]
     },
     "execution_count": 24,
     "metadata": {},
     "output_type": "execute_result"
    },
    {
     "data": {
      "image/png": "[encoded data removed]",
      "text/plain": [
       "<Figure size 640x480 with 1 Axes>"
      ]
     },
     "metadata": {},
     "output_type": "display_data"
    }
   ],
   "source": [
    "plt.imshow(weights[1])"
   ]
  },
  {
   "cell_type": "code",
   "execution_count": null,
   "metadata": {
    "colab": {
     "base_uri": "https://localhost:8080/",
     "height": 243
    },
    "id": "UboLUS1POpA4",
    "outputId": "ba09d94b-e92e-4cbc-e3b0-b7ac76b4dfcb"
   },
   "outputs": [
    {
     "ename": "IndexError",
     "evalue": "ignored",
     "output_type": "error",
     "traceback": [
      "\u001b[0;31m---------------------------------------------------------------------------\u001b[0m",
      "\u001b[0;31mIndexError\u001b[0m                                Traceback (most recent call last)",
      "\u001b[0;32m<ipython-input-9-4497d7d56153>\u001b[0m in \u001b[0;36m<module>\u001b[0;34m\u001b[0m\n\u001b[1;32m     12\u001b[0m \u001b[0mW_f\u001b[0m \u001b[0;34m=\u001b[0m \u001b[0mweights\u001b[0m\u001b[0;34m[\u001b[0m\u001b[0;36m1\u001b[0m\u001b[0;34m]\u001b[0m\u001b[0;34m\u001b[0m\u001b[0;34m\u001b[0m\u001b[0m\n\u001b[1;32m     13\u001b[0m \u001b[0mW_c\u001b[0m \u001b[0;34m=\u001b[0m \u001b[0mweights\u001b[0m\u001b[0;34m[\u001b[0m\u001b[0;36m2\u001b[0m\u001b[0;34m]\u001b[0m\u001b[0;34m\u001b[0m\u001b[0;34m\u001b[0m\u001b[0m\n\u001b[0;32m---> 14\u001b[0;31m \u001b[0mW_o\u001b[0m \u001b[0;34m=\u001b[0m \u001b[0mweights\u001b[0m\u001b[0;34m[\u001b[0m\u001b[0;36m3\u001b[0m\u001b[0;34m]\u001b[0m\u001b[0;34m\u001b[0m\u001b[0;34m\u001b[0m\u001b[0m\n\u001b[0m\u001b[1;32m     15\u001b[0m \u001b[0;34m\u001b[0m\u001b[0m\n\u001b[1;32m     16\u001b[0m \u001b[0;31m# Extract the bias vectors\u001b[0m\u001b[0;34m\u001b[0m\u001b[0;34m\u001b[0m\u001b[0;34m\u001b[0m\u001b[0m\n",
      "\u001b[0;31mIndexError\u001b[0m: list index out of range"
     ]
    }
   ],
   "source": [
    "# import matplotlib.pyplot as plt\n",
    "# # Extract the LSTM layer from the model\n",
    "# # lstm_layer = best_model.get_layer('lstm_1')\n",
    "# # encoder_LSTM = best_model.layers[3]\n",
    "\n",
    "\n",
    "\n",
    "# # Get the weights of the LSTM layer\n",
    "# weights = encoder_LSTM.get_weights()\n",
    "\n",
    "# # Extract the weight matrices\n",
    "# W_i = weights[0]\n",
    "# W_f = weights[1]\n",
    "# W_c = weights[2]\n",
    "# W_o = weights[3]\n",
    "\n",
    "# # Extract the bias vectors\n",
    "# b_i = weights[4]\n",
    "# b_f = weights[5]\n",
    "# b_c = weights[6]\n",
    "# b_o = weights[7]\n",
    "\n",
    "# # Visualize the correlations between time steps\n",
    "# fig, axs = plt.subplots(2, 2)\n",
    "# axs[0, 0].imshow(W_i)\n",
    "# axs[0, 0].set_title('W_i')\n",
    "# axs[0, 1].imshow(W_f)\n",
    "# axs[0, 1].set_title('W_f')\n",
    "# axs[1, 0].imshow(W_c)\n",
    "# axs[1, 0].set_title('W_c')\n",
    "# axs[1, 1].imshow(W_o)\n",
    "# axs[1, 1].set_title('W_o')\n",
    "# plt.show()\n"
   ]
  }
 ],
 "metadata": {
  "colab": {
   "provenance": []
  },
  "gpuClass": "standard",
  "kernelspec": {
   "display_name": "Python 3 (ipykernel)",
   "language": "python",
   "name": "python3"
  },
  "language_info": {
   "codemirror_mode": {
    "name": "ipython",
    "version": 3
   },
   "file_extension": ".py",
   "mimetype": "text/x-python",
   "name": "python",
   "nbconvert_exporter": "python",
   "pygments_lexer": "ipython3",
   "version": "3.10.8"
  }
 },
 "nbformat": 4,
 "nbformat_minor": 1
}
