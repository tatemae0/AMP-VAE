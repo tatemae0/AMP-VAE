{
 "cells": [
  {
   "cell_type": "code",
   "execution_count": null,
   "id": "a69c2c90",
   "metadata": {},
   "outputs": [],
   "source": [
    "import numpy as np\n",
    "import tensorflow as tf\n",
    "from tensorflow import keras\n",
    "from keras.layers import Layers, Dense, LSTM, Input\n"
   ]
  },
  {
   "cell_type": "markdown",
   "id": "a79ef8d8",
   "metadata": {},
   "source": [
    "### Defining Gaussian layer\n",
    "class Gaussian(Layers):\n",
    "    super.__init__()\n",
    "    def __init__(self.mu, self.sigma):\n",
    "    "
   ]
  },
  {
   "cell_type": "markdown",
   "id": "096b84b3",
   "metadata": {},
   "source": [
    "## Defining Model Architecture"
   ]
  }
 ],
 "metadata": {
  "kernelspec": {
   "display_name": "Python 3 (ipykernel)",
   "language": "python",
   "name": "python3"
  },
  "language_info": {
   "codemirror_mode": {
    "name": "ipython",
    "version": 3
   },
   "file_extension": ".py",
   "mimetype": "text/x-python",
   "name": "python",
   "nbconvert_exporter": "python",
   "pygments_lexer": "ipython3",
   "version": "3.10.6"
  }
 },
 "nbformat": 4,
 "nbformat_minor": 5
}
